{
 "cells": [
  {
   "cell_type": "code",
   "execution_count": null,
   "id": "18470a1c",
   "metadata": {},
   "outputs": [],
   "source": [
    "import pandas as pd\n",
    "from google.colab import drive\n",
    "import os\n",
    "import shutil"
   ]
  },
  {
   "cell_type": "code",
   "execution_count": null,
   "id": "988f6047",
   "metadata": {},
   "outputs": [],
   "source": [
    "\"\"\"drive.mount('/content/drive', force_remount=True)\n",
    "os.chdir('/content/drive/MyDrive/Colab Notebooks/preprocessed_images')\"\"\""
   ]
  },
  {
   "cell_type": "code",
   "execution_count": null,
   "id": "a452e3a4",
   "metadata": {},
   "outputs": [],
   "source": [
    "\"\"\"data = pd.read_csv(\"/content/drive/MyDrive/Colab Notebooks/preprocessed_images/df_binary.csv\")\n",
    "data.head()\"\"\""
   ]
  },
  {
   "cell_type": "code",
   "execution_count": null,
   "id": "0089275b",
   "metadata": {},
   "outputs": [],
   "source": [
    "# update the 'dest' folder and elif statement for each run\n",
    "\n",
    "data_path = '/content/drive/MyDrive/Colab Notebooks/preprocessed_images'\n",
    "dest = '/content/drive/MyDrive/Colab Notebooks/preprocessed_images/data/N vs A'\n",
    "for i , row in data.iterrows():\n",
    "  if row[\"labels\"] == \"['N']\":\n",
    "    source_file = os.path.join(data_path,row['filename'])\n",
    "    dest_file = os.path.join(dest,str(row['labels']).strip(\"[]'\"), row['filename'])\n",
    "    shutil.copy(source_file, dest_file)\n",
    "  elif row[\"labels\"] == \"['A']\":\n",
    "    source_file = os.path.join(data_path,row['filename'])\n",
    "    dest_file = os.path.join(dest,str(row['labels']).strip(\"[]'\"), row['filename'])\n",
    "    shutil.copy(source_file, dest_file)\n",
    "  else:\n",
    "    continue"
   ]
  },
  {
   "cell_type": "code",
   "execution_count": null,
   "id": "ae79e50d",
   "metadata": {},
   "outputs": [],
   "source": [
    "data_path = '/content/drive/MyDrive/Colab Notebooks/preprocessed_images'\n",
    "dest = '/content/drive/MyDrive/Colab Notebooks/preprocessed_images/data/N vs C'\n",
    "for i , row in data.iterrows():\n",
    "  if row[\"labels\"] == \"['N']\":\n",
    "    source_file = os.path.join(data_path,row['filename'])\n",
    "    dest_file = os.path.join(dest,str(row['labels']).strip(\"[]'\"), row['filename'])\n",
    "    shutil.copy(source_file, dest_file)\n",
    "  elif row[\"labels\"] == \"['C']\":\n",
    "    source_file = os.path.join(data_path,row['filename'])\n",
    "    dest_file = os.path.join(dest,str(row['labels']).strip(\"[]'\"), row['filename'])\n",
    "    shutil.copy(source_file, dest_file)\n",
    "  else:\n",
    "    continue"
   ]
  },
  {
   "cell_type": "code",
   "execution_count": null,
   "id": "9633a021",
   "metadata": {},
   "outputs": [],
   "source": [
    "data_path = '/content/drive/MyDrive/Colab Notebooks/preprocessed_images'\n",
    "dest = '/content/drive/MyDrive/Colab Notebooks/preprocessed_images/data/N vs D'\n",
    "for i , row in data.iterrows():\n",
    "  if row[\"labels\"] == \"['N']\":\n",
    "    source_file = os.path.join(data_path,row['filename'])\n",
    "    dest_file = os.path.join(dest,str(row['labels']).strip(\"[]'\"), row['filename'])\n",
    "    shutil.copy(source_file, dest_file)\n",
    "  elif row[\"labels\"] == \"['D']\":\n",
    "    source_file = os.path.join(data_path,row['filename'])\n",
    "    dest_file = os.path.join(dest,str(row['labels']).strip(\"[]'\"), row['filename'])\n",
    "    shutil.copy(source_file, dest_file)\n",
    "  else:\n",
    "    continue"
   ]
  },
  {
   "cell_type": "code",
   "execution_count": null,
   "id": "e926a3a6",
   "metadata": {},
   "outputs": [],
   "source": [
    "data_path = '/content/drive/MyDrive/Colab Notebooks/preprocessed_images'\n",
    "dest = '/content/drive/MyDrive/Colab Notebooks/preprocessed_images/data/N vs H'\n",
    "for i , row in data.iterrows():\n",
    "  if row[\"labels\"] == \"['N']\":\n",
    "    source_file = os.path.join(data_path,row['filename'])\n",
    "    dest_file = os.path.join(dest,str(row['labels']).strip(\"[]'\"), row['filename'])\n",
    "    shutil.copy(source_file, dest_file)\n",
    "  elif row[\"labels\"] == \"['H']\":\n",
    "    source_file = os.path.join(data_path,row['filename'])\n",
    "    dest_file = os.path.join(dest,str(row['labels']).strip(\"[]'\"), row['filename'])\n",
    "    shutil.copy(source_file, dest_file)\n",
    "  else:\n",
    "    continue"
   ]
  },
  {
   "cell_type": "code",
   "execution_count": null,
   "id": "00a4ad04",
   "metadata": {},
   "outputs": [],
   "source": [
    "data_path = '/content/drive/MyDrive/Colab Notebooks/preprocessed_images'\n",
    "dest = '/content/drive/MyDrive/Colab Notebooks/preprocessed_images/data/N vs M'\n",
    "for i , row in data.iterrows():\n",
    "  if row[\"labels\"] == \"['N']\":\n",
    "    source_file = os.path.join(data_path,row['filename'])\n",
    "    dest_file = os.path.join(dest,str(row['labels']).strip(\"[]'\"), row['filename'])\n",
    "    shutil.copy(source_file, dest_file)\n",
    "  elif row[\"labels\"] == \"['M']\":\n",
    "    source_file = os.path.join(data_path,row['filename'])\n",
    "    dest_file = os.path.join(dest,str(row['labels']).strip(\"[]'\"), row['filename'])\n",
    "    shutil.copy(source_file, dest_file)\n",
    "  else:\n",
    "    continue"
   ]
  },
  {
   "cell_type": "code",
   "execution_count": null,
   "id": "02646b9a",
   "metadata": {},
   "outputs": [],
   "source": [
    "data_path = '/content/drive/MyDrive/Colab Notebooks/preprocessed_images'\n",
    "dest = '/content/drive/MyDrive/Colab Notebooks/preprocessed_images/data/N vs O'\n",
    "for i , row in data.iterrows():\n",
    "  if row[\"labels\"] == \"['N']\":\n",
    "    source_file = os.path.join(data_path,row['filename'])\n",
    "    dest_file = os.path.join(dest,str(row['labels']).strip(\"[]'\"), row['filename'])\n",
    "    shutil.copy(source_file, dest_file)\n",
    "  elif row[\"labels\"] == \"['O']\":\n",
    "    source_file = os.path.join(data_path,row['filename'])\n",
    "    dest_file = os.path.join(dest,str(row['labels']).strip(\"[]'\"), row['filename'])\n",
    "    shutil.copy(source_file, dest_file)\n",
    "  else:\n",
    "    continue"
   ]
  }
 ],
 "metadata": {
  "kernelspec": {
   "display_name": "Python 3 (ipykernel)",
   "language": "python",
   "name": "python3"
  },
  "language_info": {
   "codemirror_mode": {
    "name": "ipython",
    "version": 3
   },
   "file_extension": ".py",
   "mimetype": "text/x-python",
   "name": "python",
   "nbconvert_exporter": "python",
   "pygments_lexer": "ipython3",
   "version": "3.10.6"
  },
  "toc": {
   "base_numbering": 1,
   "nav_menu": {},
   "number_sections": true,
   "sideBar": true,
   "skip_h1_title": false,
   "title_cell": "Table of Contents",
   "title_sidebar": "Contents",
   "toc_cell": false,
   "toc_position": {},
   "toc_section_display": true,
   "toc_window_display": false
  }
 },
 "nbformat": 4,
 "nbformat_minor": 5
}
