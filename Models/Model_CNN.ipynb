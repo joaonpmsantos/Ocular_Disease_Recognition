{
 "cells": [
  {
   "cell_type": "markdown",
   "id": "fb9e09e4",
   "metadata": {},
   "source": [
    "# Simple CNN Model"
   ]
  },
  {
   "cell_type": "markdown",
   "id": "8655bb93",
   "metadata": {},
   "source": [
    "## Import packages"
   ]
  },
  {
   "cell_type": "code",
   "execution_count": 37,
   "id": "d4fb92b5",
   "metadata": {},
   "outputs": [],
   "source": [
    "import pandas as pd\n",
    "import numpy as np\n",
    "import seaborn as sns\n",
    "import matplotlib.pyplot as plt\n",
    "import os\n",
    "import shutil\n",
    "from PIL import Image\n",
    "import tensorflow as tf\n",
    "from tensorflow.keras.utils import image_dataset_from_directory\n",
    "from tensorflow.keras import layers,models\n",
    "from tensorflow.keras.callbacks import EarlyStopping"
   ]
  },
  {
   "cell_type": "markdown",
   "id": "5f323068",
   "metadata": {},
   "source": [
    "## Import data"
   ]
  },
  {
   "cell_type": "code",
   "execution_count": 32,
   "id": "95c62684",
   "metadata": {},
   "outputs": [],
   "source": [
    "data = pd.read_csv(\"../Data_analysis/df_binary.csv\")"
   ]
  },
  {
   "cell_type": "code",
   "execution_count": 3,
   "id": "57668ed7",
   "metadata": {},
   "outputs": [
    {
     "data": {
      "text/html": [
       "<div>\n",
       "<style scoped>\n",
       "    .dataframe tbody tr th:only-of-type {\n",
       "        vertical-align: middle;\n",
       "    }\n",
       "\n",
       "    .dataframe tbody tr th {\n",
       "        vertical-align: top;\n",
       "    }\n",
       "\n",
       "    .dataframe thead th {\n",
       "        text-align: right;\n",
       "    }\n",
       "</style>\n",
       "<table border=\"1\" class=\"dataframe\">\n",
       "  <thead>\n",
       "    <tr style=\"text-align: right;\">\n",
       "      <th></th>\n",
       "      <th>Unnamed: 0</th>\n",
       "      <th>ID</th>\n",
       "      <th>Patient Age</th>\n",
       "      <th>Patient Sex</th>\n",
       "      <th>Left-Fundus</th>\n",
       "      <th>Right-Fundus</th>\n",
       "      <th>Left-Diagnostic Keywords</th>\n",
       "      <th>Right-Diagnostic Keywords</th>\n",
       "      <th>N</th>\n",
       "      <th>D</th>\n",
       "      <th>...</th>\n",
       "      <th>C</th>\n",
       "      <th>A</th>\n",
       "      <th>H</th>\n",
       "      <th>M</th>\n",
       "      <th>O</th>\n",
       "      <th>filepath</th>\n",
       "      <th>labels</th>\n",
       "      <th>target</th>\n",
       "      <th>filename</th>\n",
       "      <th>target_binary</th>\n",
       "    </tr>\n",
       "  </thead>\n",
       "  <tbody>\n",
       "    <tr>\n",
       "      <th>0</th>\n",
       "      <td>0</td>\n",
       "      <td>0</td>\n",
       "      <td>69</td>\n",
       "      <td>Female</td>\n",
       "      <td>0_left.jpg</td>\n",
       "      <td>0_right.jpg</td>\n",
       "      <td>cataract</td>\n",
       "      <td>normal fundus</td>\n",
       "      <td>0</td>\n",
       "      <td>0</td>\n",
       "      <td>...</td>\n",
       "      <td>1</td>\n",
       "      <td>0</td>\n",
       "      <td>0</td>\n",
       "      <td>0</td>\n",
       "      <td>0</td>\n",
       "      <td>../input/ocular-disease-recognition-odir5k/ODI...</td>\n",
       "      <td>['N']</td>\n",
       "      <td>[1, 0, 0, 0, 0, 0, 0, 0]</td>\n",
       "      <td>0_right.jpg</td>\n",
       "      <td>0</td>\n",
       "    </tr>\n",
       "    <tr>\n",
       "      <th>1</th>\n",
       "      <td>1</td>\n",
       "      <td>1</td>\n",
       "      <td>57</td>\n",
       "      <td>Male</td>\n",
       "      <td>1_left.jpg</td>\n",
       "      <td>1_right.jpg</td>\n",
       "      <td>normal fundus</td>\n",
       "      <td>normal fundus</td>\n",
       "      <td>1</td>\n",
       "      <td>0</td>\n",
       "      <td>...</td>\n",
       "      <td>0</td>\n",
       "      <td>0</td>\n",
       "      <td>0</td>\n",
       "      <td>0</td>\n",
       "      <td>0</td>\n",
       "      <td>../input/ocular-disease-recognition-odir5k/ODI...</td>\n",
       "      <td>['N']</td>\n",
       "      <td>[1, 0, 0, 0, 0, 0, 0, 0]</td>\n",
       "      <td>1_right.jpg</td>\n",
       "      <td>0</td>\n",
       "    </tr>\n",
       "    <tr>\n",
       "      <th>2</th>\n",
       "      <td>2</td>\n",
       "      <td>2</td>\n",
       "      <td>42</td>\n",
       "      <td>Male</td>\n",
       "      <td>2_left.jpg</td>\n",
       "      <td>2_right.jpg</td>\n",
       "      <td>laser spot，moderate non proliferative retinopathy</td>\n",
       "      <td>moderate non proliferative retinopathy</td>\n",
       "      <td>0</td>\n",
       "      <td>1</td>\n",
       "      <td>...</td>\n",
       "      <td>0</td>\n",
       "      <td>0</td>\n",
       "      <td>0</td>\n",
       "      <td>0</td>\n",
       "      <td>1</td>\n",
       "      <td>../input/ocular-disease-recognition-odir5k/ODI...</td>\n",
       "      <td>['D']</td>\n",
       "      <td>[0, 1, 0, 0, 0, 0, 0, 0]</td>\n",
       "      <td>2_right.jpg</td>\n",
       "      <td>1</td>\n",
       "    </tr>\n",
       "    <tr>\n",
       "      <th>3</th>\n",
       "      <td>3</td>\n",
       "      <td>4</td>\n",
       "      <td>53</td>\n",
       "      <td>Male</td>\n",
       "      <td>4_left.jpg</td>\n",
       "      <td>4_right.jpg</td>\n",
       "      <td>macular epiretinal membrane</td>\n",
       "      <td>mild nonproliferative retinopathy</td>\n",
       "      <td>0</td>\n",
       "      <td>1</td>\n",
       "      <td>...</td>\n",
       "      <td>0</td>\n",
       "      <td>0</td>\n",
       "      <td>0</td>\n",
       "      <td>0</td>\n",
       "      <td>1</td>\n",
       "      <td>../input/ocular-disease-recognition-odir5k/ODI...</td>\n",
       "      <td>['D']</td>\n",
       "      <td>[0, 1, 0, 0, 0, 0, 0, 0]</td>\n",
       "      <td>4_right.jpg</td>\n",
       "      <td>1</td>\n",
       "    </tr>\n",
       "    <tr>\n",
       "      <th>4</th>\n",
       "      <td>4</td>\n",
       "      <td>5</td>\n",
       "      <td>50</td>\n",
       "      <td>Female</td>\n",
       "      <td>5_left.jpg</td>\n",
       "      <td>5_right.jpg</td>\n",
       "      <td>moderate non proliferative retinopathy</td>\n",
       "      <td>moderate non proliferative retinopathy</td>\n",
       "      <td>0</td>\n",
       "      <td>1</td>\n",
       "      <td>...</td>\n",
       "      <td>0</td>\n",
       "      <td>0</td>\n",
       "      <td>0</td>\n",
       "      <td>0</td>\n",
       "      <td>0</td>\n",
       "      <td>../input/ocular-disease-recognition-odir5k/ODI...</td>\n",
       "      <td>['D']</td>\n",
       "      <td>[0, 1, 0, 0, 0, 0, 0, 0]</td>\n",
       "      <td>5_right.jpg</td>\n",
       "      <td>1</td>\n",
       "    </tr>\n",
       "  </tbody>\n",
       "</table>\n",
       "<p>5 rows × 21 columns</p>\n",
       "</div>"
      ],
      "text/plain": [
       "   Unnamed: 0  ID  Patient Age Patient Sex Left-Fundus Right-Fundus  \\\n",
       "0           0   0           69      Female  0_left.jpg  0_right.jpg   \n",
       "1           1   1           57        Male  1_left.jpg  1_right.jpg   \n",
       "2           2   2           42        Male  2_left.jpg  2_right.jpg   \n",
       "3           3   4           53        Male  4_left.jpg  4_right.jpg   \n",
       "4           4   5           50      Female  5_left.jpg  5_right.jpg   \n",
       "\n",
       "                            Left-Diagnostic Keywords  \\\n",
       "0                                           cataract   \n",
       "1                                      normal fundus   \n",
       "2  laser spot，moderate non proliferative retinopathy   \n",
       "3                        macular epiretinal membrane   \n",
       "4             moderate non proliferative retinopathy   \n",
       "\n",
       "                Right-Diagnostic Keywords  N  D  ...  C  A  H  M  O  \\\n",
       "0                           normal fundus  0  0  ...  1  0  0  0  0   \n",
       "1                           normal fundus  1  0  ...  0  0  0  0  0   \n",
       "2  moderate non proliferative retinopathy  0  1  ...  0  0  0  0  1   \n",
       "3       mild nonproliferative retinopathy  0  1  ...  0  0  0  0  1   \n",
       "4  moderate non proliferative retinopathy  0  1  ...  0  0  0  0  0   \n",
       "\n",
       "                                            filepath labels  \\\n",
       "0  ../input/ocular-disease-recognition-odir5k/ODI...  ['N']   \n",
       "1  ../input/ocular-disease-recognition-odir5k/ODI...  ['N']   \n",
       "2  ../input/ocular-disease-recognition-odir5k/ODI...  ['D']   \n",
       "3  ../input/ocular-disease-recognition-odir5k/ODI...  ['D']   \n",
       "4  ../input/ocular-disease-recognition-odir5k/ODI...  ['D']   \n",
       "\n",
       "                     target     filename target_binary  \n",
       "0  [1, 0, 0, 0, 0, 0, 0, 0]  0_right.jpg             0  \n",
       "1  [1, 0, 0, 0, 0, 0, 0, 0]  1_right.jpg             0  \n",
       "2  [0, 1, 0, 0, 0, 0, 0, 0]  2_right.jpg             1  \n",
       "3  [0, 1, 0, 0, 0, 0, 0, 0]  4_right.jpg             1  \n",
       "4  [0, 1, 0, 0, 0, 0, 0, 0]  5_right.jpg             1  \n",
       "\n",
       "[5 rows x 21 columns]"
      ]
     },
     "execution_count": 3,
     "metadata": {},
     "output_type": "execute_result"
    }
   ],
   "source": [
    "data.head()"
   ]
  },
  {
   "cell_type": "code",
   "execution_count": 34,
   "id": "263034d3",
   "metadata": {},
   "outputs": [],
   "source": [
    "source = \"../raw_data/preprocessed_images\"\n",
    "dest = \"../data\" \n",
    "\n",
    "for _, row in data.iterrows():\n",
    "    source_file = os.path.join(source,row['filename'])\n",
    "    dest_file = os.path.join(dest,str(row['target_binary']), row['filename'])\n",
    "    shutil.copy(source_file, dest_file)"
   ]
  },
  {
   "cell_type": "code",
   "execution_count": 39,
   "id": "120186b4",
   "metadata": {},
   "outputs": [],
   "source": [
    "import pathlib\n",
    "data_path = \"../data\"\n",
    "data_dir = pathlib.Path(data_path)"
   ]
  },
  {
   "cell_type": "code",
   "execution_count": 40,
   "id": "02265c1d",
   "metadata": {},
   "outputs": [],
   "source": [
    "#Define shape and batch_size\n",
    "shape = (512,512)\n",
    "batch_size = 32"
   ]
  },
  {
   "cell_type": "code",
   "execution_count": 48,
   "id": "ba2af45c",
   "metadata": {},
   "outputs": [
    {
     "name": "stdout",
     "output_type": "stream",
     "text": [
      "Found 6392 files belonging to 2 classes.\n",
      "Using 5114 files for training.\n"
     ]
    }
   ],
   "source": [
    "train_ds = image_dataset_from_directory(\n",
    "  data_dir,\n",
    "  validation_split=0.2,\n",
    "  subset=\"training\",\n",
    "  seed=123,\n",
    "  image_size=shape,\n",
    "  shuffle = True)"
   ]
  },
  {
   "cell_type": "code",
   "execution_count": 49,
   "id": "319f0cab",
   "metadata": {},
   "outputs": [
    {
     "name": "stdout",
     "output_type": "stream",
     "text": [
      "Found 6392 files belonging to 2 classes.\n",
      "Using 1278 files for validation.\n"
     ]
    }
   ],
   "source": [
    "val_ds = image_dataset_from_directory(\n",
    "  data_dir,\n",
    "  validation_split=0.2,\n",
    "  subset=\"validation\",\n",
    "  seed=123,\n",
    "  image_size=shape,\n",
    "  shuffle = True)"
   ]
  },
  {
   "cell_type": "code",
   "execution_count": 50,
   "id": "d2d06dee",
   "metadata": {},
   "outputs": [],
   "source": [
    "val_batches = tf.data.experimental.cardinality(val_ds)\n",
    "test_ds = val_ds.take((2*val_batches) // 3)\n",
    "val_ds = val_ds.skip((2*val_batches) // 3)"
   ]
  },
  {
   "cell_type": "code",
   "execution_count": 44,
   "id": "900d4238",
   "metadata": {},
   "outputs": [
    {
     "data": {
      "text/plain": [
       "<BatchDataset element_spec=(TensorSpec(shape=(None, 512, 512, 3), dtype=tf.float32, name=None), TensorSpec(shape=(None,), dtype=tf.int32, name=None))>"
      ]
     },
     "execution_count": 44,
     "metadata": {},
     "output_type": "execute_result"
    }
   ],
   "source": [
    "test_ds"
   ]
  },
  {
   "cell_type": "code",
   "execution_count": 43,
   "id": "2d87d3c2",
   "metadata": {},
   "outputs": [
    {
     "name": "stdout",
     "output_type": "stream",
     "text": [
      "['0', '1']\n"
     ]
    }
   ],
   "source": [
    "class_names = train_ds.class_names\n",
    "print(class_names)"
   ]
  },
  {
   "cell_type": "code",
   "execution_count": 4,
   "id": "c38ce872",
   "metadata": {},
   "outputs": [],
   "source": [
    "#data_path = \"../raw_data/preprocessed_images/\"\n",
    "#imgs = []\n",
    "#images_path = [elt for elt in os.listdir(data_path) if elt.find('.jpg')>0]\n",
    "#for file in data.filename:\n",
    "#    path = os.path.join(data_path, file)\n",
    "#    if os.path.exists(path):\n",
    "#        image = Image.open(path)\n",
    "#        imgs.append(np.array(image))"
   ]
  },
  {
   "cell_type": "code",
   "execution_count": 5,
   "id": "bb554241",
   "metadata": {},
   "outputs": [],
   "source": [
    "#X = np.array(imgs)\n",
    "#y = data['target_binary']"
   ]
  },
  {
   "cell_type": "code",
   "execution_count": 6,
   "id": "50742bd5",
   "metadata": {},
   "outputs": [
    {
     "data": {
      "text/plain": [
       "((6392, 512, 512, 3), (6392,))"
      ]
     },
     "execution_count": 6,
     "metadata": {},
     "output_type": "execute_result"
    }
   ],
   "source": [
    "#X.shape, y.shape"
   ]
  },
  {
   "cell_type": "code",
   "execution_count": 9,
   "id": "f6347ab0",
   "metadata": {},
   "outputs": [],
   "source": [
    "#split = int(len(imgs) /6.)\n",
    "#X_test, X_train = X[:split], X[split:]\n",
    "#y_test, y_train = y[:split], y[split:]"
   ]
  },
  {
   "cell_type": "code",
   "execution_count": 13,
   "id": "4b3c6ce9",
   "metadata": {},
   "outputs": [
    {
     "data": {
      "text/plain": [
       "((1065, 512, 512, 3), (1065,), (5327, 512, 512, 3), (5327,))"
      ]
     },
     "execution_count": 13,
     "metadata": {},
     "output_type": "execute_result"
    }
   ],
   "source": [
    "#X_test.shape, y_test.shape, X_train.shape, y_train.shape"
   ]
  },
  {
   "cell_type": "code",
   "execution_count": 18,
   "id": "ac9ed120",
   "metadata": {},
   "outputs": [],
   "source": [
    "#y_test = np.array(y_test).reshape(-1,1)\n",
    "#y_train = np.array(y_train).reshape(-1,1)"
   ]
  },
  {
   "cell_type": "code",
   "execution_count": 19,
   "id": "5763d9c9",
   "metadata": {},
   "outputs": [
    {
     "data": {
      "text/plain": [
       "((1065, 1), (5327, 1))"
      ]
     },
     "execution_count": 19,
     "metadata": {},
     "output_type": "execute_result"
    }
   ],
   "source": [
    "#y_test.shape, y_train.shape"
   ]
  },
  {
   "cell_type": "code",
   "execution_count": 28,
   "id": "e9551153",
   "metadata": {},
   "outputs": [
    {
     "data": {
      "text/plain": [
       "array([0, 1])"
      ]
     },
     "execution_count": 28,
     "metadata": {},
     "output_type": "execute_result"
    }
   ],
   "source": [
    "#np.unique(y_train)"
   ]
  },
  {
   "cell_type": "markdown",
   "id": "200b69cf",
   "metadata": {},
   "source": [
    "## CNN Model"
   ]
  },
  {
   "cell_type": "code",
   "execution_count": 45,
   "id": "b54d605a",
   "metadata": {},
   "outputs": [],
   "source": [
    "def load_own_model():\n",
    "    model = models.Sequential()\n",
    "    model.add(layers.Rescaling(1/255, input_shape = (512,512,3)))\n",
    "    model.add(layers.Conv2D(16, (5,5), activation=\"relu\", padding=\"same\", strides=(1,1) ))\n",
    "    model.add(layers.MaxPool2D(pool_size=(2,2)))\n",
    "    \n",
    "    model.add(layers.Conv2D(32, (4,4), activation=\"relu\", padding=\"same\", strides=(1,1) ))\n",
    "    model.add(layers.MaxPool2D(pool_size=(2,2)))\n",
    "    \n",
    "    model.add(layers.Conv2D(64, (3,3), activation=\"relu\", padding=\"same\", strides=(1,1) ))\n",
    "    model.add(layers.MaxPool2D(pool_size=(2,2)))\n",
    "    \n",
    "    model.add(layers.Flatten())\n",
    "    model.add(layers.Dense(126, activation=\"relu\"))\n",
    "    model.add(layers.Dense(1, activation=\"sigmoid\"))\n",
    "    \n",
    "    model.compile(optimizer=\"adam\",\n",
    "                loss=\"binary_crossentropy\",\n",
    "                metrics=[\"accuracy\"])\n",
    "    return model"
   ]
  },
  {
   "cell_type": "code",
   "execution_count": 51,
   "id": "ea9861a4",
   "metadata": {},
   "outputs": [
    {
     "name": "stdout",
     "output_type": "stream",
     "text": [
      "Epoch 1/100\n",
      "160/160 [==============================] - 443s 3s/step - loss: 0.7263 - accuracy: 0.5471 - val_loss: 0.6774 - val_accuracy: 0.5448\n",
      "Epoch 2/100\n",
      "160/160 [==============================] - 455s 3s/step - loss: 0.6803 - accuracy: 0.5637 - val_loss: 0.6808 - val_accuracy: 0.5628\n",
      "Epoch 3/100\n",
      "160/160 [==============================] - 436s 3s/step - loss: 0.6743 - accuracy: 0.5802 - val_loss: 0.6724 - val_accuracy: 0.5561\n",
      "Epoch 4/100\n",
      "160/160 [==============================] - 459s 3s/step - loss: 0.6756 - accuracy: 0.5856 - val_loss: 0.6820 - val_accuracy: 0.5762\n",
      "Epoch 5/100\n",
      "160/160 [==============================] - 433s 3s/step - loss: 0.6735 - accuracy: 0.5811 - val_loss: 0.6641 - val_accuracy: 0.6233\n",
      "Epoch 6/100\n",
      "160/160 [==============================] - 429s 3s/step - loss: 0.6709 - accuracy: 0.5843 - val_loss: 0.6680 - val_accuracy: 0.6054\n",
      "Epoch 7/100\n",
      "160/160 [==============================] - 419s 3s/step - loss: 0.6672 - accuracy: 0.5905 - val_loss: 0.6638 - val_accuracy: 0.5874\n",
      "Epoch 8/100\n",
      "160/160 [==============================] - 2400s 15s/step - loss: 0.6635 - accuracy: 0.6023 - val_loss: 0.6881 - val_accuracy: 0.5852\n",
      "Epoch 9/100\n",
      "160/160 [==============================] - 1377s 3s/step - loss: 0.6613 - accuracy: 0.6034 - val_loss: 0.6847 - val_accuracy: 0.5807\n",
      "Epoch 10/100\n",
      "160/160 [==============================] - 416s 3s/step - loss: 0.6576 - accuracy: 0.6052 - val_loss: 0.6675 - val_accuracy: 0.5964\n",
      "Epoch 11/100\n",
      "160/160 [==============================] - 412s 3s/step - loss: 0.6437 - accuracy: 0.6294 - val_loss: 0.6784 - val_accuracy: 0.5964\n",
      "Epoch 12/100\n",
      "160/160 [==============================] - 423s 3s/step - loss: 0.6195 - accuracy: 0.6568 - val_loss: 0.6905 - val_accuracy: 0.6368\n",
      "Epoch 13/100\n",
      "160/160 [==============================] - 420s 3s/step - loss: 0.5682 - accuracy: 0.6940 - val_loss: 0.7064 - val_accuracy: 0.6188\n",
      "Epoch 14/100\n",
      "160/160 [==============================] - 415s 3s/step - loss: 0.4853 - accuracy: 0.7536 - val_loss: 0.8508 - val_accuracy: 0.5740\n",
      "Epoch 15/100\n",
      "160/160 [==============================] - 422s 3s/step - loss: 0.4045 - accuracy: 0.8078 - val_loss: 1.1051 - val_accuracy: 0.5695\n",
      "Epoch 16/100\n",
      "160/160 [==============================] - 414s 3s/step - loss: 0.3153 - accuracy: 0.8598 - val_loss: 1.3220 - val_accuracy: 0.5785\n",
      "Epoch 17/100\n",
      "160/160 [==============================] - 578s 4s/step - loss: 0.2475 - accuracy: 0.8946 - val_loss: 1.5874 - val_accuracy: 0.5516\n",
      "Epoch 18/100\n",
      "160/160 [==============================] - 416s 3s/step - loss: 0.1888 - accuracy: 0.9212 - val_loss: 1.6995 - val_accuracy: 0.5583\n",
      "Epoch 19/100\n",
      "160/160 [==============================] - 418s 3s/step - loss: 0.1554 - accuracy: 0.9374 - val_loss: 1.4897 - val_accuracy: 0.5650\n",
      "Epoch 20/100\n",
      "160/160 [==============================] - 429s 3s/step - loss: 0.1083 - accuracy: 0.9607 - val_loss: 2.4072 - val_accuracy: 0.5269\n",
      "Epoch 21/100\n",
      "160/160 [==============================] - 420s 3s/step - loss: 0.0839 - accuracy: 0.9695 - val_loss: 2.5492 - val_accuracy: 0.5785\n",
      "Epoch 22/100\n",
      "160/160 [==============================] - 427s 3s/step - loss: 0.0736 - accuracy: 0.9769 - val_loss: 3.2179 - val_accuracy: 0.5583\n",
      "Epoch 23/100\n",
      "160/160 [==============================] - 427s 3s/step - loss: 0.0634 - accuracy: 0.9795 - val_loss: 2.6582 - val_accuracy: 0.5919\n",
      "Epoch 24/100\n",
      "160/160 [==============================] - 757s 5s/step - loss: 0.0615 - accuracy: 0.9806 - val_loss: 3.1057 - val_accuracy: 0.5740\n",
      "Epoch 25/100\n",
      "160/160 [==============================] - 415s 3s/step - loss: 0.0590 - accuracy: 0.9824 - val_loss: 3.2476 - val_accuracy: 0.5695\n",
      "Epoch 26/100\n",
      "160/160 [==============================] - 421s 3s/step - loss: 0.0505 - accuracy: 0.9861 - val_loss: 3.4879 - val_accuracy: 0.5538\n",
      "Epoch 27/100\n",
      "160/160 [==============================] - 419s 3s/step - loss: 0.0374 - accuracy: 0.9892 - val_loss: 3.8215 - val_accuracy: 0.5650\n"
     ]
    },
    {
     "data": {
      "text/plain": [
       "<keras.callbacks.History at 0x288c59f60>"
      ]
     },
     "execution_count": 51,
     "metadata": {},
     "output_type": "execute_result"
    }
   ],
   "source": [
    "model = load_own_model()\n",
    "model.fit(train_ds, epochs=100, batch_size=32, \n",
    "          validation_data=val_ds, callbacks=[EarlyStopping(patience=20, restore_best_weights=True)])"
   ]
  }
 ],
 "metadata": {
  "kernelspec": {
   "display_name": "Python 3 (ipykernel)",
   "language": "python",
   "name": "python3"
  },
  "language_info": {
   "codemirror_mode": {
    "name": "ipython",
    "version": 3
   },
   "file_extension": ".py",
   "mimetype": "text/x-python",
   "name": "python",
   "nbconvert_exporter": "python",
   "pygments_lexer": "ipython3",
   "version": "3.10.6"
  },
  "toc": {
   "base_numbering": 1,
   "nav_menu": {},
   "number_sections": true,
   "sideBar": true,
   "skip_h1_title": false,
   "title_cell": "Table of Contents",
   "title_sidebar": "Contents",
   "toc_cell": false,
   "toc_position": {},
   "toc_section_display": true,
   "toc_window_display": false
  }
 },
 "nbformat": 4,
 "nbformat_minor": 5
}
