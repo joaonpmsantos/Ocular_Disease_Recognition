{
  "nbformat": 4,
  "nbformat_minor": 0,
  "metadata": {
    "colab": {
      "provenance": []
    },
    "kernelspec": {
      "name": "python3",
      "display_name": "Python 3"
    },
    "language_info": {
      "name": "python"
    },
    "gpuClass": "standard",
    "widgets": {
      "application/vnd.jupyter.widget-state+json": {
        "e0080619b02f4ed781469e2955d7dc65": {
          "model_module": "@jupyter-widgets/controls",
          "model_name": "HBoxModel",
          "model_module_version": "1.5.0",
          "state": {
            "_dom_classes": [],
            "_model_module": "@jupyter-widgets/controls",
            "_model_module_version": "1.5.0",
            "_model_name": "HBoxModel",
            "_view_count": null,
            "_view_module": "@jupyter-widgets/controls",
            "_view_module_version": "1.5.0",
            "_view_name": "HBoxView",
            "box_style": "",
            "children": [
              "IPY_MODEL_02475ae223ab4f5a95f1dfb4c48305f0",
              "IPY_MODEL_ce2140e611384686bd0c153f83aa8fbb",
              "IPY_MODEL_d82407f947234d838ea169ebf236a607"
            ],
            "layout": "IPY_MODEL_b3f891dd4e07424b870fcd9b2a111ef6"
          }
        },
        "02475ae223ab4f5a95f1dfb4c48305f0": {
          "model_module": "@jupyter-widgets/controls",
          "model_name": "HTMLModel",
          "model_module_version": "1.5.0",
          "state": {
            "_dom_classes": [],
            "_model_module": "@jupyter-widgets/controls",
            "_model_module_version": "1.5.0",
            "_model_name": "HTMLModel",
            "_view_count": null,
            "_view_module": "@jupyter-widgets/controls",
            "_view_module_version": "1.5.0",
            "_view_name": "HTMLView",
            "description": "",
            "description_tooltip": null,
            "layout": "IPY_MODEL_66ebfc86c6924644858d16087a855686",
            "placeholder": "​",
            "style": "IPY_MODEL_8e8c8a2cce844a089543a1f5dd8ba378",
            "value": "100%"
          }
        },
        "ce2140e611384686bd0c153f83aa8fbb": {
          "model_module": "@jupyter-widgets/controls",
          "model_name": "FloatProgressModel",
          "model_module_version": "1.5.0",
          "state": {
            "_dom_classes": [],
            "_model_module": "@jupyter-widgets/controls",
            "_model_module_version": "1.5.0",
            "_model_name": "FloatProgressModel",
            "_view_count": null,
            "_view_module": "@jupyter-widgets/controls",
            "_view_module_version": "1.5.0",
            "_view_name": "ProgressView",
            "bar_style": "success",
            "description": "",
            "description_tooltip": null,
            "layout": "IPY_MODEL_f58343db04a04185889b786fe36efded",
            "max": 346328529,
            "min": 0,
            "orientation": "horizontal",
            "style": "IPY_MODEL_c70a4fd53c4d49b589c7844683d33688",
            "value": 346328529
          }
        },
        "d82407f947234d838ea169ebf236a607": {
          "model_module": "@jupyter-widgets/controls",
          "model_name": "HTMLModel",
          "model_module_version": "1.5.0",
          "state": {
            "_dom_classes": [],
            "_model_module": "@jupyter-widgets/controls",
            "_model_module_version": "1.5.0",
            "_model_name": "HTMLModel",
            "_view_count": null,
            "_view_module": "@jupyter-widgets/controls",
            "_view_module_version": "1.5.0",
            "_view_name": "HTMLView",
            "description": "",
            "description_tooltip": null,
            "layout": "IPY_MODEL_462d17987f704b75ad6d291e44e8375f",
            "placeholder": "​",
            "style": "IPY_MODEL_e371bbe2a4164fc1921af50c2ace7ef7",
            "value": " 330M/330M [00:05&lt;00:00, 71.2MB/s]"
          }
        },
        "b3f891dd4e07424b870fcd9b2a111ef6": {
          "model_module": "@jupyter-widgets/base",
          "model_name": "LayoutModel",
          "model_module_version": "1.2.0",
          "state": {
            "_model_module": "@jupyter-widgets/base",
            "_model_module_version": "1.2.0",
            "_model_name": "LayoutModel",
            "_view_count": null,
            "_view_module": "@jupyter-widgets/base",
            "_view_module_version": "1.2.0",
            "_view_name": "LayoutView",
            "align_content": null,
            "align_items": null,
            "align_self": null,
            "border": null,
            "bottom": null,
            "display": null,
            "flex": null,
            "flex_flow": null,
            "grid_area": null,
            "grid_auto_columns": null,
            "grid_auto_flow": null,
            "grid_auto_rows": null,
            "grid_column": null,
            "grid_gap": null,
            "grid_row": null,
            "grid_template_areas": null,
            "grid_template_columns": null,
            "grid_template_rows": null,
            "height": null,
            "justify_content": null,
            "justify_items": null,
            "left": null,
            "margin": null,
            "max_height": null,
            "max_width": null,
            "min_height": null,
            "min_width": null,
            "object_fit": null,
            "object_position": null,
            "order": null,
            "overflow": null,
            "overflow_x": null,
            "overflow_y": null,
            "padding": null,
            "right": null,
            "top": null,
            "visibility": null,
            "width": null
          }
        },
        "66ebfc86c6924644858d16087a855686": {
          "model_module": "@jupyter-widgets/base",
          "model_name": "LayoutModel",
          "model_module_version": "1.2.0",
          "state": {
            "_model_module": "@jupyter-widgets/base",
            "_model_module_version": "1.2.0",
            "_model_name": "LayoutModel",
            "_view_count": null,
            "_view_module": "@jupyter-widgets/base",
            "_view_module_version": "1.2.0",
            "_view_name": "LayoutView",
            "align_content": null,
            "align_items": null,
            "align_self": null,
            "border": null,
            "bottom": null,
            "display": null,
            "flex": null,
            "flex_flow": null,
            "grid_area": null,
            "grid_auto_columns": null,
            "grid_auto_flow": null,
            "grid_auto_rows": null,
            "grid_column": null,
            "grid_gap": null,
            "grid_row": null,
            "grid_template_areas": null,
            "grid_template_columns": null,
            "grid_template_rows": null,
            "height": null,
            "justify_content": null,
            "justify_items": null,
            "left": null,
            "margin": null,
            "max_height": null,
            "max_width": null,
            "min_height": null,
            "min_width": null,
            "object_fit": null,
            "object_position": null,
            "order": null,
            "overflow": null,
            "overflow_x": null,
            "overflow_y": null,
            "padding": null,
            "right": null,
            "top": null,
            "visibility": null,
            "width": null
          }
        },
        "8e8c8a2cce844a089543a1f5dd8ba378": {
          "model_module": "@jupyter-widgets/controls",
          "model_name": "DescriptionStyleModel",
          "model_module_version": "1.5.0",
          "state": {
            "_model_module": "@jupyter-widgets/controls",
            "_model_module_version": "1.5.0",
            "_model_name": "DescriptionStyleModel",
            "_view_count": null,
            "_view_module": "@jupyter-widgets/base",
            "_view_module_version": "1.2.0",
            "_view_name": "StyleView",
            "description_width": ""
          }
        },
        "f58343db04a04185889b786fe36efded": {
          "model_module": "@jupyter-widgets/base",
          "model_name": "LayoutModel",
          "model_module_version": "1.2.0",
          "state": {
            "_model_module": "@jupyter-widgets/base",
            "_model_module_version": "1.2.0",
            "_model_name": "LayoutModel",
            "_view_count": null,
            "_view_module": "@jupyter-widgets/base",
            "_view_module_version": "1.2.0",
            "_view_name": "LayoutView",
            "align_content": null,
            "align_items": null,
            "align_self": null,
            "border": null,
            "bottom": null,
            "display": null,
            "flex": null,
            "flex_flow": null,
            "grid_area": null,
            "grid_auto_columns": null,
            "grid_auto_flow": null,
            "grid_auto_rows": null,
            "grid_column": null,
            "grid_gap": null,
            "grid_row": null,
            "grid_template_areas": null,
            "grid_template_columns": null,
            "grid_template_rows": null,
            "height": null,
            "justify_content": null,
            "justify_items": null,
            "left": null,
            "margin": null,
            "max_height": null,
            "max_width": null,
            "min_height": null,
            "min_width": null,
            "object_fit": null,
            "object_position": null,
            "order": null,
            "overflow": null,
            "overflow_x": null,
            "overflow_y": null,
            "padding": null,
            "right": null,
            "top": null,
            "visibility": null,
            "width": null
          }
        },
        "c70a4fd53c4d49b589c7844683d33688": {
          "model_module": "@jupyter-widgets/controls",
          "model_name": "ProgressStyleModel",
          "model_module_version": "1.5.0",
          "state": {
            "_model_module": "@jupyter-widgets/controls",
            "_model_module_version": "1.5.0",
            "_model_name": "ProgressStyleModel",
            "_view_count": null,
            "_view_module": "@jupyter-widgets/base",
            "_view_module_version": "1.2.0",
            "_view_name": "StyleView",
            "bar_color": null,
            "description_width": ""
          }
        },
        "462d17987f704b75ad6d291e44e8375f": {
          "model_module": "@jupyter-widgets/base",
          "model_name": "LayoutModel",
          "model_module_version": "1.2.0",
          "state": {
            "_model_module": "@jupyter-widgets/base",
            "_model_module_version": "1.2.0",
            "_model_name": "LayoutModel",
            "_view_count": null,
            "_view_module": "@jupyter-widgets/base",
            "_view_module_version": "1.2.0",
            "_view_name": "LayoutView",
            "align_content": null,
            "align_items": null,
            "align_self": null,
            "border": null,
            "bottom": null,
            "display": null,
            "flex": null,
            "flex_flow": null,
            "grid_area": null,
            "grid_auto_columns": null,
            "grid_auto_flow": null,
            "grid_auto_rows": null,
            "grid_column": null,
            "grid_gap": null,
            "grid_row": null,
            "grid_template_areas": null,
            "grid_template_columns": null,
            "grid_template_rows": null,
            "height": null,
            "justify_content": null,
            "justify_items": null,
            "left": null,
            "margin": null,
            "max_height": null,
            "max_width": null,
            "min_height": null,
            "min_width": null,
            "object_fit": null,
            "object_position": null,
            "order": null,
            "overflow": null,
            "overflow_x": null,
            "overflow_y": null,
            "padding": null,
            "right": null,
            "top": null,
            "visibility": null,
            "width": null
          }
        },
        "e371bbe2a4164fc1921af50c2ace7ef7": {
          "model_module": "@jupyter-widgets/controls",
          "model_name": "DescriptionStyleModel",
          "model_module_version": "1.5.0",
          "state": {
            "_model_module": "@jupyter-widgets/controls",
            "_model_module_version": "1.5.0",
            "_model_name": "DescriptionStyleModel",
            "_view_count": null,
            "_view_module": "@jupyter-widgets/base",
            "_view_module_version": "1.2.0",
            "_view_name": "StyleView",
            "description_width": ""
          }
        }
      }
    }
  },
  "cells": [
    {
      "cell_type": "code",
      "execution_count": 2,
      "metadata": {
        "colab": {
          "base_uri": "https://localhost:8080/"
        },
        "id": "5zyEZikxK3jK",
        "outputId": "bbbccd0c-bdf3-476f-afe4-71fe2488b0e2"
      },
      "outputs": [
        {
          "output_type": "stream",
          "name": "stdout",
          "text": [
            "Mounted at /content/drive/\n"
          ]
        }
      ],
      "source": [
        "from google.colab import drive\n",
        "drive.mount('/content/drive/', force_remount=True)"
      ]
    },
    {
      "cell_type": "markdown",
      "source": [
        "# VIT Model"
      ],
      "metadata": {
        "id": "pgDXIKIsLEM7"
      }
    },
    {
      "cell_type": "markdown",
      "source": [
        "## Import packages"
      ],
      "metadata": {
        "id": "dF56A6O_LKgk"
      }
    },
    {
      "cell_type": "code",
      "source": [
        "import pandas as pd\n",
        "import numpy as np\n",
        "import seaborn as sns\n",
        "import matplotlib.pyplot as plt\n",
        "import os\n",
        "import shutil\n",
        "\n",
        "from tensorflow.keras.utils import image_dataset_from_directory\n",
        "from PIL import Image\n",
        "#import transformers\n",
        "\n",
        "import torch \n",
        "import torch.nn as nn\n",
        "import torch.nn.functional as F\n",
        "import torchvision.transforms as transforms \n",
        "import torchvision.models as models \n",
        "from torch.utils.data import DataLoader\n",
        "torch.manual_seed(46)"
      ],
      "metadata": {
        "colab": {
          "base_uri": "https://localhost:8080/"
        },
        "id": "OFIQ5teDLI0X",
        "outputId": "c5e2cceb-a7d7-4b4b-9001-350e5282a368"
      },
      "execution_count": 3,
      "outputs": [
        {
          "output_type": "execute_result",
          "data": {
            "text/plain": [
              "<torch._C.Generator at 0x7fb1a28f7450>"
            ]
          },
          "metadata": {},
          "execution_count": 3
        }
      ]
    },
    {
      "cell_type": "markdown",
      "source": [
        "## Import data with Pytorch"
      ],
      "metadata": {
        "id": "R8sjUntOMH9C"
      }
    },
    {
      "cell_type": "code",
      "source": [
        "data = pd.read_csv(\"/content/drive/MyDrive/Ocular_Disease_Recognition/raw_data/full_df.csv\")"
      ],
      "metadata": {
        "id": "uo5YdRuSML5p"
      },
      "execution_count": 4,
      "outputs": []
    },
    {
      "cell_type": "code",
      "source": [
        "data['target_binary'] = (data['labels'] != \"['N']\").astype('int')"
      ],
      "metadata": {
        "id": "GD4YZmvWMOVn"
      },
      "execution_count": 5,
      "outputs": []
    },
    {
      "cell_type": "code",
      "source": [
        "sns.histplot(data['target_binary'])"
      ],
      "metadata": {
        "colab": {
          "base_uri": "https://localhost:8080/",
          "height": 298
        },
        "id": "PP6_YI84SX9d",
        "outputId": "2830c261-2707-4b25-f767-e7ac57107eb3"
      },
      "execution_count": 5,
      "outputs": [
        {
          "output_type": "execute_result",
          "data": {
            "text/plain": [
              "<AxesSubplot:xlabel='target_binary', ylabel='Count'>"
            ]
          },
          "metadata": {},
          "execution_count": 5
        },
        {
          "output_type": "display_data",
          "data": {
            "text/plain": [
              "<Figure size 432x288 with 1 Axes>"
            ],
            "image/png": "[encoded data removed]"
          },
          "metadata": {
            "needs_background": "light"
          }
        }
      ]
    },
    {
      "cell_type": "code",
      "source": [
        "import pathlib\n",
        "data_path = \"/content/drive/MyDrive/Ocular_Disease_Recognition/data\"\n",
        "data_dir = pathlib.Path(data_path)"
      ],
      "metadata": {
        "id": "nWWMxVG-MWSe"
      },
      "execution_count": 4,
      "outputs": []
    },
    {
      "cell_type": "code",
      "source": [
        "transforms_pipeline = transforms.Compose([\n",
        "                                        transforms.Resize(256), # resize to smallest edge = 256\n",
        "                                        transforms.CenterCrop(224), # center crop 224 x 224\n",
        "                                        transforms.ToTensor(), # convert to tensor\n",
        "                                        #transforms.Lambda(lambda t: t/255) # normalize \n",
        "\n",
        "                    ])"
      ],
      "metadata": {
        "id": "l8z96POIXtGX"
      },
      "execution_count": 6,
      "outputs": []
    },
    {
      "cell_type": "code",
      "source": [
        "from torchvision import datasets, transforms\n",
        "dataset = datasets.ImageFolder(data_path, transform=transforms_pipeline)\n",
        "train_ds, test_ds = torch.utils.data.random_split(dataset, [5000, 1392])"
      ],
      "metadata": {
        "id": "1xbheO--UAJ3"
      },
      "execution_count": 19,
      "outputs": []
    },
    {
      "cell_type": "code",
      "source": [
        "train_dataloader = DataLoader(train_ds, batch_size=16, shuffle=False)\n",
        "test_dataloader = DataLoader(test_ds, batch_size=1, shuffle=False)"
      ],
      "metadata": {
        "id": "xHWERleoW-k1"
      },
      "execution_count": 20,
      "outputs": []
    },
    {
      "cell_type": "markdown",
      "source": [
        "## Model"
      ],
      "metadata": {
        "id": "0pzq4tttv4z1"
      }
    },
    {
      "cell_type": "code",
      "source": [
        "# check device\n",
        "\n",
        "device = 'cuda' if torch.cuda.is_available() else 'cpu'\n",
        "device"
      ],
      "metadata": {
        "colab": {
          "base_uri": "https://localhost:8080/",
          "height": 35
        },
        "id": "m2ucdVgSBWBR",
        "outputId": "f45efa4d-ed64-40c5-abe9-10574161a185"
      },
      "execution_count": 9,
      "outputs": [
        {
          "output_type": "execute_result",
          "data": {
            "text/plain": [
              "'cpu'"
            ],
            "application/vnd.google.colaboratory.intrinsic+json": {
              "type": "string"
            }
          },
          "metadata": {},
          "execution_count": 9
        }
      ]
    },
    {
      "cell_type": "code",
      "source": [
        "vit16 = models.vit_b_16(weights='IMAGENET1K_V1')"
      ],
      "metadata": {
        "id": "exZMzIcX_o-Y",
        "colab": {
          "base_uri": "https://localhost:8080/",
          "height": 67,
          "referenced_widgets": [
            "e0080619b02f4ed781469e2955d7dc65",
            "02475ae223ab4f5a95f1dfb4c48305f0",
            "ce2140e611384686bd0c153f83aa8fbb",
            "d82407f947234d838ea169ebf236a607",
            "b3f891dd4e07424b870fcd9b2a111ef6",
            "66ebfc86c6924644858d16087a855686",
            "8e8c8a2cce844a089543a1f5dd8ba378",
            "f58343db04a04185889b786fe36efded",
            "c70a4fd53c4d49b589c7844683d33688",
            "462d17987f704b75ad6d291e44e8375f",
            "e371bbe2a4164fc1921af50c2ace7ef7"
          ]
        },
        "outputId": "7b161178-53ba-4ba0-c159-d729158192e0"
      },
      "execution_count": 10,
      "outputs": [
        {
          "output_type": "stream",
          "name": "stderr",
          "text": [
            "Downloading: \"https://download.pytorch.org/models/vit_b_16-c867db91.pth\" to /root/.cache/torch/hub/checkpoints/vit_b_16-c867db91.pth\n"
          ]
        },
        {
          "output_type": "display_data",
          "data": {
            "text/plain": [
              "  0%|          | 0.00/330M [00:00<?, ?B/s]"
            ],
            "application/vnd.jupyter.widget-view+json": {
              "version_major": 2,
              "version_minor": 0,
              "model_id": "e0080619b02f4ed781469e2955d7dc65"
            }
          },
          "metadata": {}
        }
      ]
    },
    {
      "cell_type": "code",
      "source": [
        "# define model \n",
        "\n",
        "class Net(nn.Module):\n",
        "    def __init__(self, pre_trained_model, out_channels):\n",
        "        super().__init__()\n",
        "        self.pretrained_model = pre_trained_model\n",
        "        self.linear = nn.Linear(1000, out_channels)\n",
        "        #self.classifier = nn.Linear(100, 1)\n",
        "\n",
        "    def forward(self, x):\n",
        "        x = self.pretrained_model(x)\n",
        "        x = F.relu(x)\n",
        "        x = self.linear(x)\n",
        "        #logits = self.classifier(pooled_output)\n",
        "        return x"
      ],
      "metadata": {
        "id": "0s_X_WV-B0F_"
      },
      "execution_count": 11,
      "outputs": []
    },
    {
      "cell_type": "code",
      "source": [
        "# init my model \n",
        "\n",
        "model = Net(vit16, 1)"
      ],
      "metadata": {
        "id": "onwmADjrB27u"
      },
      "execution_count": 12,
      "outputs": []
    },
    {
      "cell_type": "code",
      "source": [
        "# some optimization variables\n",
        "\n",
        "criterion = nn.CrossEntropyLoss()\n",
        "optimizer = torch.optim.Adam(model.parameters(), lr=0.001)"
      ],
      "metadata": {
        "id": "FSMWG3pAB5tk"
      },
      "execution_count": 27,
      "outputs": []
    },
    {
      "cell_type": "code",
      "source": [
        "# define training function\n",
        "\n",
        "def train(epochs):\n",
        "    model.to(device)\n",
        "    for epoch in range(epochs):\n",
        "        print(f'Training epoch: {epoch + 1}..')\n",
        "        losses = []\n",
        "        for batch, (X, y) in enumerate(train_dataloader, start = 1):\n",
        "            X = X.to(device)\n",
        "            y = y.unsqueeze(1).float().to(device)\n",
        "            optimizer.zero_grad()\n",
        "            pred = model(X)\n",
        "            #print(pred)\n",
        "            loss = criterion(pred, y)\n",
        "            #losses.append(loss.item())\n",
        "            loss.backward()\n",
        "            optimizer.step()\n",
        "\n",
        "            if batch % 1 == 0:\n",
        "                print(f'Processed batch {batch}..')\n",
        "\n",
        "            # validate \n",
        "        with torch.no_grad():\n",
        "            print(f'Evaluating on val set..')\n",
        "            for Xv, yv in test_dataloader:\n",
        "                Xv = Xv.to(device)\n",
        "                yv = yv.unsqueeze(1).float().to(device)\n",
        "                predv = model(Xv)\n",
        "                lossv = criterion(predv, yv)\n",
        "                losses.append(lossv.item())\n",
        "        \n",
        "        print(\"Validation Loss: \", np.mean(losses))\n",
        "        print()"
      ],
      "metadata": {
        "id": "g8pnZG-3BRFa"
      },
      "execution_count": 31,
      "outputs": []
    },
    {
      "cell_type": "code",
      "source": [
        "train(5)"
      ],
      "metadata": {
        "colab": {
          "base_uri": "https://localhost:8080/",
          "height": 1000
        },
        "id": "_CxZ4yB0B_6L",
        "outputId": "1ddb38a4-28b9-44e8-fb1f-eed29bbf1e8d"
      },
      "execution_count": 32,
      "outputs": [
        {
          "output_type": "stream",
          "name": "stdout",
          "text": [
            "Training epoch: 1..\n",
            "tensor([[-0.1125],\n",
            "        [-0.3190],\n",
            "        [-0.4076],\n",
            "        [-0.0273],\n",
            "        [-0.0047],\n",
            "        [ 0.1504],\n",
            "        [-0.4266],\n",
            "        [-0.1190],\n",
            "        [ 0.0435],\n",
            "        [-0.2688],\n",
            "        [-0.1868],\n",
            "        [ 0.0524],\n",
            "        [-0.1069],\n",
            "        [-0.1718],\n",
            "        [ 0.0304],\n",
            "        [ 0.0509]], grad_fn=<AddmmBackward0>)\n",
            "Processed batch 1..\n",
            "tensor([[-0.3178],\n",
            "        [-0.3083],\n",
            "        [-0.3965],\n",
            "        [-0.1762],\n",
            "        [-0.3234],\n",
            "        [-0.4544],\n",
            "        [-0.2328],\n",
            "        [-0.2639],\n",
            "        [-0.1916],\n",
            "        [-0.0711],\n",
            "        [ 0.2275],\n",
            "        [-0.2042],\n",
            "        [-0.1492],\n",
            "        [-0.2909],\n",
            "        [-0.1437],\n",
            "        [-0.3479]], grad_fn=<AddmmBackward0>)\n",
            "Processed batch 2..\n",
            "tensor([[-0.2966],\n",
            "        [-0.3669],\n",
            "        [-0.3364],\n",
            "        [-0.2451],\n",
            "        [-0.0398],\n",
            "        [ 0.2827],\n",
            "        [-0.2094],\n",
            "        [-0.1915],\n",
            "        [-0.3108],\n",
            "        [-0.0043],\n",
            "        [-0.2244],\n",
            "        [ 0.0999],\n",
            "        [-0.0838],\n",
            "        [-0.2754],\n",
            "        [-0.0948],\n",
            "        [-0.4299]], grad_fn=<AddmmBackward0>)\n",
            "Processed batch 3..\n",
            "tensor([[-0.4170],\n",
            "        [-0.5355],\n",
            "        [-0.2008],\n",
            "        [-0.0637],\n",
            "        [-0.1544],\n",
            "        [-0.3063],\n",
            "        [ 0.1715],\n",
            "        [-0.2642],\n",
            "        [-0.5130],\n",
            "        [-0.0189],\n",
            "        [-0.2125],\n",
            "        [-0.5130],\n",
            "        [-0.2089],\n",
            "        [-0.2085],\n",
            "        [-0.2125],\n",
            "        [ 0.0450]], grad_fn=<AddmmBackward0>)\n",
            "Processed batch 4..\n",
            "tensor([[-0.2309],\n",
            "        [-0.0187],\n",
            "        [ 0.1710],\n",
            "        [-0.0214],\n",
            "        [-0.5229],\n",
            "        [-0.2232],\n",
            "        [-0.0350],\n",
            "        [-0.4283],\n",
            "        [-0.1040],\n",
            "        [-0.2157],\n",
            "        [ 0.3999],\n",
            "        [-0.1013],\n",
            "        [-0.1263],\n",
            "        [-0.1215],\n",
            "        [-0.1928],\n",
            "        [ 0.1442]], grad_fn=<AddmmBackward0>)\n",
            "Processed batch 5..\n",
            "tensor([[ 0.1261],\n",
            "        [-0.0916],\n",
            "        [-0.1737],\n",
            "        [-0.6053],\n",
            "        [-0.0920],\n",
            "        [-0.1104],\n",
            "        [-0.0464],\n",
            "        [-0.3394],\n",
            "        [-0.1795],\n",
            "        [-0.4304],\n",
            "        [-0.3587],\n",
            "        [-0.2650],\n",
            "        [-0.1132],\n",
            "        [-0.1823],\n",
            "        [-0.3358],\n",
            "        [-0.3496]], grad_fn=<AddmmBackward0>)\n",
            "Processed batch 6..\n",
            "tensor([[-0.1766],\n",
            "        [-0.3419],\n",
            "        [-0.1939],\n",
            "        [ 0.1115],\n",
            "        [-0.1993],\n",
            "        [-0.1336],\n",
            "        [-0.4368],\n",
            "        [-0.1178],\n",
            "        [-0.0405],\n",
            "        [ 0.1792],\n",
            "        [-0.2953],\n",
            "        [-0.0600],\n",
            "        [ 0.2947],\n",
            "        [ 0.0752],\n",
            "        [-0.1122],\n",
            "        [-0.3055]], grad_fn=<AddmmBackward0>)\n",
            "Processed batch 7..\n",
            "tensor([[-0.3059],\n",
            "        [ 0.0671],\n",
            "        [-0.0313],\n",
            "        [-0.4315],\n",
            "        [-0.1708],\n",
            "        [-0.0320],\n",
            "        [-0.0431],\n",
            "        [ 0.0074],\n",
            "        [-0.0926],\n",
            "        [-0.4237],\n",
            "        [-0.1419],\n",
            "        [-0.2232],\n",
            "        [-0.0579],\n",
            "        [-0.2065],\n",
            "        [-0.2082],\n",
            "        [-0.1800]], grad_fn=<AddmmBackward0>)\n",
            "Processed batch 8..\n",
            "tensor([[-0.0949],\n",
            "        [-0.0620],\n",
            "        [-0.1167],\n",
            "        [-0.1894],\n",
            "        [-0.1004],\n",
            "        [-0.2527],\n",
            "        [-0.1649],\n",
            "        [-0.2585],\n",
            "        [-0.0987],\n",
            "        [-0.0301],\n",
            "        [ 0.0436],\n",
            "        [-0.0169],\n",
            "        [-0.2269],\n",
            "        [ 0.1822],\n",
            "        [-0.5453],\n",
            "        [-0.1363]], grad_fn=<AddmmBackward0>)\n",
            "Processed batch 9..\n",
            "tensor([[-0.0197],\n",
            "        [-0.0172],\n",
            "        [-0.1292],\n",
            "        [ 0.0438],\n",
            "        [ 0.1208],\n",
            "        [-0.2541],\n",
            "        [-0.0297],\n",
            "        [-0.2763],\n",
            "        [-0.4864],\n",
            "        [-0.3668],\n",
            "        [-0.0206],\n",
            "        [-0.1872],\n",
            "        [-0.3687],\n",
            "        [-0.2527],\n",
            "        [-0.2348],\n",
            "        [-0.2602]], grad_fn=<AddmmBackward0>)\n",
            "Processed batch 10..\n",
            "tensor([[-0.2407],\n",
            "        [-0.0550],\n",
            "        [ 0.0221],\n",
            "        [-0.0442],\n",
            "        [-0.2621],\n",
            "        [-0.0576],\n",
            "        [ 0.0289],\n",
            "        [-0.0043],\n",
            "        [-0.2487],\n",
            "        [-0.1703],\n",
            "        [ 0.0096],\n",
            "        [ 0.0132],\n",
            "        [-0.1863],\n",
            "        [ 0.1504],\n",
            "        [ 0.4965],\n",
            "        [ 0.1158]], grad_fn=<AddmmBackward0>)\n",
            "Processed batch 11..\n",
            "tensor([[-0.2602],\n",
            "        [-0.1377],\n",
            "        [ 0.0118],\n",
            "        [-0.1922],\n",
            "        [-0.3560],\n",
            "        [-0.0688],\n",
            "        [ 0.0942],\n",
            "        [-0.1496],\n",
            "        [-0.3333],\n",
            "        [-0.1370],\n",
            "        [ 0.1761],\n",
            "        [ 0.0828],\n",
            "        [-0.0451],\n",
            "        [-0.1108],\n",
            "        [ 0.1511],\n",
            "        [-0.3418]], grad_fn=<AddmmBackward0>)\n",
            "Processed batch 12..\n",
            "tensor([[ 0.0798],\n",
            "        [-0.0194],\n",
            "        [-0.4412],\n",
            "        [-0.2676],\n",
            "        [ 0.2034],\n",
            "        [ 0.0089],\n",
            "        [ 0.1856],\n",
            "        [-0.0695],\n",
            "        [ 0.0307],\n",
            "        [ 0.0282],\n",
            "        [-0.3447],\n",
            "        [-0.1592],\n",
            "        [-0.2276],\n",
            "        [ 0.1472],\n",
            "        [-0.2968],\n",
            "        [-0.2961]], grad_fn=<AddmmBackward0>)\n",
            "Processed batch 13..\n",
            "tensor([[ 0.0241],\n",
            "        [-0.1169],\n",
            "        [-0.6600],\n",
            "        [ 0.1761],\n",
            "        [-0.1944],\n",
            "        [ 0.1770],\n",
            "        [ 0.2222],\n",
            "        [ 0.0300],\n",
            "        [-0.2024],\n",
            "        [ 0.1901],\n",
            "        [-0.2402],\n",
            "        [-0.1788],\n",
            "        [-0.3119],\n",
            "        [-0.2773],\n",
            "        [ 0.2073],\n",
            "        [-0.3303]], grad_fn=<AddmmBackward0>)\n",
            "Processed batch 14..\n",
            "tensor([[-0.3723],\n",
            "        [-0.2412],\n",
            "        [-0.1836],\n",
            "        [-0.2556],\n",
            "        [-0.3833],\n",
            "        [-0.0177],\n",
            "        [-0.4013],\n",
            "        [ 0.3015],\n",
            "        [-0.0709],\n",
            "        [-0.6386],\n",
            "        [-0.0991],\n",
            "        [-0.1080],\n",
            "        [-0.2948],\n",
            "        [-0.2886],\n",
            "        [ 0.0169],\n",
            "        [-0.3374]], grad_fn=<AddmmBackward0>)\n",
            "Processed batch 15..\n",
            "tensor([[-0.1659],\n",
            "        [-0.2163],\n",
            "        [-0.6157],\n",
            "        [ 0.0334],\n",
            "        [-0.1074],\n",
            "        [-0.1197],\n",
            "        [ 0.0572],\n",
            "        [-0.1884],\n",
            "        [ 0.1216],\n",
            "        [-0.2616],\n",
            "        [-0.4251],\n",
            "        [-0.3586],\n",
            "        [-0.4415],\n",
            "        [-0.0383],\n",
            "        [-0.1966],\n",
            "        [-0.2510]], grad_fn=<AddmmBackward0>)\n",
            "Processed batch 16..\n",
            "tensor([[-0.4896],\n",
            "        [-0.3098],\n",
            "        [-0.2723],\n",
            "        [-0.6359],\n",
            "        [-0.3351],\n",
            "        [ 0.0936],\n",
            "        [ 0.0090],\n",
            "        [ 0.0132],\n",
            "        [-0.0154],\n",
            "        [-0.2575],\n",
            "        [-0.2600],\n",
            "        [-0.1834],\n",
            "        [-0.4144],\n",
            "        [ 0.0457],\n",
            "        [-0.5187],\n",
            "        [-0.4174]], grad_fn=<AddmmBackward0>)\n",
            "Processed batch 17..\n",
            "tensor([[-0.3661],\n",
            "        [-0.1954],\n",
            "        [-0.0651],\n",
            "        [-0.0142],\n",
            "        [-0.3274],\n",
            "        [ 0.0181],\n",
            "        [-0.1201],\n",
            "        [-0.0747],\n",
            "        [-0.1480],\n",
            "        [-0.6074],\n",
            "        [-0.1179],\n",
            "        [-0.1802],\n",
            "        [-0.1732],\n",
            "        [ 0.0110],\n",
            "        [-0.1930],\n",
            "        [-0.1739]], grad_fn=<AddmmBackward0>)\n",
            "Processed batch 18..\n"
          ]
        },
        {
          "output_type": "error",
          "ename": "KeyboardInterrupt",
          "evalue": "ignored",
          "traceback": [
            "\u001b[0;31m---------------------------------------------------------------------------\u001b[0m",
            "\u001b[0;31mKeyboardInterrupt\u001b[0m                         Traceback (most recent call last)",
            "\u001b[0;32m<ipython-input-32-bcce4a81000f>\u001b[0m in \u001b[0;36m<module>\u001b[0;34m\u001b[0m\n\u001b[0;32m----> 1\u001b[0;31m \u001b[0mtrain\u001b[0m\u001b[0;34m(\u001b[0m\u001b[0;36m5\u001b[0m\u001b[0;34m)\u001b[0m\u001b[0;34m\u001b[0m\u001b[0;34m\u001b[0m\u001b[0m\n\u001b[0m",
            "\u001b[0;32m<ipython-input-31-358662bc6e80>\u001b[0m in \u001b[0;36mtrain\u001b[0;34m(epochs)\u001b[0m\n\u001b[1;32m      6\u001b[0m         \u001b[0mprint\u001b[0m\u001b[0;34m(\u001b[0m\u001b[0;34mf'Training epoch: {epoch + 1}..'\u001b[0m\u001b[0;34m)\u001b[0m\u001b[0;34m\u001b[0m\u001b[0;34m\u001b[0m\u001b[0m\n\u001b[1;32m      7\u001b[0m         \u001b[0mlosses\u001b[0m \u001b[0;34m=\u001b[0m \u001b[0;34m[\u001b[0m\u001b[0;34m]\u001b[0m\u001b[0;34m\u001b[0m\u001b[0;34m\u001b[0m\u001b[0m\n\u001b[0;32m----> 8\u001b[0;31m         \u001b[0;32mfor\u001b[0m \u001b[0mbatch\u001b[0m\u001b[0;34m,\u001b[0m \u001b[0;34m(\u001b[0m\u001b[0mX\u001b[0m\u001b[0;34m,\u001b[0m \u001b[0my\u001b[0m\u001b[0;34m)\u001b[0m \u001b[0;32min\u001b[0m \u001b[0menumerate\u001b[0m\u001b[0;34m(\u001b[0m\u001b[0mtrain_dataloader\u001b[0m\u001b[0;34m,\u001b[0m \u001b[0mstart\u001b[0m \u001b[0;34m=\u001b[0m \u001b[0;36m1\u001b[0m\u001b[0;34m)\u001b[0m\u001b[0;34m:\u001b[0m\u001b[0;34m\u001b[0m\u001b[0;34m\u001b[0m\u001b[0m\n\u001b[0m\u001b[1;32m      9\u001b[0m             \u001b[0mX\u001b[0m \u001b[0;34m=\u001b[0m \u001b[0mX\u001b[0m\u001b[0;34m.\u001b[0m\u001b[0mto\u001b[0m\u001b[0;34m(\u001b[0m\u001b[0mdevice\u001b[0m\u001b[0;34m)\u001b[0m\u001b[0;34m\u001b[0m\u001b[0;34m\u001b[0m\u001b[0m\n\u001b[1;32m     10\u001b[0m             \u001b[0my\u001b[0m \u001b[0;34m=\u001b[0m \u001b[0my\u001b[0m\u001b[0;34m.\u001b[0m\u001b[0munsqueeze\u001b[0m\u001b[0;34m(\u001b[0m\u001b[0;36m1\u001b[0m\u001b[0;34m)\u001b[0m\u001b[0;34m.\u001b[0m\u001b[0mfloat\u001b[0m\u001b[0;34m(\u001b[0m\u001b[0;34m)\u001b[0m\u001b[0;34m.\u001b[0m\u001b[0mto\u001b[0m\u001b[0;34m(\u001b[0m\u001b[0mdevice\u001b[0m\u001b[0;34m)\u001b[0m\u001b[0;34m\u001b[0m\u001b[0;34m\u001b[0m\u001b[0m\n",
            "\u001b[0;32m/usr/local/lib/python3.9/dist-packages/torch/utils/data/dataloader.py\u001b[0m in \u001b[0;36m__next__\u001b[0;34m(self)\u001b[0m\n\u001b[1;32m    626\u001b[0m                 \u001b[0;31m# TODO(https://github.com/pytorch/pytorch/issues/76750)\u001b[0m\u001b[0;34m\u001b[0m\u001b[0;34m\u001b[0m\u001b[0m\n\u001b[1;32m    627\u001b[0m                 \u001b[0mself\u001b[0m\u001b[0;34m.\u001b[0m\u001b[0m_reset\u001b[0m\u001b[0;34m(\u001b[0m\u001b[0;34m)\u001b[0m  \u001b[0;31m# type: ignore[call-arg]\u001b[0m\u001b[0;34m\u001b[0m\u001b[0;34m\u001b[0m\u001b[0m\n\u001b[0;32m--> 628\u001b[0;31m             \u001b[0mdata\u001b[0m \u001b[0;34m=\u001b[0m \u001b[0mself\u001b[0m\u001b[0;34m.\u001b[0m\u001b[0m_next_data\u001b[0m\u001b[0;34m(\u001b[0m\u001b[0;34m)\u001b[0m\u001b[0;34m\u001b[0m\u001b[0;34m\u001b[0m\u001b[0m\n\u001b[0m\u001b[1;32m    629\u001b[0m             \u001b[0mself\u001b[0m\u001b[0;34m.\u001b[0m\u001b[0m_num_yielded\u001b[0m \u001b[0;34m+=\u001b[0m \u001b[0;36m1\u001b[0m\u001b[0;34m\u001b[0m\u001b[0;34m\u001b[0m\u001b[0m\n\u001b[1;32m    630\u001b[0m             \u001b[0;32mif\u001b[0m \u001b[0mself\u001b[0m\u001b[0;34m.\u001b[0m\u001b[0m_dataset_kind\u001b[0m \u001b[0;34m==\u001b[0m \u001b[0m_DatasetKind\u001b[0m\u001b[0;34m.\u001b[0m\u001b[0mIterable\u001b[0m \u001b[0;32mand\u001b[0m\u001b[0;31m \u001b[0m\u001b[0;31m\\\u001b[0m\u001b[0;34m\u001b[0m\u001b[0;34m\u001b[0m\u001b[0m\n",
            "\u001b[0;32m/usr/local/lib/python3.9/dist-packages/torch/utils/data/dataloader.py\u001b[0m in \u001b[0;36m_next_data\u001b[0;34m(self)\u001b[0m\n\u001b[1;32m    669\u001b[0m     \u001b[0;32mdef\u001b[0m \u001b[0m_next_data\u001b[0m\u001b[0;34m(\u001b[0m\u001b[0mself\u001b[0m\u001b[0;34m)\u001b[0m\u001b[0;34m:\u001b[0m\u001b[0;34m\u001b[0m\u001b[0;34m\u001b[0m\u001b[0m\n\u001b[1;32m    670\u001b[0m         \u001b[0mindex\u001b[0m \u001b[0;34m=\u001b[0m \u001b[0mself\u001b[0m\u001b[0;34m.\u001b[0m\u001b[0m_next_index\u001b[0m\u001b[0;34m(\u001b[0m\u001b[0;34m)\u001b[0m  \u001b[0;31m# may raise StopIteration\u001b[0m\u001b[0;34m\u001b[0m\u001b[0;34m\u001b[0m\u001b[0m\n\u001b[0;32m--> 671\u001b[0;31m         \u001b[0mdata\u001b[0m \u001b[0;34m=\u001b[0m \u001b[0mself\u001b[0m\u001b[0;34m.\u001b[0m\u001b[0m_dataset_fetcher\u001b[0m\u001b[0;34m.\u001b[0m\u001b[0mfetch\u001b[0m\u001b[0;34m(\u001b[0m\u001b[0mindex\u001b[0m\u001b[0;34m)\u001b[0m  \u001b[0;31m# may raise StopIteration\u001b[0m\u001b[0;34m\u001b[0m\u001b[0;34m\u001b[0m\u001b[0m\n\u001b[0m\u001b[1;32m    672\u001b[0m         \u001b[0;32mif\u001b[0m \u001b[0mself\u001b[0m\u001b[0;34m.\u001b[0m\u001b[0m_pin_memory\u001b[0m\u001b[0;34m:\u001b[0m\u001b[0;34m\u001b[0m\u001b[0;34m\u001b[0m\u001b[0m\n\u001b[1;32m    673\u001b[0m             \u001b[0mdata\u001b[0m \u001b[0;34m=\u001b[0m \u001b[0m_utils\u001b[0m\u001b[0;34m.\u001b[0m\u001b[0mpin_memory\u001b[0m\u001b[0;34m.\u001b[0m\u001b[0mpin_memory\u001b[0m\u001b[0;34m(\u001b[0m\u001b[0mdata\u001b[0m\u001b[0;34m,\u001b[0m \u001b[0mself\u001b[0m\u001b[0;34m.\u001b[0m\u001b[0m_pin_memory_device\u001b[0m\u001b[0;34m)\u001b[0m\u001b[0;34m\u001b[0m\u001b[0;34m\u001b[0m\u001b[0m\n",
            "\u001b[0;32m/usr/local/lib/python3.9/dist-packages/torch/utils/data/_utils/fetch.py\u001b[0m in \u001b[0;36mfetch\u001b[0;34m(self, possibly_batched_index)\u001b[0m\n\u001b[1;32m     56\u001b[0m                 \u001b[0mdata\u001b[0m \u001b[0;34m=\u001b[0m \u001b[0mself\u001b[0m\u001b[0;34m.\u001b[0m\u001b[0mdataset\u001b[0m\u001b[0;34m.\u001b[0m\u001b[0m__getitems__\u001b[0m\u001b[0;34m(\u001b[0m\u001b[0mpossibly_batched_index\u001b[0m\u001b[0;34m)\u001b[0m\u001b[0;34m\u001b[0m\u001b[0;34m\u001b[0m\u001b[0m\n\u001b[1;32m     57\u001b[0m             \u001b[0;32melse\u001b[0m\u001b[0;34m:\u001b[0m\u001b[0;34m\u001b[0m\u001b[0;34m\u001b[0m\u001b[0m\n\u001b[0;32m---> 58\u001b[0;31m                 \u001b[0mdata\u001b[0m \u001b[0;34m=\u001b[0m \u001b[0;34m[\u001b[0m\u001b[0mself\u001b[0m\u001b[0;34m.\u001b[0m\u001b[0mdataset\u001b[0m\u001b[0;34m[\u001b[0m\u001b[0midx\u001b[0m\u001b[0;34m]\u001b[0m \u001b[0;32mfor\u001b[0m \u001b[0midx\u001b[0m \u001b[0;32min\u001b[0m \u001b[0mpossibly_batched_index\u001b[0m\u001b[0;34m]\u001b[0m\u001b[0;34m\u001b[0m\u001b[0;34m\u001b[0m\u001b[0m\n\u001b[0m\u001b[1;32m     59\u001b[0m         \u001b[0;32melse\u001b[0m\u001b[0;34m:\u001b[0m\u001b[0;34m\u001b[0m\u001b[0;34m\u001b[0m\u001b[0m\n\u001b[1;32m     60\u001b[0m             \u001b[0mdata\u001b[0m \u001b[0;34m=\u001b[0m \u001b[0mself\u001b[0m\u001b[0;34m.\u001b[0m\u001b[0mdataset\u001b[0m\u001b[0;34m[\u001b[0m\u001b[0mpossibly_batched_index\u001b[0m\u001b[0;34m]\u001b[0m\u001b[0;34m\u001b[0m\u001b[0;34m\u001b[0m\u001b[0m\n",
            "\u001b[0;32m/usr/local/lib/python3.9/dist-packages/torch/utils/data/_utils/fetch.py\u001b[0m in \u001b[0;36m<listcomp>\u001b[0;34m(.0)\u001b[0m\n\u001b[1;32m     56\u001b[0m                 \u001b[0mdata\u001b[0m \u001b[0;34m=\u001b[0m \u001b[0mself\u001b[0m\u001b[0;34m.\u001b[0m\u001b[0mdataset\u001b[0m\u001b[0;34m.\u001b[0m\u001b[0m__getitems__\u001b[0m\u001b[0;34m(\u001b[0m\u001b[0mpossibly_batched_index\u001b[0m\u001b[0;34m)\u001b[0m\u001b[0;34m\u001b[0m\u001b[0;34m\u001b[0m\u001b[0m\n\u001b[1;32m     57\u001b[0m             \u001b[0;32melse\u001b[0m\u001b[0;34m:\u001b[0m\u001b[0;34m\u001b[0m\u001b[0;34m\u001b[0m\u001b[0m\n\u001b[0;32m---> 58\u001b[0;31m                 \u001b[0mdata\u001b[0m \u001b[0;34m=\u001b[0m \u001b[0;34m[\u001b[0m\u001b[0mself\u001b[0m\u001b[0;34m.\u001b[0m\u001b[0mdataset\u001b[0m\u001b[0;34m[\u001b[0m\u001b[0midx\u001b[0m\u001b[0;34m]\u001b[0m \u001b[0;32mfor\u001b[0m \u001b[0midx\u001b[0m \u001b[0;32min\u001b[0m \u001b[0mpossibly_batched_index\u001b[0m\u001b[0;34m]\u001b[0m\u001b[0;34m\u001b[0m\u001b[0;34m\u001b[0m\u001b[0m\n\u001b[0m\u001b[1;32m     59\u001b[0m         \u001b[0;32melse\u001b[0m\u001b[0;34m:\u001b[0m\u001b[0;34m\u001b[0m\u001b[0;34m\u001b[0m\u001b[0m\n\u001b[1;32m     60\u001b[0m             \u001b[0mdata\u001b[0m \u001b[0;34m=\u001b[0m \u001b[0mself\u001b[0m\u001b[0;34m.\u001b[0m\u001b[0mdataset\u001b[0m\u001b[0;34m[\u001b[0m\u001b[0mpossibly_batched_index\u001b[0m\u001b[0;34m]\u001b[0m\u001b[0;34m\u001b[0m\u001b[0;34m\u001b[0m\u001b[0m\n",
            "\u001b[0;32m/usr/local/lib/python3.9/dist-packages/torch/utils/data/dataset.py\u001b[0m in \u001b[0;36m__getitem__\u001b[0;34m(self, idx)\u001b[0m\n\u001b[1;32m    293\u001b[0m         \u001b[0;32mif\u001b[0m \u001b[0misinstance\u001b[0m\u001b[0;34m(\u001b[0m\u001b[0midx\u001b[0m\u001b[0;34m,\u001b[0m \u001b[0mlist\u001b[0m\u001b[0;34m)\u001b[0m\u001b[0;34m:\u001b[0m\u001b[0;34m\u001b[0m\u001b[0;34m\u001b[0m\u001b[0m\n\u001b[1;32m    294\u001b[0m             \u001b[0;32mreturn\u001b[0m \u001b[0mself\u001b[0m\u001b[0;34m.\u001b[0m\u001b[0mdataset\u001b[0m\u001b[0;34m[\u001b[0m\u001b[0;34m[\u001b[0m\u001b[0mself\u001b[0m\u001b[0;34m.\u001b[0m\u001b[0mindices\u001b[0m\u001b[0;34m[\u001b[0m\u001b[0mi\u001b[0m\u001b[0;34m]\u001b[0m \u001b[0;32mfor\u001b[0m \u001b[0mi\u001b[0m \u001b[0;32min\u001b[0m \u001b[0midx\u001b[0m\u001b[0;34m]\u001b[0m\u001b[0;34m]\u001b[0m\u001b[0;34m\u001b[0m\u001b[0;34m\u001b[0m\u001b[0m\n\u001b[0;32m--> 295\u001b[0;31m         \u001b[0;32mreturn\u001b[0m \u001b[0mself\u001b[0m\u001b[0;34m.\u001b[0m\u001b[0mdataset\u001b[0m\u001b[0;34m[\u001b[0m\u001b[0mself\u001b[0m\u001b[0;34m.\u001b[0m\u001b[0mindices\u001b[0m\u001b[0;34m[\u001b[0m\u001b[0midx\u001b[0m\u001b[0;34m]\u001b[0m\u001b[0;34m]\u001b[0m\u001b[0;34m\u001b[0m\u001b[0;34m\u001b[0m\u001b[0m\n\u001b[0m\u001b[1;32m    296\u001b[0m \u001b[0;34m\u001b[0m\u001b[0m\n\u001b[1;32m    297\u001b[0m     \u001b[0;32mdef\u001b[0m \u001b[0m__len__\u001b[0m\u001b[0;34m(\u001b[0m\u001b[0mself\u001b[0m\u001b[0;34m)\u001b[0m\u001b[0;34m:\u001b[0m\u001b[0;34m\u001b[0m\u001b[0;34m\u001b[0m\u001b[0m\n",
            "\u001b[0;32m/usr/local/lib/python3.9/dist-packages/torchvision/datasets/folder.py\u001b[0m in \u001b[0;36m__getitem__\u001b[0;34m(self, index)\u001b[0m\n\u001b[1;32m    227\u001b[0m         \"\"\"\n\u001b[1;32m    228\u001b[0m         \u001b[0mpath\u001b[0m\u001b[0;34m,\u001b[0m \u001b[0mtarget\u001b[0m \u001b[0;34m=\u001b[0m \u001b[0mself\u001b[0m\u001b[0;34m.\u001b[0m\u001b[0msamples\u001b[0m\u001b[0;34m[\u001b[0m\u001b[0mindex\u001b[0m\u001b[0;34m]\u001b[0m\u001b[0;34m\u001b[0m\u001b[0;34m\u001b[0m\u001b[0m\n\u001b[0;32m--> 229\u001b[0;31m         \u001b[0msample\u001b[0m \u001b[0;34m=\u001b[0m \u001b[0mself\u001b[0m\u001b[0;34m.\u001b[0m\u001b[0mloader\u001b[0m\u001b[0;34m(\u001b[0m\u001b[0mpath\u001b[0m\u001b[0;34m)\u001b[0m\u001b[0;34m\u001b[0m\u001b[0;34m\u001b[0m\u001b[0m\n\u001b[0m\u001b[1;32m    230\u001b[0m         \u001b[0;32mif\u001b[0m \u001b[0mself\u001b[0m\u001b[0;34m.\u001b[0m\u001b[0mtransform\u001b[0m \u001b[0;32mis\u001b[0m \u001b[0;32mnot\u001b[0m \u001b[0;32mNone\u001b[0m\u001b[0;34m:\u001b[0m\u001b[0;34m\u001b[0m\u001b[0;34m\u001b[0m\u001b[0m\n\u001b[1;32m    231\u001b[0m             \u001b[0msample\u001b[0m \u001b[0;34m=\u001b[0m \u001b[0mself\u001b[0m\u001b[0;34m.\u001b[0m\u001b[0mtransform\u001b[0m\u001b[0;34m(\u001b[0m\u001b[0msample\u001b[0m\u001b[0;34m)\u001b[0m\u001b[0;34m\u001b[0m\u001b[0;34m\u001b[0m\u001b[0m\n",
            "\u001b[0;32m/usr/local/lib/python3.9/dist-packages/torchvision/datasets/folder.py\u001b[0m in \u001b[0;36mdefault_loader\u001b[0;34m(path)\u001b[0m\n\u001b[1;32m    266\u001b[0m         \u001b[0;32mreturn\u001b[0m \u001b[0maccimage_loader\u001b[0m\u001b[0;34m(\u001b[0m\u001b[0mpath\u001b[0m\u001b[0;34m)\u001b[0m\u001b[0;34m\u001b[0m\u001b[0;34m\u001b[0m\u001b[0m\n\u001b[1;32m    267\u001b[0m     \u001b[0;32melse\u001b[0m\u001b[0;34m:\u001b[0m\u001b[0;34m\u001b[0m\u001b[0;34m\u001b[0m\u001b[0m\n\u001b[0;32m--> 268\u001b[0;31m         \u001b[0;32mreturn\u001b[0m \u001b[0mpil_loader\u001b[0m\u001b[0;34m(\u001b[0m\u001b[0mpath\u001b[0m\u001b[0;34m)\u001b[0m\u001b[0;34m\u001b[0m\u001b[0;34m\u001b[0m\u001b[0m\n\u001b[0m\u001b[1;32m    269\u001b[0m \u001b[0;34m\u001b[0m\u001b[0m\n\u001b[1;32m    270\u001b[0m \u001b[0;34m\u001b[0m\u001b[0m\n",
            "\u001b[0;32m/usr/local/lib/python3.9/dist-packages/torchvision/datasets/folder.py\u001b[0m in \u001b[0;36mpil_loader\u001b[0;34m(path)\u001b[0m\n\u001b[1;32m    245\u001b[0m     \u001b[0;31m# open path as file to avoid ResourceWarning (https://github.com/python-pillow/Pillow/issues/835)\u001b[0m\u001b[0;34m\u001b[0m\u001b[0;34m\u001b[0m\u001b[0m\n\u001b[1;32m    246\u001b[0m     \u001b[0;32mwith\u001b[0m \u001b[0mopen\u001b[0m\u001b[0;34m(\u001b[0m\u001b[0mpath\u001b[0m\u001b[0;34m,\u001b[0m \u001b[0;34m\"rb\"\u001b[0m\u001b[0;34m)\u001b[0m \u001b[0;32mas\u001b[0m \u001b[0mf\u001b[0m\u001b[0;34m:\u001b[0m\u001b[0;34m\u001b[0m\u001b[0;34m\u001b[0m\u001b[0m\n\u001b[0;32m--> 247\u001b[0;31m         \u001b[0mimg\u001b[0m \u001b[0;34m=\u001b[0m \u001b[0mImage\u001b[0m\u001b[0;34m.\u001b[0m\u001b[0mopen\u001b[0m\u001b[0;34m(\u001b[0m\u001b[0mf\u001b[0m\u001b[0;34m)\u001b[0m\u001b[0;34m\u001b[0m\u001b[0;34m\u001b[0m\u001b[0m\n\u001b[0m\u001b[1;32m    248\u001b[0m         \u001b[0;32mreturn\u001b[0m \u001b[0mimg\u001b[0m\u001b[0;34m.\u001b[0m\u001b[0mconvert\u001b[0m\u001b[0;34m(\u001b[0m\u001b[0;34m\"RGB\"\u001b[0m\u001b[0;34m)\u001b[0m\u001b[0;34m\u001b[0m\u001b[0;34m\u001b[0m\u001b[0m\n\u001b[1;32m    249\u001b[0m \u001b[0;34m\u001b[0m\u001b[0m\n",
            "\u001b[0;32m/usr/local/lib/python3.9/dist-packages/PIL/Image.py\u001b[0m in \u001b[0;36mopen\u001b[0;34m(fp, mode, formats)\u001b[0m\n\u001b[1;32m   2982\u001b[0m         \u001b[0mexclusive_fp\u001b[0m \u001b[0;34m=\u001b[0m \u001b[0;32mTrue\u001b[0m\u001b[0;34m\u001b[0m\u001b[0;34m\u001b[0m\u001b[0m\n\u001b[1;32m   2983\u001b[0m \u001b[0;34m\u001b[0m\u001b[0m\n\u001b[0;32m-> 2984\u001b[0;31m     \u001b[0mprefix\u001b[0m \u001b[0;34m=\u001b[0m \u001b[0mfp\u001b[0m\u001b[0;34m.\u001b[0m\u001b[0mread\u001b[0m\u001b[0;34m(\u001b[0m\u001b[0;36m16\u001b[0m\u001b[0;34m)\u001b[0m\u001b[0;34m\u001b[0m\u001b[0;34m\u001b[0m\u001b[0m\n\u001b[0m\u001b[1;32m   2985\u001b[0m \u001b[0;34m\u001b[0m\u001b[0m\n\u001b[1;32m   2986\u001b[0m     \u001b[0mpreinit\u001b[0m\u001b[0;34m(\u001b[0m\u001b[0;34m)\u001b[0m\u001b[0;34m\u001b[0m\u001b[0;34m\u001b[0m\u001b[0m\n",
            "\u001b[0;31mKeyboardInterrupt\u001b[0m: "
          ]
        }
      ]
    }
  ]
}