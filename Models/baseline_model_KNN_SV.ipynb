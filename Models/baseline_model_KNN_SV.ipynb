{
  "cells": [
    {
      "cell_type": "code",
      "execution_count": 2,
      "metadata": {
        "id": "TMoTO_--OStL"
      },
      "outputs": [],
      "source": [
        "import pandas as pd\n",
        "import numpy as np\n",
        "import matplotlib.pyplot as plt\n",
        "import cv2\n",
        "\n",
        "import os\n",
        "from PIL import Image\n",
        "import shutil\n",
        "\n",
        "from sklearn.neighbors import KNeighborsClassifier\n",
        "from sklearn.model_selection import train_test_split\n",
        "from sklearn.model_selection import cross_val_score\n",
        "from sklearn.preprocessing import Normalizer\n"
      ]
    },
    {
      "cell_type": "code",
      "execution_count": null,
      "metadata": {
        "colab": {
          "base_uri": "https://localhost:8080/"
        },
        "id": "073N4x0X8IZ3",
        "outputId": "d3f2b1bd-42bb-46ea-ef43-0b15e23a50c9"
      },
      "outputs": [
        {
          "name": "stdout",
          "output_type": "stream",
          "text": [
            "/content/drive\n"
          ]
        }
      ],
      "source": [
        "!pwd"
      ]
    },
    {
      "cell_type": "code",
      "execution_count": null,
      "metadata": {
        "colab": {
          "base_uri": "https://localhost:8080/"
        },
        "id": "9UMXp4Km8vvh",
        "outputId": "f449dfc2-f395-43c6-8b47-f1904a6b4c9c"
      },
      "outputs": [
        {
          "name": "stdout",
          "output_type": "stream",
          "text": [
            "/content/drive/MyDrive\n"
          ]
        }
      ],
      "source": [
        "%cd MyDrive"
      ]
    },
    {
      "cell_type": "code",
      "execution_count": 2,
      "metadata": {
        "colab": {
          "base_uri": "https://localhost:8080/"
        },
        "id": "faYE_WBuqzC3",
        "outputId": "7b9cf765-95ed-41c4-cb89-4b467bfb3c29"
      },
      "outputs": [
        {
          "name": "stdout",
          "output_type": "stream",
          "text": [
            "Mounted at /content/drive\n"
          ]
        }
      ],
      "source": [
        "from google.colab import drive\n",
        "drive.mount('/content/drive',force_remount=True)\n",
        "\n",
        "\n",
        "# Put Colab in the context of this challenge\n",
        "import os\n",
        "\n",
        "# os.chdir allows you to change directories, like cd in the Terminal\n",
        "os.chdir('/content/drive/MyDrive/Project_Ocular_Disease/preprocessed_images')"
      ]
    },
    {
      "cell_type": "code",
      "execution_count": 3,
      "metadata": {
        "id": "-Dk_6EQgOl92"
      },
      "outputs": [],
      "source": [
        "data = pd.read_csv(\"/content/drive/MyDrive/Project_Ocular_Disease/df_binary.csv\")"
      ]
    },
    {
      "cell_type": "markdown",
      "metadata": {
        "id": "RsO8vU8cOHUO"
      },
      "source": []
    },
    {
      "cell_type": "code",
      "execution_count": null,
      "metadata": {
        "colab": {
          "base_uri": "https://localhost:8080/",
          "height": 612
        },
        "id": "X5zzmR9SOckx",
        "outputId": "53f72457-3411-4075-8f03-4f77676b2448"
      },
      "outputs": [
        {
          "data": {
            "text/html": [
              "\n",
              "  <div id=\"df-99d3daf7-5e51-43be-afa2-5e88249b4f31\">\n",
              "    <div class=\"colab-df-container\">\n",
              "      <div>\n",
              "<style scoped>\n",
              "    .dataframe tbody tr th:only-of-type {\n",
              "        vertical-align: middle;\n",
              "    }\n",
              "\n",
              "    .dataframe tbody tr th {\n",
              "        vertical-align: top;\n",
              "    }\n",
              "\n",
              "    .dataframe thead th {\n",
              "        text-align: right;\n",
              "    }\n",
              "</style>\n",
              "<table border=\"1\" class=\"dataframe\">\n",
              "  <thead>\n",
              "    <tr style=\"text-align: right;\">\n",
              "      <th></th>\n",
              "      <th>Unnamed: 0</th>\n",
              "      <th>ID</th>\n",
              "      <th>Patient Age</th>\n",
              "      <th>Patient Sex</th>\n",
              "      <th>Left-Fundus</th>\n",
              "      <th>Right-Fundus</th>\n",
              "      <th>Left-Diagnostic Keywords</th>\n",
              "      <th>Right-Diagnostic Keywords</th>\n",
              "      <th>N</th>\n",
              "      <th>D</th>\n",
              "      <th>...</th>\n",
              "      <th>C</th>\n",
              "      <th>A</th>\n",
              "      <th>H</th>\n",
              "      <th>M</th>\n",
              "      <th>O</th>\n",
              "      <th>filepath</th>\n",
              "      <th>labels</th>\n",
              "      <th>target</th>\n",
              "      <th>filename</th>\n",
              "      <th>target_binary</th>\n",
              "    </tr>\n",
              "  </thead>\n",
              "  <tbody>\n",
              "    <tr>\n",
              "      <th>0</th>\n",
              "      <td>0</td>\n",
              "      <td>0</td>\n",
              "      <td>69</td>\n",
              "      <td>Female</td>\n",
              "      <td>0_left.jpg</td>\n",
              "      <td>0_right.jpg</td>\n",
              "      <td>cataract</td>\n",
              "      <td>normal fundus</td>\n",
              "      <td>0</td>\n",
              "      <td>0</td>\n",
              "      <td>...</td>\n",
              "      <td>1</td>\n",
              "      <td>0</td>\n",
              "      <td>0</td>\n",
              "      <td>0</td>\n",
              "      <td>0</td>\n",
              "      <td>../input/ocular-disease-recognition-odir5k/ODI...</td>\n",
              "      <td>['N']</td>\n",
              "      <td>[1, 0, 0, 0, 0, 0, 0, 0]</td>\n",
              "      <td>0_right.jpg</td>\n",
              "      <td>0</td>\n",
              "    </tr>\n",
              "    <tr>\n",
              "      <th>1</th>\n",
              "      <td>1</td>\n",
              "      <td>1</td>\n",
              "      <td>57</td>\n",
              "      <td>Male</td>\n",
              "      <td>1_left.jpg</td>\n",
              "      <td>1_right.jpg</td>\n",
              "      <td>normal fundus</td>\n",
              "      <td>normal fundus</td>\n",
              "      <td>1</td>\n",
              "      <td>0</td>\n",
              "      <td>...</td>\n",
              "      <td>0</td>\n",
              "      <td>0</td>\n",
              "      <td>0</td>\n",
              "      <td>0</td>\n",
              "      <td>0</td>\n",
              "      <td>../input/ocular-disease-recognition-odir5k/ODI...</td>\n",
              "      <td>['N']</td>\n",
              "      <td>[1, 0, 0, 0, 0, 0, 0, 0]</td>\n",
              "      <td>1_right.jpg</td>\n",
              "      <td>0</td>\n",
              "    </tr>\n",
              "    <tr>\n",
              "      <th>2</th>\n",
              "      <td>2</td>\n",
              "      <td>2</td>\n",
              "      <td>42</td>\n",
              "      <td>Male</td>\n",
              "      <td>2_left.jpg</td>\n",
              "      <td>2_right.jpg</td>\n",
              "      <td>laser spot，moderate non proliferative retinopathy</td>\n",
              "      <td>moderate non proliferative retinopathy</td>\n",
              "      <td>0</td>\n",
              "      <td>1</td>\n",
              "      <td>...</td>\n",
              "      <td>0</td>\n",
              "      <td>0</td>\n",
              "      <td>0</td>\n",
              "      <td>0</td>\n",
              "      <td>1</td>\n",
              "      <td>../input/ocular-disease-recognition-odir5k/ODI...</td>\n",
              "      <td>['D']</td>\n",
              "      <td>[0, 1, 0, 0, 0, 0, 0, 0]</td>\n",
              "      <td>2_right.jpg</td>\n",
              "      <td>1</td>\n",
              "    </tr>\n",
              "    <tr>\n",
              "      <th>3</th>\n",
              "      <td>3</td>\n",
              "      <td>4</td>\n",
              "      <td>53</td>\n",
              "      <td>Male</td>\n",
              "      <td>4_left.jpg</td>\n",
              "      <td>4_right.jpg</td>\n",
              "      <td>macular epiretinal membrane</td>\n",
              "      <td>mild nonproliferative retinopathy</td>\n",
              "      <td>0</td>\n",
              "      <td>1</td>\n",
              "      <td>...</td>\n",
              "      <td>0</td>\n",
              "      <td>0</td>\n",
              "      <td>0</td>\n",
              "      <td>0</td>\n",
              "      <td>1</td>\n",
              "      <td>../input/ocular-disease-recognition-odir5k/ODI...</td>\n",
              "      <td>['D']</td>\n",
              "      <td>[0, 1, 0, 0, 0, 0, 0, 0]</td>\n",
              "      <td>4_right.jpg</td>\n",
              "      <td>1</td>\n",
              "    </tr>\n",
              "    <tr>\n",
              "      <th>4</th>\n",
              "      <td>4</td>\n",
              "      <td>5</td>\n",
              "      <td>50</td>\n",
              "      <td>Female</td>\n",
              "      <td>5_left.jpg</td>\n",
              "      <td>5_right.jpg</td>\n",
              "      <td>moderate non proliferative retinopathy</td>\n",
              "      <td>moderate non proliferative retinopathy</td>\n",
              "      <td>0</td>\n",
              "      <td>1</td>\n",
              "      <td>...</td>\n",
              "      <td>0</td>\n",
              "      <td>0</td>\n",
              "      <td>0</td>\n",
              "      <td>0</td>\n",
              "      <td>0</td>\n",
              "      <td>../input/ocular-disease-recognition-odir5k/ODI...</td>\n",
              "      <td>['D']</td>\n",
              "      <td>[0, 1, 0, 0, 0, 0, 0, 0]</td>\n",
              "      <td>5_right.jpg</td>\n",
              "      <td>1</td>\n",
              "    </tr>\n",
              "  </tbody>\n",
              "</table>\n",
              "<p>5 rows × 21 columns</p>\n",
              "</div>\n",
              "      <button class=\"colab-df-convert\" onclick=\"convertToInteractive('df-99d3daf7-5e51-43be-afa2-5e88249b4f31')\"\n",
              "              title=\"Convert this dataframe to an interactive table.\"\n",
              "              style=\"display:none;\">\n",
              "        \n",
              "  <svg xmlns=\"http://www.w3.org/2000/svg\" height=\"24px\"viewBox=\"0 0 24 24\"\n",
              "       width=\"24px\">\n",
              "    <path d=\"M0 0h24v24H0V0z\" fill=\"none\"/>\n",
              "    <path d=\"M18.56 5.44l.94 2.06.94-2.06 2.06-.94-2.06-.94-.94-2.06-.94 2.06-2.06.94zm-11 1L8.5 8.5l.94-2.06 2.06-.94-2.06-.94L8.5 2.5l-.94 2.06-2.06.94zm10 10l.94 2.06.94-2.06 2.06-.94-2.06-.94-.94-2.06-.94 2.06-2.06.94z\"/><path d=\"M17.41 7.96l-1.37-1.37c-.4-.4-.92-.59-1.43-.59-.52 0-1.04.2-1.43.59L10.3 9.45l-7.72 7.72c-.78.78-.78 2.05 0 2.83L4 21.41c.39.39.9.59 1.41.59.51 0 1.02-.2 1.41-.59l7.78-7.78 2.81-2.81c.8-.78.8-2.07 0-2.86zM5.41 20L4 18.59l7.72-7.72 1.47 1.35L5.41 20z\"/>\n",
              "  </svg>\n",
              "      </button>\n",
              "      \n",
              "  <style>\n",
              "    .colab-df-container {\n",
              "      display:flex;\n",
              "      flex-wrap:wrap;\n",
              "      gap: 12px;\n",
              "    }\n",
              "\n",
              "    .colab-df-convert {\n",
              "      background-color: #E8F0FE;\n",
              "      border: none;\n",
              "      border-radius: 50%;\n",
              "      cursor: pointer;\n",
              "      display: none;\n",
              "      fill: #1967D2;\n",
              "      height: 32px;\n",
              "      padding: 0 0 0 0;\n",
              "      width: 32px;\n",
              "    }\n",
              "\n",
              "    .colab-df-convert:hover {\n",
              "      background-color: #E2EBFA;\n",
              "      box-shadow: 0px 1px 2px rgba(60, 64, 67, 0.3), 0px 1px 3px 1px rgba(60, 64, 67, 0.15);\n",
              "      fill: #174EA6;\n",
              "    }\n",
              "\n",
              "    [theme=dark] .colab-df-convert {\n",
              "      background-color: #3B4455;\n",
              "      fill: #D2E3FC;\n",
              "    }\n",
              "\n",
              "    [theme=dark] .colab-df-convert:hover {\n",
              "      background-color: #434B5C;\n",
              "      box-shadow: 0px 1px 3px 1px rgba(0, 0, 0, 0.15);\n",
              "      filter: drop-shadow(0px 1px 2px rgba(0, 0, 0, 0.3));\n",
              "      fill: #FFFFFF;\n",
              "    }\n",
              "  </style>\n",
              "\n",
              "      <script>\n",
              "        const buttonEl =\n",
              "          document.querySelector('#df-99d3daf7-5e51-43be-afa2-5e88249b4f31 button.colab-df-convert');\n",
              "        buttonEl.style.display =\n",
              "          google.colab.kernel.accessAllowed ? 'block' : 'none';\n",
              "\n",
              "        async function convertToInteractive(key) {\n",
              "          const element = document.querySelector('#df-99d3daf7-5e51-43be-afa2-5e88249b4f31');\n",
              "          const dataTable =\n",
              "            await google.colab.kernel.invokeFunction('convertToInteractive',\n",
              "                                                     [key], {});\n",
              "          if (!dataTable) return;\n",
              "\n",
              "          const docLinkHtml = 'Like what you see? Visit the ' +\n",
              "            '<a target=\"_blank\" href=https://colab.research.google.com/notebooks/data_table.ipynb>data table notebook</a>'\n",
              "            + ' to learn more about interactive tables.';\n",
              "          element.innerHTML = '';\n",
              "          dataTable['output_type'] = 'display_data';\n",
              "          await google.colab.output.renderOutput(dataTable, element);\n",
              "          const docLink = document.createElement('div');\n",
              "          docLink.innerHTML = docLinkHtml;\n",
              "          element.appendChild(docLink);\n",
              "        }\n",
              "      </script>\n",
              "    </div>\n",
              "  </div>\n",
              "  "
            ],
            "text/plain": [
              "   Unnamed: 0  ID  Patient Age Patient Sex Left-Fundus Right-Fundus  \\\n",
              "0           0   0           69      Female  0_left.jpg  0_right.jpg   \n",
              "1           1   1           57        Male  1_left.jpg  1_right.jpg   \n",
              "2           2   2           42        Male  2_left.jpg  2_right.jpg   \n",
              "3           3   4           53        Male  4_left.jpg  4_right.jpg   \n",
              "4           4   5           50      Female  5_left.jpg  5_right.jpg   \n",
              "\n",
              "                            Left-Diagnostic Keywords  \\\n",
              "0                                           cataract   \n",
              "1                                      normal fundus   \n",
              "2  laser spot，moderate non proliferative retinopathy   \n",
              "3                        macular epiretinal membrane   \n",
              "4             moderate non proliferative retinopathy   \n",
              "\n",
              "                Right-Diagnostic Keywords  N  D  ...  C  A  H  M  O  \\\n",
              "0                           normal fundus  0  0  ...  1  0  0  0  0   \n",
              "1                           normal fundus  1  0  ...  0  0  0  0  0   \n",
              "2  moderate non proliferative retinopathy  0  1  ...  0  0  0  0  1   \n",
              "3       mild nonproliferative retinopathy  0  1  ...  0  0  0  0  1   \n",
              "4  moderate non proliferative retinopathy  0  1  ...  0  0  0  0  0   \n",
              "\n",
              "                                            filepath labels  \\\n",
              "0  ../input/ocular-disease-recognition-odir5k/ODI...  ['N']   \n",
              "1  ../input/ocular-disease-recognition-odir5k/ODI...  ['N']   \n",
              "2  ../input/ocular-disease-recognition-odir5k/ODI...  ['D']   \n",
              "3  ../input/ocular-disease-recognition-odir5k/ODI...  ['D']   \n",
              "4  ../input/ocular-disease-recognition-odir5k/ODI...  ['D']   \n",
              "\n",
              "                     target     filename target_binary  \n",
              "0  [1, 0, 0, 0, 0, 0, 0, 0]  0_right.jpg             0  \n",
              "1  [1, 0, 0, 0, 0, 0, 0, 0]  1_right.jpg             0  \n",
              "2  [0, 1, 0, 0, 0, 0, 0, 0]  2_right.jpg             1  \n",
              "3  [0, 1, 0, 0, 0, 0, 0, 0]  4_right.jpg             1  \n",
              "4  [0, 1, 0, 0, 0, 0, 0, 0]  5_right.jpg             1  \n",
              "\n",
              "[5 rows x 21 columns]"
            ]
          },
          "execution_count": 5,
          "metadata": {},
          "output_type": "execute_result"
        }
      ],
      "source": [
        "data.head()"
      ]
    },
    {
      "cell_type": "code",
      "execution_count": 4,
      "metadata": {
        "id": "s4ySvFKgxwiC"
      },
      "outputs": [],
      "source": [
        "image_folder = '/content/drive/MyDrive/Project_Ocular_Disease/preprocessed_images'\n",
        "\n",
        "\n",
        "# create an empty list to hold the image data\n",
        "X = []\n",
        "\n",
        "# iterate through each image file in the folder\n",
        "for filename in os.listdir(image_folder):\n",
        "    \n",
        "    # open the image file\n",
        "    img = cv2.imread(os.path.join(image_folder, filename))\n",
        "\n",
        "    # resize image\n",
        "    resized = cv2.resize(img, (299,299),interpolation=cv2.INTER_LINEAR).flatten()\n",
        "\n",
        "    # append the image array to the list\n",
        "    X.append(resized)"
      ]
    },
    {
      "cell_type": "code",
      "execution_count": 5,
      "metadata": {
        "id": "iZ9tLH5DyUzj"
      },
      "outputs": [],
      "source": [
        "y = data['target_binary']"
      ]
    },
    {
      "cell_type": "code",
      "execution_count": 6,
      "metadata": {
        "id": "NTYlXpu8yLXt"
      },
      "outputs": [],
      "source": [
        "X_train, X_test, y_train, y_test = train_test_split(X, y, test_size=0.30, random_state=0)"
      ]
    },
    {
      "cell_type": "code",
      "execution_count": 7,
      "metadata": {
        "id": "rQr2BJOt_iAy"
      },
      "outputs": [],
      "source": [
        "X_train = np.array(X_train)\n",
        "X_test = np.array(X_test)"
      ]
    },
    {
      "cell_type": "code",
      "execution_count": 8,
      "metadata": {
        "id": "QmO8uEj98vjC"
      },
      "outputs": [],
      "source": [
        "X_train_sample = X_train[:1000]"
      ]
    },
    {
      "cell_type": "code",
      "execution_count": 9,
      "metadata": {
        "id": "Hn6L62lK8924"
      },
      "outputs": [],
      "source": [
        "y_train_sample = y_train[:1000]"
      ]
    },
    {
      "cell_type": "code",
      "execution_count": 10,
      "metadata": {
        "colab": {
          "base_uri": "https://localhost:8080/"
        },
        "id": "zvXWCBaJF956",
        "outputId": "7bb598f6-b1eb-428d-e1e2-8df1b9c37a7f"
      },
      "outputs": [
        {
          "data": {
            "text/plain": [
              "(1000, 268203)"
            ]
          },
          "execution_count": 10,
          "metadata": {},
          "output_type": "execute_result"
        }
      ],
      "source": [
        "X_train_sample.shape"
      ]
    },
    {
      "cell_type": "code",
      "execution_count": 11,
      "metadata": {
        "id": "yIMdJ7bp9HV3"
      },
      "outputs": [],
      "source": [
        "X_train_sample_normalized = X_train_sample / 255"
      ]
    },
    {
      "cell_type": "code",
      "execution_count": 14,
      "metadata": {
        "colab": {
          "base_uri": "https://localhost:8080/"
        },
        "id": "Y8URvRxxzXWZ",
        "outputId": "50d2f126-e256-4480-871a-b0b679dbac4b"
      },
      "outputs": [
        {
          "data": {
            "text/plain": [
              "0.5409999999999999"
            ]
          },
          "execution_count": 14,
          "metadata": {},
          "output_type": "execute_result"
        }
      ],
      "source": [
        "base_model = KNeighborsClassifier()\n",
        "\n",
        "cv_res = cross_val_score(base_model, X_train_sample_normalized, y_train_sample)\n",
        "base_knn_score = cv_res.mean()\n",
        "base_knn_score"
      ]
    }
  ],
  "metadata": {
    "accelerator": "GPU",
    "colab": {
      "provenance": []
    },
    "gpuClass": "standard",
    "kernelspec": {
      "display_name": "Python 3",
      "name": "python3"
    },
    "language_info": {
      "name": "python"
    }
  },
  "nbformat": 4,
  "nbformat_minor": 0
}
