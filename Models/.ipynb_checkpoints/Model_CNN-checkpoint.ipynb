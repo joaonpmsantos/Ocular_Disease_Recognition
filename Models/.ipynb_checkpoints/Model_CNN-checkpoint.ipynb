{
 "cells": [
  {
   "cell_type": "markdown",
   "id": "fb9e09e4",
   "metadata": {},
   "source": [
    "# Simple CNN Model"
   ]
  },
  {
   "cell_type": "markdown",
   "id": "8655bb93",
   "metadata": {},
   "source": [
    "## Import packages"
   ]
  },
  {
   "cell_type": "code",
   "execution_count": 11,
   "id": "d4fb92b5",
   "metadata": {},
   "outputs": [],
   "source": [
    "import pandas as pd\n",
    "import numpy as np\n",
    "import seaborn as sns\n",
    "import matplotlib.pyplot as plt\n",
    "import os\n",
    "import shutil\n",
    "from PIL import Image\n",
    "import tensorflow\n",
    "from tensorflow.keras import layers,models\n",
    "from tensorflow.keras.callbacks import EarlyStopping"
   ]
  },
  {
   "cell_type": "markdown",
   "id": "5f323068",
   "metadata": {},
   "source": [
    "## Import data"
   ]
  },
  {
   "cell_type": "code",
   "execution_count": 2,
   "id": "95c62684",
   "metadata": {},
   "outputs": [],
   "source": [
    "data = pd.read_csv(\"../Data_analysis/df_binary.csv\")"
   ]
  },
  {
   "cell_type": "code",
   "execution_count": 3,
   "id": "57668ed7",
   "metadata": {},
   "outputs": [
    {
     "data": {
      "text/html": [
       "<div>\n",
       "<style scoped>\n",
       "    .dataframe tbody tr th:only-of-type {\n",
       "        vertical-align: middle;\n",
       "    }\n",
       "\n",
       "    .dataframe tbody tr th {\n",
       "        vertical-align: top;\n",
       "    }\n",
       "\n",
       "    .dataframe thead th {\n",
       "        text-align: right;\n",
       "    }\n",
       "</style>\n",
       "<table border=\"1\" class=\"dataframe\">\n",
       "  <thead>\n",
       "    <tr style=\"text-align: right;\">\n",
       "      <th></th>\n",
       "      <th>Unnamed: 0</th>\n",
       "      <th>ID</th>\n",
       "      <th>Patient Age</th>\n",
       "      <th>Patient Sex</th>\n",
       "      <th>Left-Fundus</th>\n",
       "      <th>Right-Fundus</th>\n",
       "      <th>Left-Diagnostic Keywords</th>\n",
       "      <th>Right-Diagnostic Keywords</th>\n",
       "      <th>N</th>\n",
       "      <th>D</th>\n",
       "      <th>...</th>\n",
       "      <th>C</th>\n",
       "      <th>A</th>\n",
       "      <th>H</th>\n",
       "      <th>M</th>\n",
       "      <th>O</th>\n",
       "      <th>filepath</th>\n",
       "      <th>labels</th>\n",
       "      <th>target</th>\n",
       "      <th>filename</th>\n",
       "      <th>target_binary</th>\n",
       "    </tr>\n",
       "  </thead>\n",
       "  <tbody>\n",
       "    <tr>\n",
       "      <th>0</th>\n",
       "      <td>0</td>\n",
       "      <td>0</td>\n",
       "      <td>69</td>\n",
       "      <td>Female</td>\n",
       "      <td>0_left.jpg</td>\n",
       "      <td>0_right.jpg</td>\n",
       "      <td>cataract</td>\n",
       "      <td>normal fundus</td>\n",
       "      <td>0</td>\n",
       "      <td>0</td>\n",
       "      <td>...</td>\n",
       "      <td>1</td>\n",
       "      <td>0</td>\n",
       "      <td>0</td>\n",
       "      <td>0</td>\n",
       "      <td>0</td>\n",
       "      <td>../input/ocular-disease-recognition-odir5k/ODI...</td>\n",
       "      <td>['N']</td>\n",
       "      <td>[1, 0, 0, 0, 0, 0, 0, 0]</td>\n",
       "      <td>0_right.jpg</td>\n",
       "      <td>0</td>\n",
       "    </tr>\n",
       "    <tr>\n",
       "      <th>1</th>\n",
       "      <td>1</td>\n",
       "      <td>1</td>\n",
       "      <td>57</td>\n",
       "      <td>Male</td>\n",
       "      <td>1_left.jpg</td>\n",
       "      <td>1_right.jpg</td>\n",
       "      <td>normal fundus</td>\n",
       "      <td>normal fundus</td>\n",
       "      <td>1</td>\n",
       "      <td>0</td>\n",
       "      <td>...</td>\n",
       "      <td>0</td>\n",
       "      <td>0</td>\n",
       "      <td>0</td>\n",
       "      <td>0</td>\n",
       "      <td>0</td>\n",
       "      <td>../input/ocular-disease-recognition-odir5k/ODI...</td>\n",
       "      <td>['N']</td>\n",
       "      <td>[1, 0, 0, 0, 0, 0, 0, 0]</td>\n",
       "      <td>1_right.jpg</td>\n",
       "      <td>0</td>\n",
       "    </tr>\n",
       "    <tr>\n",
       "      <th>2</th>\n",
       "      <td>2</td>\n",
       "      <td>2</td>\n",
       "      <td>42</td>\n",
       "      <td>Male</td>\n",
       "      <td>2_left.jpg</td>\n",
       "      <td>2_right.jpg</td>\n",
       "      <td>laser spot，moderate non proliferative retinopathy</td>\n",
       "      <td>moderate non proliferative retinopathy</td>\n",
       "      <td>0</td>\n",
       "      <td>1</td>\n",
       "      <td>...</td>\n",
       "      <td>0</td>\n",
       "      <td>0</td>\n",
       "      <td>0</td>\n",
       "      <td>0</td>\n",
       "      <td>1</td>\n",
       "      <td>../input/ocular-disease-recognition-odir5k/ODI...</td>\n",
       "      <td>['D']</td>\n",
       "      <td>[0, 1, 0, 0, 0, 0, 0, 0]</td>\n",
       "      <td>2_right.jpg</td>\n",
       "      <td>1</td>\n",
       "    </tr>\n",
       "    <tr>\n",
       "      <th>3</th>\n",
       "      <td>3</td>\n",
       "      <td>4</td>\n",
       "      <td>53</td>\n",
       "      <td>Male</td>\n",
       "      <td>4_left.jpg</td>\n",
       "      <td>4_right.jpg</td>\n",
       "      <td>macular epiretinal membrane</td>\n",
       "      <td>mild nonproliferative retinopathy</td>\n",
       "      <td>0</td>\n",
       "      <td>1</td>\n",
       "      <td>...</td>\n",
       "      <td>0</td>\n",
       "      <td>0</td>\n",
       "      <td>0</td>\n",
       "      <td>0</td>\n",
       "      <td>1</td>\n",
       "      <td>../input/ocular-disease-recognition-odir5k/ODI...</td>\n",
       "      <td>['D']</td>\n",
       "      <td>[0, 1, 0, 0, 0, 0, 0, 0]</td>\n",
       "      <td>4_right.jpg</td>\n",
       "      <td>1</td>\n",
       "    </tr>\n",
       "    <tr>\n",
       "      <th>4</th>\n",
       "      <td>4</td>\n",
       "      <td>5</td>\n",
       "      <td>50</td>\n",
       "      <td>Female</td>\n",
       "      <td>5_left.jpg</td>\n",
       "      <td>5_right.jpg</td>\n",
       "      <td>moderate non proliferative retinopathy</td>\n",
       "      <td>moderate non proliferative retinopathy</td>\n",
       "      <td>0</td>\n",
       "      <td>1</td>\n",
       "      <td>...</td>\n",
       "      <td>0</td>\n",
       "      <td>0</td>\n",
       "      <td>0</td>\n",
       "      <td>0</td>\n",
       "      <td>0</td>\n",
       "      <td>../input/ocular-disease-recognition-odir5k/ODI...</td>\n",
       "      <td>['D']</td>\n",
       "      <td>[0, 1, 0, 0, 0, 0, 0, 0]</td>\n",
       "      <td>5_right.jpg</td>\n",
       "      <td>1</td>\n",
       "    </tr>\n",
       "  </tbody>\n",
       "</table>\n",
       "<p>5 rows × 21 columns</p>\n",
       "</div>"
      ],
      "text/plain": [
       "   Unnamed: 0  ID  Patient Age Patient Sex Left-Fundus Right-Fundus  \\\n",
       "0           0   0           69      Female  0_left.jpg  0_right.jpg   \n",
       "1           1   1           57        Male  1_left.jpg  1_right.jpg   \n",
       "2           2   2           42        Male  2_left.jpg  2_right.jpg   \n",
       "3           3   4           53        Male  4_left.jpg  4_right.jpg   \n",
       "4           4   5           50      Female  5_left.jpg  5_right.jpg   \n",
       "\n",
       "                            Left-Diagnostic Keywords  \\\n",
       "0                                           cataract   \n",
       "1                                      normal fundus   \n",
       "2  laser spot，moderate non proliferative retinopathy   \n",
       "3                        macular epiretinal membrane   \n",
       "4             moderate non proliferative retinopathy   \n",
       "\n",
       "                Right-Diagnostic Keywords  N  D  ...  C  A  H  M  O  \\\n",
       "0                           normal fundus  0  0  ...  1  0  0  0  0   \n",
       "1                           normal fundus  1  0  ...  0  0  0  0  0   \n",
       "2  moderate non proliferative retinopathy  0  1  ...  0  0  0  0  1   \n",
       "3       mild nonproliferative retinopathy  0  1  ...  0  0  0  0  1   \n",
       "4  moderate non proliferative retinopathy  0  1  ...  0  0  0  0  0   \n",
       "\n",
       "                                            filepath labels  \\\n",
       "0  ../input/ocular-disease-recognition-odir5k/ODI...  ['N']   \n",
       "1  ../input/ocular-disease-recognition-odir5k/ODI...  ['N']   \n",
       "2  ../input/ocular-disease-recognition-odir5k/ODI...  ['D']   \n",
       "3  ../input/ocular-disease-recognition-odir5k/ODI...  ['D']   \n",
       "4  ../input/ocular-disease-recognition-odir5k/ODI...  ['D']   \n",
       "\n",
       "                     target     filename target_binary  \n",
       "0  [1, 0, 0, 0, 0, 0, 0, 0]  0_right.jpg             0  \n",
       "1  [1, 0, 0, 0, 0, 0, 0, 0]  1_right.jpg             0  \n",
       "2  [0, 1, 0, 0, 0, 0, 0, 0]  2_right.jpg             1  \n",
       "3  [0, 1, 0, 0, 0, 0, 0, 0]  4_right.jpg             1  \n",
       "4  [0, 1, 0, 0, 0, 0, 0, 0]  5_right.jpg             1  \n",
       "\n",
       "[5 rows x 21 columns]"
      ]
     },
     "execution_count": 3,
     "metadata": {},
     "output_type": "execute_result"
    }
   ],
   "source": [
    "data.head()"
   ]
  },
  {
   "cell_type": "code",
   "execution_count": null,
   "id": "6861fd1e",
   "metadata": {},
   "outputs": [],
   "source": [
    "source = \"../raw_data/preprocessed_images\"\n",
    "dest = \"../data\" \n",
    "\n",
    "for _, row in data.iterrows():\n",
    "    source_file = os.path.join(source,row['filename'])\n",
    "    dest_file = os.path.join(dest,row['target_binary'], row['filename'])\n",
    "    shutil.copy(source_file, dest_file)"
   ]
  },
  {
   "cell_type": "code",
   "execution_count": 4,
   "id": "c38ce872",
   "metadata": {},
   "outputs": [],
   "source": [
    "#data_path = \"../raw_data/preprocessed_images/\"\n",
    "#imgs = []\n",
    "images_path = [elt for elt in os.listdir(data_path) if elt.find('.jpg')>0]\n",
    "for file in data.filename:\n",
    "    path = os.path.join(data_path, file)\n",
    "    if os.path.exists(path):\n",
    "        image = Image.open(path)\n",
    "        imgs.append(np.array(image))"
   ]
  },
  {
   "cell_type": "code",
   "execution_count": 5,
   "id": "bb554241",
   "metadata": {},
   "outputs": [],
   "source": [
    "X = np.array(imgs)\n",
    "y = data['target_binary']"
   ]
  },
  {
   "cell_type": "code",
   "execution_count": 6,
   "id": "50742bd5",
   "metadata": {},
   "outputs": [
    {
     "data": {
      "text/plain": [
       "((6392, 512, 512, 3), (6392,))"
      ]
     },
     "execution_count": 6,
     "metadata": {},
     "output_type": "execute_result"
    }
   ],
   "source": [
    "X.shape, y.shape"
   ]
  },
  {
   "cell_type": "code",
   "execution_count": 9,
   "id": "d8e8f46d",
   "metadata": {},
   "outputs": [],
   "source": [
    "split = int(len(imgs) /6.)\n",
    "X_test, X_train = X[:split], X[split:]\n",
    "y_test, y_train = y[:split], y[split:]"
   ]
  },
  {
   "cell_type": "code",
   "execution_count": 13,
   "id": "633b8a5d",
   "metadata": {},
   "outputs": [
    {
     "data": {
      "text/plain": [
       "((1065, 512, 512, 3), (1065,), (5327, 512, 512, 3), (5327,))"
      ]
     },
     "execution_count": 13,
     "metadata": {},
     "output_type": "execute_result"
    }
   ],
   "source": [
    "X_test.shape, y_test.shape, X_train.shape, y_train.shape"
   ]
  },
  {
   "cell_type": "code",
   "execution_count": 18,
   "id": "26889b8b",
   "metadata": {},
   "outputs": [],
   "source": [
    "y_test = np.array(y_test).reshape(-1,1)\n",
    "y_train = np.array(y_train).reshape(-1,1)"
   ]
  },
  {
   "cell_type": "code",
   "execution_count": 19,
   "id": "f84d8d8a",
   "metadata": {},
   "outputs": [
    {
     "data": {
      "text/plain": [
       "((1065, 1), (5327, 1))"
      ]
     },
     "execution_count": 19,
     "metadata": {},
     "output_type": "execute_result"
    }
   ],
   "source": [
    "y_test.shape, y_train.shape"
   ]
  },
  {
   "cell_type": "code",
   "execution_count": 28,
   "id": "9b8ba931",
   "metadata": {},
   "outputs": [
    {
     "data": {
      "text/plain": [
       "array([0, 1])"
      ]
     },
     "execution_count": 28,
     "metadata": {},
     "output_type": "execute_result"
    }
   ],
   "source": [
    "np.unique(y_train)"
   ]
  },
  {
   "cell_type": "markdown",
   "id": "200b69cf",
   "metadata": {},
   "source": [
    "## CNN Model"
   ]
  },
  {
   "cell_type": "code",
   "execution_count": 29,
   "id": "b54d605a",
   "metadata": {},
   "outputs": [],
   "source": [
    "def load_own_model():\n",
    "    model = models.Sequential()\n",
    "    model.add(layers.Rescaling(1/255, input_shape = (512,512,3)))\n",
    "    model.add(layers.Conv2D(16, (5,5), activation=\"relu\", padding=\"same\", strides=(1,1) ))\n",
    "    model.add(layers.MaxPool2D(pool_size=(2,2)))\n",
    "    \n",
    "    model.add(layers.Conv2D(32, (4,4), activation=\"relu\", padding=\"same\", strides=(1,1) ))\n",
    "    model.add(layers.MaxPool2D(pool_size=(2,2)))\n",
    "    \n",
    "    model.add(layers.Conv2D(64, (3,3), activation=\"relu\", padding=\"same\", strides=(1,1) ))\n",
    "    model.add(layers.MaxPool2D(pool_size=(2,2)))\n",
    "    \n",
    "    model.add(layers.Flatten())\n",
    "    model.add(layers.Dense(126, activation=\"relu\"))\n",
    "    model.add(layers.Dense(1, activation=\"sigmoid\"))\n",
    "    \n",
    "    model.compile(optimizer=\"adam\",\n",
    "                loss=\"binary_crossentropy\",\n",
    "                metrics=[\"accuracy\"])\n",
    "    return model"
   ]
  },
  {
   "cell_type": "code",
   "execution_count": null,
   "id": "81dbc4bb",
   "metadata": {},
   "outputs": [
    {
     "name": "stdout",
     "output_type": "stream",
     "text": [
      "Epoch 1/100\n",
      "117/117 [==============================] - 326s 3s/step - loss: 0.7607 - accuracy: 0.5864 - val_loss: 1.1630 - val_accuracy: 0.3346\n",
      "Epoch 2/100\n",
      "117/117 [==============================] - 393s 3s/step - loss: 0.6627 - accuracy: 0.6113 - val_loss: 0.8124 - val_accuracy: 0.3377\n",
      "Epoch 3/100\n",
      "117/117 [==============================] - 335s 3s/step - loss: 0.6535 - accuracy: 0.6360 - val_loss: 0.7348 - val_accuracy: 0.3652\n",
      "Epoch 4/100\n",
      "117/117 [==============================] - 340s 3s/step - loss: 0.6465 - accuracy: 0.6371 - val_loss: 0.8354 - val_accuracy: 0.3690\n",
      "Epoch 5/100\n",
      "117/117 [==============================] - 331s 3s/step - loss: 0.6399 - accuracy: 0.6443 - val_loss: 0.8175 - val_accuracy: 0.4028\n",
      "Epoch 6/100\n",
      "117/117 [==============================] - 331s 3s/step - loss: 0.6353 - accuracy: 0.6475 - val_loss: 0.7891 - val_accuracy: 0.3740\n",
      "Epoch 7/100\n",
      "117/117 [==============================] - 331s 3s/step - loss: 0.6308 - accuracy: 0.6508 - val_loss: 0.8382 - val_accuracy: 0.3727\n",
      "Epoch 8/100\n",
      "117/117 [==============================] - 330s 3s/step - loss: 0.6257 - accuracy: 0.6609 - val_loss: 0.8796 - val_accuracy: 0.3621\n",
      "Epoch 9/100\n",
      "117/117 [==============================] - 329s 3s/step - loss: 0.6232 - accuracy: 0.6561 - val_loss: 0.8081 - val_accuracy: 0.3765\n",
      "Epoch 10/100\n",
      "117/117 [==============================] - 635s 5s/step - loss: 0.6169 - accuracy: 0.6612 - val_loss: 0.8988 - val_accuracy: 0.3715\n",
      "Epoch 11/100\n",
      "117/117 [==============================] - ETA: 0s - loss: 0.6133 - accuracy: 0.6652"
     ]
    }
   ],
   "source": [
    "model = load_own_model()\n",
    "model.fit(X_train, y_train, epochs=100, batch_size=32, \n",
    "          validation_split=0.3, callbacks=[EarlyStopping(patience=20, restore_best_weights=True)])"
   ]
  }
 ],
 "metadata": {
  "kernelspec": {
   "display_name": "Python 3 (ipykernel)",
   "language": "python",
   "name": "python3"
  },
  "language_info": {
   "codemirror_mode": {
    "name": "ipython",
    "version": 3
   },
   "file_extension": ".py",
   "mimetype": "text/x-python",
   "name": "python",
   "nbconvert_exporter": "python",
   "pygments_lexer": "ipython3",
   "version": "3.10.6"
  },
  "toc": {
   "base_numbering": 1,
   "nav_menu": {},
   "number_sections": true,
   "sideBar": true,
   "skip_h1_title": false,
   "title_cell": "Table of Contents",
   "title_sidebar": "Contents",
   "toc_cell": false,
   "toc_position": {},
   "toc_section_display": true,
   "toc_window_display": false
  }
 },
 "nbformat": 4,
 "nbformat_minor": 5
}
