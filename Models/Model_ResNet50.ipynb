{
 "cells": [
  {
   "cell_type": "code",
   "execution_count": null,
   "id": "2cb7a5ff",
   "metadata": {},
   "outputs": [],
   "source": [
    "import tensorflow\n",
    "import pandas as pd\n",
    "import os\n",
    "\n",
    "import tensorflow as tf\n",
    "from tensorflow.keras.applications import ResNet50\n",
    "from tensorflow.keras import models, layers\n",
    "#from tf.keras.layers import Dense, Flatten\n",
    "from tensorflow.keras.models import Model\n",
    "from tensorflow.keras.preprocessing.image import ImageDataGenerator # not needed?\n",
    "from sklearn.model_selection import train_test_split # not needed?\n",
    "from tensorflow.keras.preprocessing import image_dataset_from_directory\n",
    "from tensorflow.keras.callbacks import EarlyStopping"
   ]
  },
  {
   "cell_type": "code",
   "execution_count": null,
   "id": "1ff9ece9",
   "metadata": {},
   "outputs": [],
   "source": [
    "from google.colab import drive\n",
    "drive.mount('/content/drive')\n",
    "\n",
    "\n",
    "# Put Colab in the context of this challenge\n",
    "\n",
    "\n",
    "# os.chdir allows you to change directories, like cd in the Terminal\n",
    "os.chdir('/content/drive//MyDrive/Colab Notebooks/preprocessed_images/data')"
   ]
  },
  {
   "cell_type": "code",
   "execution_count": null,
   "id": "5afccb05",
   "metadata": {},
   "outputs": [],
   "source": [
    "# Define input shape and number of classes\n",
    "img_height, img_width = 512, 512\n",
    "num_classes = 2\n",
    "\n",
    "# Load the pre-trained ResNet50 model with ImageNet weights\n",
    "resnet = ResNet50(weights='imagenet', include_top=False, input_shape=(img_height, img_width, 3))\n",
    "\n",
    "\"\"\"# Freeze the pre-trained layers\n",
    "for layer in resnet.layers:\n",
    "    layer.trainable = False\"\"\"\n",
    "\n",
    "\"\"\"# Add new fully-connected layers for binary classification\n",
    "x = layers.Flatten()(resnet.output)\n",
    "x = layers.Dense(256, activation='relu')(x)\n",
    "x = layers.Dropout(rate=0.3)\n",
    "x = layers.Dense(128, activation='relu')(x)\n",
    "x = layers.Dropout(rate=0.3)\n",
    "output = layers.Dense(1, activation='sigmoid')(x)\"\"\"\n",
    "\n",
    "\"\"\"# Create the final model\n",
    "model = Model(inputs=resnet.input, outputs=output)\"\"\"\n",
    "\n",
    "\"\"\"# Compile the model\n",
    "model.compile(optimizer='adam', loss='binary_crossentropy', metrics=['accuracy'])\"\"\""
   ]
  },
  {
   "cell_type": "code",
   "execution_count": null,
   "id": "f6f55500",
   "metadata": {},
   "outputs": [],
   "source": [
    "def set_nontrainable_layers(model):\n",
    "    model.trainable = False\n",
    "    return model\n",
    "\n",
    "def add_last_layers(model):\n",
    "    '''Take a pre-trained model, set its parameters as non-trainable, and add additional trainable layers on top'''\n",
    "    base_model = set_nontrainable_layers(model)\n",
    "    flatten_layer = layers.Flatten()\n",
    "    dense_layer_1 = layers.Dense(256, activation='relu')\n",
    "    dropout_layer_1 = layers.Dropout(rate=0.3)\n",
    "    dense_layer_2 = layers.Dense(128, activation='relu')\n",
    "    dropout_layer_2 = layers.Dropout(rate=0.3)\n",
    "    prediction_layer = layers.Dense(1, activation='sigmoid')\n",
    "    model = models.Sequential([\n",
    "        base_model,\n",
    "        flatten_layer,\n",
    "        dense_layer_1,\n",
    "        dropout_layer_1,\n",
    "        dense_layer_2,\n",
    "        dropout_layer_2,\n",
    "        prediction_layer\n",
    "    ])\n",
    "    return model"
   ]
  },
  {
   "cell_type": "code",
   "execution_count": null,
   "id": "3451e9bd",
   "metadata": {},
   "outputs": [],
   "source": [
    "def load_model():\n",
    "  model = ResNet50(weights='imagenet', include_top=False, input_shape=(img_height, img_width, 3))\n",
    "  return model"
   ]
  },
  {
   "cell_type": "code",
   "execution_count": null,
   "id": "86177ad4",
   "metadata": {},
   "outputs": [],
   "source": [
    "from tensorflow.keras import optimizers\n",
    "def build_model():\n",
    "    model = load_model()\n",
    "    model = add_last_layers(model)\n",
    "    opt = optimizers.Adam(learning_rate=1e-4)\n",
    "    model.compile(loss='binary_crossentropy',\n",
    "                  optimizer=opt,\n",
    "                  metrics=['accuracy'])\n",
    "    return model"
   ]
  },
  {
   "cell_type": "code",
   "execution_count": null,
   "id": "2f39e653",
   "metadata": {},
   "outputs": [],
   "source": [
    "resnet = set_nontrainable_layers(resnet)"
   ]
  },
  {
   "cell_type": "code",
   "execution_count": null,
   "id": "903bf231",
   "metadata": {},
   "outputs": [],
   "source": [
    "resnet = add_last_layers(resnet)"
   ]
  },
  {
   "cell_type": "code",
   "execution_count": null,
   "id": "ef107870",
   "metadata": {},
   "outputs": [],
   "source": [
    "resnet = build_model()"
   ]
  },
  {
   "cell_type": "code",
   "execution_count": null,
   "id": "ba3ff79b",
   "metadata": {},
   "outputs": [],
   "source": [
    "data_dir = '/content/drive//MyDrive/Colab Notebooks/preprocessed_images/data'\n",
    "shape = (512, 512)"
   ]
  },
  {
   "cell_type": "code",
   "execution_count": null,
   "id": "fe729646",
   "metadata": {},
   "outputs": [],
   "source": [
    "train_ds = image_dataset_from_directory(\n",
    "  data_dir,\n",
    "  validation_split=0.3,\n",
    "  subset=\"training\",\n",
    "  seed=123,\n",
    "  image_size=shape,\n",
    "  shuffle = True)"
   ]
  },
  {
   "cell_type": "code",
   "execution_count": null,
   "id": "ef4380e3",
   "metadata": {},
   "outputs": [],
   "source": [
    "val_ds = image_dataset_from_directory(\n",
    "  data_dir,\n",
    "  validation_split=0.3,\n",
    "  subset=\"validation\",\n",
    "  seed=123,\n",
    "  image_size=shape,\n",
    "  shuffle = True)"
   ]
  },
  {
   "cell_type": "code",
   "execution_count": null,
   "id": "ac765151",
   "metadata": {},
   "outputs": [],
   "source": [
    "val_batches = tf.data.experimental.cardinality(val_ds)\n",
    "test_ds = val_ds.take((2*val_batches) // 3)\n",
    "val_ds = val_ds.skip((2*val_batches) // 3)"
   ]
  },
  {
   "cell_type": "code",
   "execution_count": null,
   "id": "7ee6304c",
   "metadata": {},
   "outputs": [],
   "source": [
    "es = EarlyStopping(patience=2,restore_best_weights=True)\n",
    "\n",
    "# Train the model\n",
    "history = resnet.fit(\n",
    "        train_ds,\n",
    "        validation_data=val_ds,\n",
    "        epochs=10,\n",
    "        verbose=1,\n",
    "        callbacks=[es])"
   ]
  },
  {
   "cell_type": "code",
   "execution_count": null,
   "id": "2438cd83",
   "metadata": {},
   "outputs": [],
   "source": [
    "train_ds.class_names"
   ]
  },
  {
   "cell_type": "code",
   "execution_count": null,
   "id": "fe52a23a",
   "metadata": {},
   "outputs": [],
   "source": []
  }
 ],
 "metadata": {
  "kernelspec": {
   "display_name": "Python 3 (ipykernel)",
   "language": "python",
   "name": "python3"
  },
  "language_info": {
   "codemirror_mode": {
    "name": "ipython",
    "version": 3
   },
   "file_extension": ".py",
   "mimetype": "text/x-python",
   "name": "python",
   "nbconvert_exporter": "python",
   "pygments_lexer": "ipython3",
   "version": "3.10.6"
  },
  "toc": {
   "base_numbering": 1,
   "nav_menu": {},
   "number_sections": true,
   "sideBar": true,
   "skip_h1_title": false,
   "title_cell": "Table of Contents",
   "title_sidebar": "Contents",
   "toc_cell": false,
   "toc_position": {},
   "toc_section_display": true,
   "toc_window_display": false
  }
 },
 "nbformat": 4,
 "nbformat_minor": 5
}
