{
 "cells": [
  {
   "cell_type": "code",
   "execution_count": null,
   "id": "2cb7a5ff",
   "metadata": {},
   "outputs": [],
   "source": [
    "import tensorflow as tf\n",
    "from tensorflow.keras.applications import ResNet50\n",
    "from tensorflow.keras.layers import Dense, Flatten\n",
    "from tensorflow.keras.models import Model\n",
    "from tensorflow.keras.preprocessing.image import ImageDataGenerator # not needed?\n",
    "from sklearn.model_selection import train_test_split # not needed?\n",
    "from tensorflow.keras.preprocessing import image_dataset_from_directory\n",
    "from tensorflow.keras.callbacks import EarlyStopping\n"
   ]
  },
  {
   "cell_type": "code",
   "execution_count": null,
   "id": "1ff9ece9",
   "metadata": {},
   "outputs": [],
   "source": [
    "# Define input shape and number of classes\n",
    "img_height, img_width = 512, 512\n",
    "num_classes = 2\n",
    "\n",
    "# Load the pre-trained ResNet50 model with ImageNet weights\n",
    "resnet = ResNet50(weights='imagenet', include_top=False, input_shape=(img_height, img_width, 3))\n",
    "\n",
    "# Freeze the pre-trained layers\n",
    "for layer in resnet.layers:\n",
    "    layer.trainable = False\n",
    "\n",
    "# Add new fully-connected layers for binary classification\n",
    "x = Flatten()(resnet.output)\n",
    "x = Dense(256, activation='relu')(x)\n",
    "x = Dense(128, activation='relu')(x)\n",
    "output = Dense(1, activation='sigmoid')(x)\n",
    "\n",
    "# Create the final model\n",
    "model = Model(inputs=resnet.input, outputs=output)\n",
    "\n",
    "# Compile the model\n",
    "model.compile(optimizer='adam', loss='binary_crossentropy', metrics=['accuracy'])"
   ]
  },
  {
   "cell_type": "code",
   "execution_count": null,
   "id": "5afccb05",
   "metadata": {},
   "outputs": [],
   "source": [
    "data_dir = \"../data\"\n",
    "shape = (512, 512)"
   ]
  },
  {
   "cell_type": "code",
   "execution_count": null,
   "id": "f6f55500",
   "metadata": {},
   "outputs": [],
   "source": [
    "train_ds = image_dataset_from_directory(\n",
    "  data_dir,\n",
    "  validation_split=0.4,\n",
    "  subset=\"training\",\n",
    "  seed=123,\n",
    "  image_size=shape,\n",
    "  shuffle = True)"
   ]
  },
  {
   "cell_type": "code",
   "execution_count": null,
   "id": "3451e9bd",
   "metadata": {},
   "outputs": [],
   "source": [
    "val_ds = image_dataset_from_directory(\n",
    "  data_dir,\n",
    "  validation_split=0.4,\n",
    "  subset=\"validation\",\n",
    "  seed=123,\n",
    "  image_size=shape,\n",
    "  shuffle = True)"
   ]
  },
  {
   "cell_type": "code",
   "execution_count": null,
   "id": "86177ad4",
   "metadata": {},
   "outputs": [],
   "source": [
    "val_batches = tf.data.experimental.cardinality(val_ds)\n",
    "test_ds = val_ds.take((2*val_batches) // 3)\n",
    "val_ds = val_ds.skip((2*val_batches) // 3)"
   ]
  },
  {
   "cell_type": "code",
   "execution_count": null,
   "id": "2f39e653",
   "metadata": {},
   "outputs": [],
   "source": [
    "# Preprocess the image data\n",
    "# data_generator = ImageDataGenerator(preprocessing_function=tf.keras.applications.resnet50.preprocess_input)\n",
    "\n",
    "# Split the data into training and testing sets\n",
    "\"\"\"data_dir = \"../data\"\n",
    "train_dir = data_dir + '/train'\n",
    "test_dir = data_dir + '/test'\n",
    "train_filenames = tf.io.gfile.glob(train_dir + '/*/*')\n",
    "test_filenames = tf.io.gfile.glob(test_dir + '/*/*')\n",
    "train_labels = [int('dog' in filename) for filename in train_filenames]\n",
    "test_labels = [int('dog' in filename) for filename in test_filenames]\n",
    "train_filenames, val_filenames, train_labels, val_labels = train_test_split(train_filenames, train_labels, test_size=0.2, random_state=42)\n",
    "\"\"\"\n",
    "\"\"\"# Load the training data\n",
    "train_data = data_generator.flow_from_list(\n",
    "        train_filenames,\n",
    "        target_size=(img_height, img_width),\n",
    "        batch_size=32,\n",
    "        class_mode='binary')\n",
    "\n",
    "# Load the validation data\n",
    "validation_data = data_generator.flow_from_list(\n",
    "        val_filenames,\n",
    "        target_size=(img_height, img_width),\n",
    "        batch_size=32,\n",
    "        class_mode='binary')\n",
    "\n",
    "# Load the testing data\n",
    "test_data = data_generator.flow_from_list(\n",
    "        test_filenames,\n",
    "        target_size=(img_height, img_width),\n",
    "        batch_size=32,\n",
    "        class_mode='binary')\n",
    "\"\"\"\n",
    "\n",
    "es = EarlyStopping(patience=2,restore_best_weights=True)\n",
    "\n",
    "# Train the model\n",
    "history = model.fit(\n",
    "        train_ds,\n",
    "        validation_data=val_ds,\n",
    "        epochs=10,\n",
    "        verbose=1,\n",
    "        callbacks=[es])\n",
    "\n",
    "# Evaluate the model on the test data\n",
    "#test_loss, test_acc = model.evaluate(test_data, verbose=1)\n",
    "#print('Test accuracy:', test_acc)\n",
    "\n",
    "\n",
    "\"\"\"\n",
    "In this updated code, we use the ImageDataGenerator class to apply data augmentation to the image data. We set rotation_range to randomly rotate the images by up to 20 degrees, zoom_range to randomly zoom the images by up to 20%, and horizontal_flip to randomly flip the images horizontally.\n",
    "\n",
    "We then load the training, validation, and testing data using the flow_from_list method of the data generator. We load the training data with data augmentation and the validation and testing data without data augmentation.\n",
    "\n",
    "We then train the model with data augmentation using the fit method of the model. Finally, we evaluate the model on the test data using the\n",
    "\"\"\""
   ]
  },
  {
   "cell_type": "code",
   "execution_count": null,
   "id": "903bf231",
   "metadata": {},
   "outputs": [],
   "source": []
  }
 ],
 "metadata": {
  "kernelspec": {
   "display_name": "Python 3 (ipykernel)",
   "language": "python",
   "name": "python3"
  },
  "language_info": {
   "codemirror_mode": {
    "name": "ipython",
    "version": 3
   },
   "file_extension": ".py",
   "mimetype": "text/x-python",
   "name": "python",
   "nbconvert_exporter": "python",
   "pygments_lexer": "ipython3",
   "version": "3.10.6"
  },
  "toc": {
   "base_numbering": 1,
   "nav_menu": {},
   "number_sections": true,
   "sideBar": true,
   "skip_h1_title": false,
   "title_cell": "Table of Contents",
   "title_sidebar": "Contents",
   "toc_cell": false,
   "toc_position": {},
   "toc_section_display": true,
   "toc_window_display": false
  }
 },
 "nbformat": 4,
 "nbformat_minor": 5
}
