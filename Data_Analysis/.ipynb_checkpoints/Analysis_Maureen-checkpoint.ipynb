{
 "cells": [
  {
   "cell_type": "code",
   "execution_count": 6,
   "id": "be047e64",
   "metadata": {},
   "outputs": [],
   "source": [
    "import pandas as pd\n",
    "import seaborn as sns"
   ]
  },
  {
   "cell_type": "markdown",
   "id": "58c982a6",
   "metadata": {},
   "source": [
    "# Data analysis"
   ]
  },
  {
   "cell_type": "markdown",
   "id": "0845d373",
   "metadata": {},
   "source": [
    "## Data description"
   ]
  },
  {
   "cell_type": "markdown",
   "id": "17a631c6",
   "metadata": {},
   "source": [
    "Ocular Disease Intelligent Recognition (ODIR) is a structured ophthalmic database of 5,000 patients with age, color fundus photographs from left and right eyes and doctors' diagnostic keywords from doctors.\n",
    "\n",
    "This dataset is meant to represent ‘‘real-life’’ set of patient information collected by Shanggong Medical Technology Co., Ltd. from different hospitals/medical centers in China. In these institutions, fundus images are captured by various cameras in the market, such as Canon, Zeiss and Kowa, resulting into varied image resolutions.\n",
    "Annotations were labeled by trained human readers with quality control management. They classify patient into eight labels including:\n",
    "\n",
    "Normal (N),\n",
    "Diabetes (D),\n",
    "Glaucoma (G),\n",
    "Cataract (C),\n",
    "Age related Macular Degeneration (A),\n",
    "Hypertension (H),\n",
    "Pathological Myopia (M),\n",
    "Other diseases/abnormalities (O)"
   ]
  },
  {
   "cell_type": "markdown",
   "id": "1a65e3eb",
   "metadata": {},
   "source": [
    "## Import Data"
   ]
  },
  {
   "cell_type": "code",
   "execution_count": 3,
   "id": "875bff4e",
   "metadata": {},
   "outputs": [],
   "source": [
    "df = pd.read_csv(\"../raw_data/full_df.csv\")"
   ]
  },
  {
   "cell_type": "code",
   "execution_count": 15,
   "id": "407cbbd2",
   "metadata": {},
   "outputs": [
    {
     "data": {
      "text/plain": [
       "(6392, 19)"
      ]
     },
     "execution_count": 15,
     "metadata": {},
     "output_type": "execute_result"
    }
   ],
   "source": [
    "df.shape"
   ]
  },
  {
   "cell_type": "code",
   "execution_count": 31,
   "id": "ac4c61e1",
   "metadata": {
    "scrolled": false
   },
   "outputs": [
    {
     "data": {
      "text/html": [
       "<div>\n",
       "<style scoped>\n",
       "    .dataframe tbody tr th:only-of-type {\n",
       "        vertical-align: middle;\n",
       "    }\n",
       "\n",
       "    .dataframe tbody tr th {\n",
       "        vertical-align: top;\n",
       "    }\n",
       "\n",
       "    .dataframe thead th {\n",
       "        text-align: right;\n",
       "    }\n",
       "</style>\n",
       "<table border=\"1\" class=\"dataframe\">\n",
       "  <thead>\n",
       "    <tr style=\"text-align: right;\">\n",
       "      <th></th>\n",
       "      <th>ID</th>\n",
       "      <th>Patient Age</th>\n",
       "      <th>Patient Sex</th>\n",
       "      <th>Left-Fundus</th>\n",
       "      <th>Right-Fundus</th>\n",
       "      <th>Left-Diagnostic Keywords</th>\n",
       "      <th>Right-Diagnostic Keywords</th>\n",
       "      <th>N</th>\n",
       "      <th>D</th>\n",
       "      <th>G</th>\n",
       "      <th>C</th>\n",
       "      <th>A</th>\n",
       "      <th>H</th>\n",
       "      <th>M</th>\n",
       "      <th>O</th>\n",
       "      <th>filepath</th>\n",
       "      <th>labels</th>\n",
       "      <th>target</th>\n",
       "      <th>filename</th>\n",
       "    </tr>\n",
       "  </thead>\n",
       "  <tbody>\n",
       "    <tr>\n",
       "      <th>6387</th>\n",
       "      <td>4686</td>\n",
       "      <td>63</td>\n",
       "      <td>Male</td>\n",
       "      <td>4686_left.jpg</td>\n",
       "      <td>4686_right.jpg</td>\n",
       "      <td>severe nonproliferative retinopathy</td>\n",
       "      <td>proliferative diabetic retinopathy</td>\n",
       "      <td>0</td>\n",
       "      <td>1</td>\n",
       "      <td>0</td>\n",
       "      <td>0</td>\n",
       "      <td>0</td>\n",
       "      <td>0</td>\n",
       "      <td>0</td>\n",
       "      <td>0</td>\n",
       "      <td>../input/ocular-disease-recognition-odir5k/ODI...</td>\n",
       "      <td>['D']</td>\n",
       "      <td>[0, 1, 0, 0, 0, 0, 0, 0]</td>\n",
       "      <td>4686_left.jpg</td>\n",
       "    </tr>\n",
       "    <tr>\n",
       "      <th>6388</th>\n",
       "      <td>4688</td>\n",
       "      <td>42</td>\n",
       "      <td>Male</td>\n",
       "      <td>4688_left.jpg</td>\n",
       "      <td>4688_right.jpg</td>\n",
       "      <td>moderate non proliferative retinopathy</td>\n",
       "      <td>moderate non proliferative retinopathy</td>\n",
       "      <td>0</td>\n",
       "      <td>1</td>\n",
       "      <td>0</td>\n",
       "      <td>0</td>\n",
       "      <td>0</td>\n",
       "      <td>0</td>\n",
       "      <td>0</td>\n",
       "      <td>0</td>\n",
       "      <td>../input/ocular-disease-recognition-odir5k/ODI...</td>\n",
       "      <td>['D']</td>\n",
       "      <td>[0, 1, 0, 0, 0, 0, 0, 0]</td>\n",
       "      <td>4688_left.jpg</td>\n",
       "    </tr>\n",
       "    <tr>\n",
       "      <th>6389</th>\n",
       "      <td>4689</td>\n",
       "      <td>54</td>\n",
       "      <td>Male</td>\n",
       "      <td>4689_left.jpg</td>\n",
       "      <td>4689_right.jpg</td>\n",
       "      <td>mild nonproliferative retinopathy</td>\n",
       "      <td>normal fundus</td>\n",
       "      <td>0</td>\n",
       "      <td>1</td>\n",
       "      <td>0</td>\n",
       "      <td>0</td>\n",
       "      <td>0</td>\n",
       "      <td>0</td>\n",
       "      <td>0</td>\n",
       "      <td>0</td>\n",
       "      <td>../input/ocular-disease-recognition-odir5k/ODI...</td>\n",
       "      <td>['D']</td>\n",
       "      <td>[0, 1, 0, 0, 0, 0, 0, 0]</td>\n",
       "      <td>4689_left.jpg</td>\n",
       "    </tr>\n",
       "    <tr>\n",
       "      <th>6390</th>\n",
       "      <td>4690</td>\n",
       "      <td>57</td>\n",
       "      <td>Male</td>\n",
       "      <td>4690_left.jpg</td>\n",
       "      <td>4690_right.jpg</td>\n",
       "      <td>mild nonproliferative retinopathy</td>\n",
       "      <td>mild nonproliferative retinopathy</td>\n",
       "      <td>0</td>\n",
       "      <td>1</td>\n",
       "      <td>0</td>\n",
       "      <td>0</td>\n",
       "      <td>0</td>\n",
       "      <td>0</td>\n",
       "      <td>0</td>\n",
       "      <td>0</td>\n",
       "      <td>../input/ocular-disease-recognition-odir5k/ODI...</td>\n",
       "      <td>['D']</td>\n",
       "      <td>[0, 1, 0, 0, 0, 0, 0, 0]</td>\n",
       "      <td>4690_left.jpg</td>\n",
       "    </tr>\n",
       "    <tr>\n",
       "      <th>6391</th>\n",
       "      <td>4784</td>\n",
       "      <td>58</td>\n",
       "      <td>Male</td>\n",
       "      <td>4784_left.jpg</td>\n",
       "      <td>4784_right.jpg</td>\n",
       "      <td>hypertensive retinopathy，age-related macular d...</td>\n",
       "      <td>hypertensive retinopathy，age-related macular d...</td>\n",
       "      <td>0</td>\n",
       "      <td>0</td>\n",
       "      <td>0</td>\n",
       "      <td>0</td>\n",
       "      <td>1</td>\n",
       "      <td>1</td>\n",
       "      <td>0</td>\n",
       "      <td>0</td>\n",
       "      <td>../input/ocular-disease-recognition-odir5k/ODI...</td>\n",
       "      <td>['H']</td>\n",
       "      <td>[0, 0, 0, 0, 0, 1, 0, 0]</td>\n",
       "      <td>4784_left.jpg</td>\n",
       "    </tr>\n",
       "  </tbody>\n",
       "</table>\n",
       "</div>"
      ],
      "text/plain": [
       "        ID  Patient Age Patient Sex    Left-Fundus    Right-Fundus  \\\n",
       "6387  4686           63        Male  4686_left.jpg  4686_right.jpg   \n",
       "6388  4688           42        Male  4688_left.jpg  4688_right.jpg   \n",
       "6389  4689           54        Male  4689_left.jpg  4689_right.jpg   \n",
       "6390  4690           57        Male  4690_left.jpg  4690_right.jpg   \n",
       "6391  4784           58        Male  4784_left.jpg  4784_right.jpg   \n",
       "\n",
       "                               Left-Diagnostic Keywords  \\\n",
       "6387                severe nonproliferative retinopathy   \n",
       "6388             moderate non proliferative retinopathy   \n",
       "6389                  mild nonproliferative retinopathy   \n",
       "6390                  mild nonproliferative retinopathy   \n",
       "6391  hypertensive retinopathy，age-related macular d...   \n",
       "\n",
       "                              Right-Diagnostic Keywords  N  D  G  C  A  H  M  \\\n",
       "6387                 proliferative diabetic retinopathy  0  1  0  0  0  0  0   \n",
       "6388             moderate non proliferative retinopathy  0  1  0  0  0  0  0   \n",
       "6389                                      normal fundus  0  1  0  0  0  0  0   \n",
       "6390                  mild nonproliferative retinopathy  0  1  0  0  0  0  0   \n",
       "6391  hypertensive retinopathy，age-related macular d...  0  0  0  0  1  1  0   \n",
       "\n",
       "      O                                           filepath labels  \\\n",
       "6387  0  ../input/ocular-disease-recognition-odir5k/ODI...  ['D']   \n",
       "6388  0  ../input/ocular-disease-recognition-odir5k/ODI...  ['D']   \n",
       "6389  0  ../input/ocular-disease-recognition-odir5k/ODI...  ['D']   \n",
       "6390  0  ../input/ocular-disease-recognition-odir5k/ODI...  ['D']   \n",
       "6391  0  ../input/ocular-disease-recognition-odir5k/ODI...  ['H']   \n",
       "\n",
       "                        target       filename  \n",
       "6387  [0, 1, 0, 0, 0, 0, 0, 0]  4686_left.jpg  \n",
       "6388  [0, 1, 0, 0, 0, 0, 0, 0]  4688_left.jpg  \n",
       "6389  [0, 1, 0, 0, 0, 0, 0, 0]  4689_left.jpg  \n",
       "6390  [0, 1, 0, 0, 0, 0, 0, 0]  4690_left.jpg  \n",
       "6391  [0, 0, 0, 0, 0, 1, 0, 0]  4784_left.jpg  "
      ]
     },
     "execution_count": 31,
     "metadata": {},
     "output_type": "execute_result"
    }
   ],
   "source": [
    "df.tail()"
   ]
  },
  {
   "cell_type": "code",
   "execution_count": 4,
   "id": "b8b0a82b",
   "metadata": {},
   "outputs": [
    {
     "data": {
      "text/html": [
       "<div>\n",
       "<style scoped>\n",
       "    .dataframe tbody tr th:only-of-type {\n",
       "        vertical-align: middle;\n",
       "    }\n",
       "\n",
       "    .dataframe tbody tr th {\n",
       "        vertical-align: top;\n",
       "    }\n",
       "\n",
       "    .dataframe thead th {\n",
       "        text-align: right;\n",
       "    }\n",
       "</style>\n",
       "<table border=\"1\" class=\"dataframe\">\n",
       "  <thead>\n",
       "    <tr style=\"text-align: right;\">\n",
       "      <th></th>\n",
       "      <th>ID</th>\n",
       "      <th>Patient Age</th>\n",
       "      <th>Patient Sex</th>\n",
       "      <th>Left-Fundus</th>\n",
       "      <th>Right-Fundus</th>\n",
       "      <th>Left-Diagnostic Keywords</th>\n",
       "      <th>Right-Diagnostic Keywords</th>\n",
       "      <th>N</th>\n",
       "      <th>D</th>\n",
       "      <th>G</th>\n",
       "      <th>C</th>\n",
       "      <th>A</th>\n",
       "      <th>H</th>\n",
       "      <th>M</th>\n",
       "      <th>O</th>\n",
       "      <th>filepath</th>\n",
       "      <th>labels</th>\n",
       "      <th>target</th>\n",
       "      <th>filename</th>\n",
       "    </tr>\n",
       "  </thead>\n",
       "  <tbody>\n",
       "    <tr>\n",
       "      <th>0</th>\n",
       "      <td>0</td>\n",
       "      <td>69</td>\n",
       "      <td>Female</td>\n",
       "      <td>0_left.jpg</td>\n",
       "      <td>0_right.jpg</td>\n",
       "      <td>cataract</td>\n",
       "      <td>normal fundus</td>\n",
       "      <td>0</td>\n",
       "      <td>0</td>\n",
       "      <td>0</td>\n",
       "      <td>1</td>\n",
       "      <td>0</td>\n",
       "      <td>0</td>\n",
       "      <td>0</td>\n",
       "      <td>0</td>\n",
       "      <td>../input/ocular-disease-recognition-odir5k/ODI...</td>\n",
       "      <td>['N']</td>\n",
       "      <td>[1, 0, 0, 0, 0, 0, 0, 0]</td>\n",
       "      <td>0_right.jpg</td>\n",
       "    </tr>\n",
       "    <tr>\n",
       "      <th>1</th>\n",
       "      <td>1</td>\n",
       "      <td>57</td>\n",
       "      <td>Male</td>\n",
       "      <td>1_left.jpg</td>\n",
       "      <td>1_right.jpg</td>\n",
       "      <td>normal fundus</td>\n",
       "      <td>normal fundus</td>\n",
       "      <td>1</td>\n",
       "      <td>0</td>\n",
       "      <td>0</td>\n",
       "      <td>0</td>\n",
       "      <td>0</td>\n",
       "      <td>0</td>\n",
       "      <td>0</td>\n",
       "      <td>0</td>\n",
       "      <td>../input/ocular-disease-recognition-odir5k/ODI...</td>\n",
       "      <td>['N']</td>\n",
       "      <td>[1, 0, 0, 0, 0, 0, 0, 0]</td>\n",
       "      <td>1_right.jpg</td>\n",
       "    </tr>\n",
       "    <tr>\n",
       "      <th>2</th>\n",
       "      <td>2</td>\n",
       "      <td>42</td>\n",
       "      <td>Male</td>\n",
       "      <td>2_left.jpg</td>\n",
       "      <td>2_right.jpg</td>\n",
       "      <td>laser spot，moderate non proliferative retinopathy</td>\n",
       "      <td>moderate non proliferative retinopathy</td>\n",
       "      <td>0</td>\n",
       "      <td>1</td>\n",
       "      <td>0</td>\n",
       "      <td>0</td>\n",
       "      <td>0</td>\n",
       "      <td>0</td>\n",
       "      <td>0</td>\n",
       "      <td>1</td>\n",
       "      <td>../input/ocular-disease-recognition-odir5k/ODI...</td>\n",
       "      <td>['D']</td>\n",
       "      <td>[0, 1, 0, 0, 0, 0, 0, 0]</td>\n",
       "      <td>2_right.jpg</td>\n",
       "    </tr>\n",
       "    <tr>\n",
       "      <th>3</th>\n",
       "      <td>4</td>\n",
       "      <td>53</td>\n",
       "      <td>Male</td>\n",
       "      <td>4_left.jpg</td>\n",
       "      <td>4_right.jpg</td>\n",
       "      <td>macular epiretinal membrane</td>\n",
       "      <td>mild nonproliferative retinopathy</td>\n",
       "      <td>0</td>\n",
       "      <td>1</td>\n",
       "      <td>0</td>\n",
       "      <td>0</td>\n",
       "      <td>0</td>\n",
       "      <td>0</td>\n",
       "      <td>0</td>\n",
       "      <td>1</td>\n",
       "      <td>../input/ocular-disease-recognition-odir5k/ODI...</td>\n",
       "      <td>['D']</td>\n",
       "      <td>[0, 1, 0, 0, 0, 0, 0, 0]</td>\n",
       "      <td>4_right.jpg</td>\n",
       "    </tr>\n",
       "    <tr>\n",
       "      <th>4</th>\n",
       "      <td>5</td>\n",
       "      <td>50</td>\n",
       "      <td>Female</td>\n",
       "      <td>5_left.jpg</td>\n",
       "      <td>5_right.jpg</td>\n",
       "      <td>moderate non proliferative retinopathy</td>\n",
       "      <td>moderate non proliferative retinopathy</td>\n",
       "      <td>0</td>\n",
       "      <td>1</td>\n",
       "      <td>0</td>\n",
       "      <td>0</td>\n",
       "      <td>0</td>\n",
       "      <td>0</td>\n",
       "      <td>0</td>\n",
       "      <td>0</td>\n",
       "      <td>../input/ocular-disease-recognition-odir5k/ODI...</td>\n",
       "      <td>['D']</td>\n",
       "      <td>[0, 1, 0, 0, 0, 0, 0, 0]</td>\n",
       "      <td>5_right.jpg</td>\n",
       "    </tr>\n",
       "  </tbody>\n",
       "</table>\n",
       "</div>"
      ],
      "text/plain": [
       "   ID  Patient Age Patient Sex Left-Fundus Right-Fundus  \\\n",
       "0   0           69      Female  0_left.jpg  0_right.jpg   \n",
       "1   1           57        Male  1_left.jpg  1_right.jpg   \n",
       "2   2           42        Male  2_left.jpg  2_right.jpg   \n",
       "3   4           53        Male  4_left.jpg  4_right.jpg   \n",
       "4   5           50      Female  5_left.jpg  5_right.jpg   \n",
       "\n",
       "                            Left-Diagnostic Keywords  \\\n",
       "0                                           cataract   \n",
       "1                                      normal fundus   \n",
       "2  laser spot，moderate non proliferative retinopathy   \n",
       "3                        macular epiretinal membrane   \n",
       "4             moderate non proliferative retinopathy   \n",
       "\n",
       "                Right-Diagnostic Keywords  N  D  G  C  A  H  M  O  \\\n",
       "0                           normal fundus  0  0  0  1  0  0  0  0   \n",
       "1                           normal fundus  1  0  0  0  0  0  0  0   \n",
       "2  moderate non proliferative retinopathy  0  1  0  0  0  0  0  1   \n",
       "3       mild nonproliferative retinopathy  0  1  0  0  0  0  0  1   \n",
       "4  moderate non proliferative retinopathy  0  1  0  0  0  0  0  0   \n",
       "\n",
       "                                            filepath labels  \\\n",
       "0  ../input/ocular-disease-recognition-odir5k/ODI...  ['N']   \n",
       "1  ../input/ocular-disease-recognition-odir5k/ODI...  ['N']   \n",
       "2  ../input/ocular-disease-recognition-odir5k/ODI...  ['D']   \n",
       "3  ../input/ocular-disease-recognition-odir5k/ODI...  ['D']   \n",
       "4  ../input/ocular-disease-recognition-odir5k/ODI...  ['D']   \n",
       "\n",
       "                     target     filename  \n",
       "0  [1, 0, 0, 0, 0, 0, 0, 0]  0_right.jpg  \n",
       "1  [1, 0, 0, 0, 0, 0, 0, 0]  1_right.jpg  \n",
       "2  [0, 1, 0, 0, 0, 0, 0, 0]  2_right.jpg  \n",
       "3  [0, 1, 0, 0, 0, 0, 0, 0]  4_right.jpg  \n",
       "4  [0, 1, 0, 0, 0, 0, 0, 0]  5_right.jpg  "
      ]
     },
     "execution_count": 4,
     "metadata": {},
     "output_type": "execute_result"
    }
   ],
   "source": [
    "df.head()"
   ]
  },
  {
   "cell_type": "code",
   "execution_count": 5,
   "id": "806b0a90",
   "metadata": {},
   "outputs": [
    {
     "data": {
      "text/plain": [
       "Index(['ID', 'Patient Age', 'Patient Sex', 'Left-Fundus', 'Right-Fundus',\n",
       "       'Left-Diagnostic Keywords', 'Right-Diagnostic Keywords', 'N', 'D', 'G',\n",
       "       'C', 'A', 'H', 'M', 'O', 'filepath', 'labels', 'target', 'filename'],\n",
       "      dtype='object')"
      ]
     },
     "execution_count": 5,
     "metadata": {},
     "output_type": "execute_result"
    }
   ],
   "source": [
    "df.columns"
   ]
  },
  {
   "cell_type": "markdown",
   "id": "b667ce49",
   "metadata": {},
   "source": [
    "Do we have more than one file in the column \"filename\" ?"
   ]
  },
  {
   "cell_type": "code",
   "execution_count": 27,
   "id": "c02c0d27",
   "metadata": {},
   "outputs": [],
   "source": [
    "for i,filename in enumerate(df.filename):\n",
    "    if len(df.loc[i,['filename']][0]) > 14:\n",
    "        print(i, filename)"
   ]
  },
  {
   "cell_type": "markdown",
   "id": "30e64e47",
   "metadata": {},
   "source": [
    "$\\rightarrow$ There is not more than 1 filename present in the column. Is this eye responsible of the disease(s) ?"
   ]
  },
  {
   "cell_type": "code",
   "execution_count": 89,
   "id": "04de6710",
   "metadata": {},
   "outputs": [
    {
     "data": {
      "text/plain": [
       "ID                           0\n",
       "Patient Age                  0\n",
       "Patient Sex                  0\n",
       "Left-Fundus                  0\n",
       "Right-Fundus                 0\n",
       "Left-Diagnostic Keywords     0\n",
       "Right-Diagnostic Keywords    0\n",
       "N                            0\n",
       "D                            0\n",
       "G                            0\n",
       "C                            0\n",
       "A                            0\n",
       "H                            0\n",
       "M                            0\n",
       "O                            0\n",
       "filepath                     0\n",
       "labels                       0\n",
       "target                       0\n",
       "filename                     0\n",
       "dtype: int64"
      ]
     },
     "execution_count": 89,
     "metadata": {},
     "output_type": "execute_result"
    }
   ],
   "source": [
    "df.isna().sum()"
   ]
  },
  {
   "cell_type": "markdown",
   "id": "03d86bbb",
   "metadata": {},
   "source": [
    "## Frequency of each disease"
   ]
  },
  {
   "cell_type": "markdown",
   "id": "43570f97",
   "metadata": {},
   "source": [
    "What is the proportion of each disease ?"
   ]
  },
  {
   "cell_type": "code",
   "execution_count": 11,
   "id": "b31baff8",
   "metadata": {
    "scrolled": true
   },
   "outputs": [
    {
     "data": {
      "text/html": [
       "<div>\n",
       "<style scoped>\n",
       "    .dataframe tbody tr th:only-of-type {\n",
       "        vertical-align: middle;\n",
       "    }\n",
       "\n",
       "    .dataframe tbody tr th {\n",
       "        vertical-align: top;\n",
       "    }\n",
       "\n",
       "    .dataframe thead th {\n",
       "        text-align: right;\n",
       "    }\n",
       "</style>\n",
       "<table border=\"1\" class=\"dataframe\">\n",
       "  <thead>\n",
       "    <tr style=\"text-align: right;\">\n",
       "      <th></th>\n",
       "      <th>ID</th>\n",
       "      <th>Patient Age</th>\n",
       "      <th>N</th>\n",
       "      <th>D</th>\n",
       "      <th>G</th>\n",
       "      <th>C</th>\n",
       "      <th>A</th>\n",
       "      <th>H</th>\n",
       "      <th>M</th>\n",
       "      <th>O</th>\n",
       "    </tr>\n",
       "  </thead>\n",
       "  <tbody>\n",
       "    <tr>\n",
       "      <th>count</th>\n",
       "      <td>6392.000000</td>\n",
       "      <td>6392.000000</td>\n",
       "      <td>6392.000000</td>\n",
       "      <td>6392.000000</td>\n",
       "      <td>6392.000000</td>\n",
       "      <td>6392.000000</td>\n",
       "      <td>6392.000000</td>\n",
       "      <td>6392.000000</td>\n",
       "      <td>6392.000000</td>\n",
       "      <td>6392.000000</td>\n",
       "    </tr>\n",
       "    <tr>\n",
       "      <th>mean</th>\n",
       "      <td>2271.150814</td>\n",
       "      <td>57.857947</td>\n",
       "      <td>0.328692</td>\n",
       "      <td>0.332134</td>\n",
       "      <td>0.062109</td>\n",
       "      <td>0.062891</td>\n",
       "      <td>0.049906</td>\n",
       "      <td>0.031758</td>\n",
       "      <td>0.047872</td>\n",
       "      <td>0.248436</td>\n",
       "    </tr>\n",
       "    <tr>\n",
       "      <th>std</th>\n",
       "      <td>1417.559018</td>\n",
       "      <td>11.727737</td>\n",
       "      <td>0.469775</td>\n",
       "      <td>0.471016</td>\n",
       "      <td>0.241372</td>\n",
       "      <td>0.242786</td>\n",
       "      <td>0.217768</td>\n",
       "      <td>0.175370</td>\n",
       "      <td>0.213513</td>\n",
       "      <td>0.432139</td>\n",
       "    </tr>\n",
       "    <tr>\n",
       "      <th>min</th>\n",
       "      <td>0.000000</td>\n",
       "      <td>1.000000</td>\n",
       "      <td>0.000000</td>\n",
       "      <td>0.000000</td>\n",
       "      <td>0.000000</td>\n",
       "      <td>0.000000</td>\n",
       "      <td>0.000000</td>\n",
       "      <td>0.000000</td>\n",
       "      <td>0.000000</td>\n",
       "      <td>0.000000</td>\n",
       "    </tr>\n",
       "    <tr>\n",
       "      <th>25%</th>\n",
       "      <td>920.750000</td>\n",
       "      <td>51.000000</td>\n",
       "      <td>0.000000</td>\n",
       "      <td>0.000000</td>\n",
       "      <td>0.000000</td>\n",
       "      <td>0.000000</td>\n",
       "      <td>0.000000</td>\n",
       "      <td>0.000000</td>\n",
       "      <td>0.000000</td>\n",
       "      <td>0.000000</td>\n",
       "    </tr>\n",
       "    <tr>\n",
       "      <th>50%</th>\n",
       "      <td>2419.500000</td>\n",
       "      <td>59.000000</td>\n",
       "      <td>0.000000</td>\n",
       "      <td>0.000000</td>\n",
       "      <td>0.000000</td>\n",
       "      <td>0.000000</td>\n",
       "      <td>0.000000</td>\n",
       "      <td>0.000000</td>\n",
       "      <td>0.000000</td>\n",
       "      <td>0.000000</td>\n",
       "    </tr>\n",
       "    <tr>\n",
       "      <th>75%</th>\n",
       "      <td>3294.000000</td>\n",
       "      <td>66.000000</td>\n",
       "      <td>1.000000</td>\n",
       "      <td>1.000000</td>\n",
       "      <td>0.000000</td>\n",
       "      <td>0.000000</td>\n",
       "      <td>0.000000</td>\n",
       "      <td>0.000000</td>\n",
       "      <td>0.000000</td>\n",
       "      <td>0.000000</td>\n",
       "    </tr>\n",
       "    <tr>\n",
       "      <th>max</th>\n",
       "      <td>4784.000000</td>\n",
       "      <td>91.000000</td>\n",
       "      <td>1.000000</td>\n",
       "      <td>1.000000</td>\n",
       "      <td>1.000000</td>\n",
       "      <td>1.000000</td>\n",
       "      <td>1.000000</td>\n",
       "      <td>1.000000</td>\n",
       "      <td>1.000000</td>\n",
       "      <td>1.000000</td>\n",
       "    </tr>\n",
       "  </tbody>\n",
       "</table>\n",
       "</div>"
      ],
      "text/plain": [
       "                ID  Patient Age            N            D            G  \\\n",
       "count  6392.000000  6392.000000  6392.000000  6392.000000  6392.000000   \n",
       "mean   2271.150814    57.857947     0.328692     0.332134     0.062109   \n",
       "std    1417.559018    11.727737     0.469775     0.471016     0.241372   \n",
       "min       0.000000     1.000000     0.000000     0.000000     0.000000   \n",
       "25%     920.750000    51.000000     0.000000     0.000000     0.000000   \n",
       "50%    2419.500000    59.000000     0.000000     0.000000     0.000000   \n",
       "75%    3294.000000    66.000000     1.000000     1.000000     0.000000   \n",
       "max    4784.000000    91.000000     1.000000     1.000000     1.000000   \n",
       "\n",
       "                 C            A            H            M            O  \n",
       "count  6392.000000  6392.000000  6392.000000  6392.000000  6392.000000  \n",
       "mean      0.062891     0.049906     0.031758     0.047872     0.248436  \n",
       "std       0.242786     0.217768     0.175370     0.213513     0.432139  \n",
       "min       0.000000     0.000000     0.000000     0.000000     0.000000  \n",
       "25%       0.000000     0.000000     0.000000     0.000000     0.000000  \n",
       "50%       0.000000     0.000000     0.000000     0.000000     0.000000  \n",
       "75%       0.000000     0.000000     0.000000     0.000000     0.000000  \n",
       "max       1.000000     1.000000     1.000000     1.000000     1.000000  "
      ]
     },
     "execution_count": 11,
     "metadata": {},
     "output_type": "execute_result"
    }
   ],
   "source": [
    "df.describe()"
   ]
  },
  {
   "cell_type": "markdown",
   "id": "718f7291",
   "metadata": {},
   "source": [
    "How many patients have two diseases ?"
   ]
  },
  {
   "cell_type": "code",
   "execution_count": 30,
   "id": "cfb0660e",
   "metadata": {
    "scrolled": true
   },
   "outputs": [
    {
     "data": {
      "text/plain": [
       "0.15660200250312892"
      ]
     },
     "execution_count": 30,
     "metadata": {},
     "output_type": "execute_result"
    }
   ],
   "source": [
    "targets = df[['N','D','G','C','A','H', 'M', 'O']]\n",
    "perc_two_diseases = len(df[targets.sum(axis=1) > 1])/len(df)\n",
    "perc_two_diseases"
   ]
  },
  {
   "cell_type": "markdown",
   "id": "cc7616a1",
   "metadata": {},
   "source": [
    "## Separate left and right eyes by keyword"
   ]
  },
  {
   "cell_type": "code",
   "execution_count": 57,
   "id": "e8a99497",
   "metadata": {},
   "outputs": [
    {
     "data": {
      "text/plain": [
       "array(['cataract', 'normal fundus',\n",
       "       'laser spot，moderate non proliferative retinopathy',\n",
       "       'macular epiretinal membrane',\n",
       "       'moderate non proliferative retinopathy', 'drusen',\n",
       "       'epiretinal membrane',\n",
       "       'moderate non proliferative retinopathy，hypertensive retinopathy',\n",
       "       'pathological myopia', 'mild nonproliferative retinopathy',\n",
       "       'hypertensive retinopathy',\n",
       "       'macular epiretinal membrane，mild nonproliferative retinopathy',\n",
       "       'macular hole', 'wet age-related macular degeneration',\n",
       "       'moderate non proliferative retinopathy，laser spot',\n",
       "       'moderate non proliferative retinopathy，myelinated nerve fibers',\n",
       "       'dry age-related macular degeneration',\n",
       "       'epiretinal membrane，myelinated nerve fibers',\n",
       "       'diabetic retinopathy', 'epiretinal membrane，lens dust', 'atrophy',\n",
       "       'laser spot，white vessel，moderate non proliferative retinopathy',\n",
       "       'chorioretinal atrophy',\n",
       "       'moderate non proliferative retinopathy，cataract',\n",
       "       'retinitis pigmentosa',\n",
       "       'moderate non proliferative retinopathy，retina fold',\n",
       "       'normal fundus，lens dust', 'suspected glaucoma',\n",
       "       'vitreous degeneration', 'branch retinal vein occlusion',\n",
       "       'retinal pigment epithelium atrophy，diabetic retinopathy',\n",
       "       'severe nonproliferative retinopathy，white vessel',\n",
       "       'moderate non proliferative retinopathy，epiretinal membrane',\n",
       "       'spotted membranous change，spotted membranous change',\n",
       "       'proliferative diabetic retinopathy，hypertensive retinopathy',\n",
       "       'epiretinal membrane，mild nonproliferative retinopathy',\n",
       "       'drusen，lens dust', 'myelinated nerve fibers',\n",
       "       'macular epiretinal membrane，moderate non proliferative retinopathy',\n",
       "       'severe nonproliferative retinopathy，hypertensive retinopathy',\n",
       "       'retinal pigmentation', 'glaucoma', 'refractive media opacity',\n",
       "       'mild nonproliferative retinopathy，epiretinal membrane',\n",
       "       'mild nonproliferative retinopathy，myelinated nerve fibers',\n",
       "       'dry age-related macular degeneration，glaucoma',\n",
       "       'lens dust，vitreous degeneration',\n",
       "       'laser spot，severe proliferative diabetic retinopathy',\n",
       "       'spotted membranous change',\n",
       "       'lens dust，moderate non proliferative retinopathy',\n",
       "       'mild nonproliferative retinopathy，epiretinal membrane over the macula',\n",
       "       'mild nonproliferative retinopathy，macular epiretinal membrane',\n",
       "       'central retinal vein occlusion',\n",
       "       'severe nonproliferative retinopathy',\n",
       "       'dry age-related macular degeneration，diabetic retinopathy',\n",
       "       'epiretinal membrane，moderate non proliferative retinopathy',\n",
       "       'lens dust，normal fundus',\n",
       "       'depigmentation of the retinal pigment epithelium',\n",
       "       'suspected retinal vascular sheathing',\n",
       "       'maculopathy，macular epiretinal membrane', 'tessellated fundus',\n",
       "       'moderate non proliferative retinopathy，lens dust',\n",
       "       'macular coloboma',\n",
       "       'white vessel，severe nonproliferative retinopathy',\n",
       "       'moderate non proliferative retinopathy，branch retinal vein occlusion',\n",
       "       'macular epiretinal membrane，vessel tortuosity',\n",
       "       'hypertensive retinopathy,diabetic retinopathy',\n",
       "       'hypertensive retinopathy，optic nerve atrophy',\n",
       "       'wedge white line change',\n",
       "       'moderate non proliferative retinopathy，drusen',\n",
       "       'epiretinal membrane over the macula',\n",
       "       'mild nonproliferative retinopathy，drusen',\n",
       "       'white vessel，moderate non proliferative retinopathy',\n",
       "       'hypertensive retinopathy，suspected glaucoma',\n",
       "       'old choroiditis，macular epiretinal membrane',\n",
       "       'myopic maculopathy',\n",
       "       'macular epiretinal membrane，severe nonproliferative retinopathy',\n",
       "       'chorioretinal atrophy with pigmentation proliferation，epiretinal membrane',\n",
       "       'laser spot',\n",
       "       'chorioretinal atrophy with pigmentation proliferation',\n",
       "       'laser spot，proliferative diabetic retinopathy，white vessel',\n",
       "       'lens dust，macular epiretinal membrane',\n",
       "       'laser spot，mild nonproliferative retinopathy',\n",
       "       'pigment epithelium proliferation',\n",
       "       'optic disk epiretinal membrane', 'drusen，cataract，lens dust',\n",
       "       'chorioretinal atrophy with pigmentation proliferation，lens dust',\n",
       "       'macular epiretinal membrane，lens dust',\n",
       "       'moderate non proliferative retinopathy，macular epiretinal membrane',\n",
       "       'mild nonproliferative retinopathy，vitreous degeneration',\n",
       "       'vitreous degeneration，mild nonproliferative retinopathy',\n",
       "       'optic disk photographically invisible',\n",
       "       'moderate non proliferative retinopathy，chorioretinal atrophy',\n",
       "       'epiretinal membrane over the macula，white vessel',\n",
       "       'laser spot，white vessel',\n",
       "       'laser spot，moderate non proliferative retinopathy，macular epiretinal membrane',\n",
       "       'maculopathy',\n",
       "       'mild nonproliferative retinopathy，retinal pigmentation',\n",
       "       'hypertensive retinopathy，mild nonproliferative retinopathy',\n",
       "       'moderate non proliferative retinopathy，white vessel',\n",
       "       'mild nonproliferative retinopathy，mild nonproliferative retinopathy',\n",
       "       'severe proliferative diabetic retinopathy', 'cataract，lens dust',\n",
       "       'epiretinal membrane，drusen', 'lens dust，drusen',\n",
       "       'cataract，suspected glaucoma',\n",
       "       'epiretinal membrane，laser spot，severe proliferative diabetic retinopathy',\n",
       "       'moderate non proliferative retinopathy，optic disc edema',\n",
       "       'moderate non proliferative retinopathy，vitreous degeneration',\n",
       "       'old chorioretinopathy', 'old branch retinal vein occlusion',\n",
       "       'vitreous degeneration，vitreous degeneration',\n",
       "       'macular epiretinal membrane，moderate non proliferative retinopathy，laser spot',\n",
       "       'suspected glaucoma，suspicious diabetic retinopathy',\n",
       "       'hypertensive retinopathy，suspected diabetic retinopathy',\n",
       "       'myelinated nerve fibers，moderate non proliferative retinopathy',\n",
       "       'branch retinal vein occlusion，lens dust',\n",
       "       'drusen，branch retinal vein occlusion',\n",
       "       'hypertensive retinopathy，moderate non proliferative retinopathy',\n",
       "       'idiopathic choroidal neovascularization',\n",
       "       'wet age-related macular degeneration，diffuse chorioretinal atrophy',\n",
       "       'proliferative diabetic retinopathy',\n",
       "       'drusen，mild nonproliferative retinopathy',\n",
       "       'cataract，moderate non proliferative retinopathy',\n",
       "       'epiretinal membrane，normal fundus，lens dust',\n",
       "       'moderate non proliferative retinopathy，atrophic change',\n",
       "       'suspected glaucoma，moderate non proliferative retinopathy',\n",
       "       'dry age-related macular degeneration，myopia retinopathy',\n",
       "       'diabetic retinopathy，wet age-related macular degeneration',\n",
       "       'lens dust，mild nonproliferative retinopathy，myelinated nerve fibers',\n",
       "       'diabetic retinopathy，post laser photocoagulation',\n",
       "       'dry age-related macular degeneration，hypertensive retinopathy',\n",
       "       'laser spot，branch retinal vein occlusion',\n",
       "       'white vessel，arteriosclerosis', 'silicone oil eye',\n",
       "       'epiretinal membrane，chorioretinal atrophy', 'optic disc edema',\n",
       "       'dry age-related macular degeneration，choroidal nevus',\n",
       "       'glaucoma，optic nerve atrophy', 'glaucoma，myopia retinopathy',\n",
       "       'glaucoma，macular epiretinal membrane',\n",
       "       'glaucoma，diabetic retinopathy', 'image offset',\n",
       "       'glaucoma，diffuse retinal atrophy',\n",
       "       'old central retinal vein occlusion',\n",
       "       'fundus laser photocoagulation spots',\n",
       "       'glaucoma，intraretinal hemorrhage',\n",
       "       'glaucoma，hypertensive retinopathy',\n",
       "       'glaucoma，central retinal vein occlusion',\n",
       "       'macular epiretinal membrane，glaucoma',\n",
       "       'suspected glaucoma，refractive media opacity',\n",
       "       'suspected glaucoma，mild nonproliferative retinopathy',\n",
       "       'white vessel，suspected glaucoma', 'suspected glaucoma，drusen',\n",
       "       'glaucoma，moderate non proliferative retinopathy',\n",
       "       'lens dust，glaucoma',\n",
       "       'moderate non proliferative retinopathy，glaucoma',\n",
       "       'refractive media opacity，pathological myopia',\n",
       "       'lens dust，pathological myopia',\n",
       "       'suspected moderate non proliferative retinopathy，pathological myopia',\n",
       "       'tessellated fundus，peripapillary atrophy',\n",
       "       'tessellated fundus，chorioretinal atrophy',\n",
       "       'moderate non proliferative retinopathy，pathological myopia',\n",
       "       'peripapillary atrophy', 'anterior segment image',\n",
       "       'laser spot，chorioretinal atrophy，glaucoma',\n",
       "       'diabetic retinopathy，dry age-related macular degeneration',\n",
       "       'glaucoma，lens dust',\n",
       "       'cataract，myelinated nerve fibers，moderate non proliferative retinopathy',\n",
       "       'maculopathy，glaucoma',\n",
       "       'myelinated nerve fibers，suspected glaucoma',\n",
       "       'hypertensive retinopathy，cataract',\n",
       "       'hypertensive retinopathy，diabetic retinopathy',\n",
       "       'diabetic retinopathy，wet age-related macular degeneration，macular epiretinal membrane',\n",
       "       'moderate non proliferative retinopathy，refractive media opacity',\n",
       "       'laser spot，cataract',\n",
       "       'cataract，mild nonproliferative retinopathy', 'lens dust，cataract',\n",
       "       'normal fundus，normal fundus', 'low image quality',\n",
       "       'mild nonproliferative retinopathy，hypertensive retinopathy',\n",
       "       'mild nonproliferative retinopathy，dry age-related macular degeneration',\n",
       "       'no fundus image',\n",
       "       'hypertensive retinopathy，age-related macular degeneration',\n",
       "       'epiretinal membrane，moderate non proliferative retinopathy，laser spot',\n",
       "       'vitreous degeneration，lens dust', 'low image quality,maculopathy',\n",
       "       'moderate non proliferative retinopathy，lens dust，drusen',\n",
       "       'mild nonproliferative retinopathy，lens dust，drusen',\n",
       "       'wet age-related macular degeneration，myopia retinopathy',\n",
       "       'macular epiretinal membrane，laser spot',\n",
       "       'epiretinal membrane，epiretinal membrane，lens dust',\n",
       "       'moderate non proliferative retinopathy，myelinated nerve fibers，laser spot',\n",
       "       'glaucoma，mild nonproliferative retinopathy，macular pigmentation disorder',\n",
       "       'moderate non proliferative retinopathy，suspected glaucoma',\n",
       "       'glaucoma，wet age-related macular degeneration'], dtype=object)"
      ]
     },
     "execution_count": 57,
     "metadata": {},
     "output_type": "execute_result"
    }
   ],
   "source": [
    " df['Left-Diagnostic Keywords'].unique()"
   ]
  },
  {
   "cell_type": "markdown",
   "id": "67e74135",
   "metadata": {},
   "source": [
    "### Normal"
   ]
  },
  {
   "cell_type": "code",
   "execution_count": 125,
   "id": "187fb2f6",
   "metadata": {},
   "outputs": [],
   "source": [
    "boollist_left = []\n",
    "boollist_right = []\n",
    "for keyword_left, keyword_right in zip(df['Left-Diagnostic Keywords'],df['Right-Diagnostic Keywords']) :\n",
    "    boollist_left.append('normal fundus' in keyword_left and not ('epiretinal membrane') in keyword_left)\n",
    "    boollist_right.append('normal fundus' in keyword_right and not ('epiretinal membrane') in keyword_right)"
   ]
  },
  {
   "cell_type": "code",
   "execution_count": 126,
   "id": "178f65da",
   "metadata": {},
   "outputs": [],
   "source": [
    "boollist_tot = [elem1 and elem2 for elem1, elem2 in zip(boollist_left,boollist_right)]"
   ]
  },
  {
   "cell_type": "code",
   "execution_count": 131,
   "id": "7f280dd7",
   "metadata": {},
   "outputs": [
    {
     "data": {
      "text/plain": [
       "0"
      ]
     },
     "execution_count": 131,
     "metadata": {},
     "output_type": "execute_result"
    }
   ],
   "source": [
    "(df[boollist_tot]['N'] == 0).sum()"
   ]
  },
  {
   "cell_type": "code",
   "execution_count": 133,
   "id": "1d73d5f0",
   "metadata": {},
   "outputs": [
    {
     "data": {
      "text/html": [
       "<div>\n",
       "<style scoped>\n",
       "    .dataframe tbody tr th:only-of-type {\n",
       "        vertical-align: middle;\n",
       "    }\n",
       "\n",
       "    .dataframe tbody tr th {\n",
       "        vertical-align: top;\n",
       "    }\n",
       "\n",
       "    .dataframe thead th {\n",
       "        text-align: right;\n",
       "    }\n",
       "</style>\n",
       "<table border=\"1\" class=\"dataframe\">\n",
       "  <thead>\n",
       "    <tr style=\"text-align: right;\">\n",
       "      <th></th>\n",
       "      <th>ID</th>\n",
       "      <th>Patient Age</th>\n",
       "      <th>Patient Sex</th>\n",
       "      <th>Left-Fundus</th>\n",
       "      <th>Right-Fundus</th>\n",
       "      <th>Left-Diagnostic Keywords</th>\n",
       "      <th>Right-Diagnostic Keywords</th>\n",
       "      <th>N</th>\n",
       "      <th>D</th>\n",
       "      <th>G</th>\n",
       "      <th>C</th>\n",
       "      <th>A</th>\n",
       "      <th>H</th>\n",
       "      <th>M</th>\n",
       "      <th>O</th>\n",
       "      <th>filepath</th>\n",
       "      <th>labels</th>\n",
       "      <th>target</th>\n",
       "      <th>filename</th>\n",
       "    </tr>\n",
       "  </thead>\n",
       "  <tbody>\n",
       "    <tr>\n",
       "      <th>2854</th>\n",
       "      <td>4290</td>\n",
       "      <td>51</td>\n",
       "      <td>Male</td>\n",
       "      <td>4290_left.jpg</td>\n",
       "      <td>4290_right.jpg</td>\n",
       "      <td>low image quality</td>\n",
       "      <td>normal fundus</td>\n",
       "      <td>1</td>\n",
       "      <td>0</td>\n",
       "      <td>0</td>\n",
       "      <td>0</td>\n",
       "      <td>0</td>\n",
       "      <td>0</td>\n",
       "      <td>0</td>\n",
       "      <td>0</td>\n",
       "      <td>../input/ocular-disease-recognition-odir5k/ODI...</td>\n",
       "      <td>['N']</td>\n",
       "      <td>[1, 0, 0, 0, 0, 0, 0, 0]</td>\n",
       "      <td>4290_right.jpg</td>\n",
       "    </tr>\n",
       "  </tbody>\n",
       "</table>\n",
       "</div>"
      ],
      "text/plain": [
       "        ID  Patient Age Patient Sex    Left-Fundus    Right-Fundus  \\\n",
       "2854  4290           51        Male  4290_left.jpg  4290_right.jpg   \n",
       "\n",
       "     Left-Diagnostic Keywords Right-Diagnostic Keywords  N  D  G  C  A  H  M  \\\n",
       "2854        low image quality             normal fundus  1  0  0  0  0  0  0   \n",
       "\n",
       "      O                                           filepath labels  \\\n",
       "2854  0  ../input/ocular-disease-recognition-odir5k/ODI...  ['N']   \n",
       "\n",
       "                        target        filename  \n",
       "2854  [1, 0, 0, 0, 0, 0, 0, 0]  4290_right.jpg  "
      ]
     },
     "execution_count": 133,
     "metadata": {},
     "output_type": "execute_result"
    }
   ],
   "source": [
    "df[[not elem for elem in boollist_tot]][df[[not elem for elem in boollist_tot]]['N'] == 1]"
   ]
  },
  {
   "cell_type": "code",
   "execution_count": 134,
   "id": "3dbeef56",
   "metadata": {},
   "outputs": [],
   "source": [
    "boollist_left = []\n",
    "boollist_right = []\n",
    "for keyword_left, keyword_right in zip(df['Left-Diagnostic Keywords'],df['Right-Diagnostic Keywords']) :\n",
    "    boollist_left.append('low image quality' in keyword_left)\n",
    "    boollist_right.append('low image quality' in keyword_right)"
   ]
  },
  {
   "cell_type": "code",
   "execution_count": 137,
   "id": "d6e3cd50",
   "metadata": {},
   "outputs": [],
   "source": [
    "boollist_tot = [elem1 or elem2 for elem1, elem2 in zip(boollist_left,boollist_right)]"
   ]
  },
  {
   "cell_type": "code",
   "execution_count": 139,
   "id": "fce35d80",
   "metadata": {},
   "outputs": [
    {
     "data": {
      "text/plain": [
       "18"
      ]
     },
     "execution_count": 139,
     "metadata": {},
     "output_type": "execute_result"
    }
   ],
   "source": [
    "len(df[boollist_tot])"
   ]
  },
  {
   "cell_type": "markdown",
   "id": "b52a8814",
   "metadata": {},
   "source": [
    "### Diabetes"
   ]
  },
  {
   "cell_type": "code",
   "execution_count": 75,
   "id": "a23cfa39",
   "metadata": {},
   "outputs": [],
   "source": [
    "boollist_left = []\n",
    "boollist_right = []\n",
    "for keyword_left, keyword_right in zip(df['Left-Diagnostic Keywords'],df['Right-Diagnostic Keywords']) :\n",
    "    boollist_left.append(('proliferative retinopathy' in keyword_left) or ('diabetic' in keyword_left))\n",
    "    boollist_right.append(('proliferative retinopathy' in keyword_right) or ('diabetic' in keyword_right))"
   ]
  },
  {
   "cell_type": "code",
   "execution_count": 78,
   "id": "30a053ac",
   "metadata": {},
   "outputs": [],
   "source": [
    "boollist_tot = [elem1 or elem2 for elem1, elem2 in zip(boollist_left,boollist_right)]\n"
   ]
  },
  {
   "cell_type": "code",
   "execution_count": 79,
   "id": "a5771cf6",
   "metadata": {},
   "outputs": [
    {
     "data": {
      "text/plain": [
       "0"
      ]
     },
     "execution_count": 79,
     "metadata": {},
     "output_type": "execute_result"
    }
   ],
   "source": [
    "(df[boollist_tot]['D'] == 0).sum()"
   ]
  },
  {
   "cell_type": "code",
   "execution_count": 80,
   "id": "7b70747a",
   "metadata": {
    "scrolled": true
   },
   "outputs": [
    {
     "data": {
      "text/plain": [
       "0"
      ]
     },
     "execution_count": 80,
     "metadata": {},
     "output_type": "execute_result"
    }
   ],
   "source": [
    "(df[[not elem for elem in (boollist_tot)]]['D'] == 1).sum()"
   ]
  },
  {
   "cell_type": "markdown",
   "id": "2ce86463",
   "metadata": {},
   "source": [
    "   ### Glaucoma"
   ]
  },
  {
   "cell_type": "code",
   "execution_count": 142,
   "id": "235658cb",
   "metadata": {},
   "outputs": [
    {
     "data": {
      "text/plain": [
       "397"
      ]
     },
     "execution_count": 142,
     "metadata": {},
     "output_type": "execute_result"
    }
   ],
   "source": [
    "(df['G'] == 1).sum()"
   ]
  },
  {
   "cell_type": "code",
   "execution_count": 143,
   "id": "a8bdf0f2",
   "metadata": {},
   "outputs": [],
   "source": [
    "boollist_left = []\n",
    "boollist_right = []\n",
    "for keyword_left, keyword_right in zip(df['Left-Diagnostic Keywords'],df['Right-Diagnostic Keywords']) :\n",
    "    boollist_left.append('glaucoma' in keyword_left)\n",
    "    boollist_right.append('glaucoma' in keyword_right)"
   ]
  },
  {
   "cell_type": "code",
   "execution_count": 144,
   "id": "b120f0bd",
   "metadata": {},
   "outputs": [],
   "source": [
    "boollist_tot = [elem1 or elem2 for elem1, elem2 in zip(boollist_left,boollist_right)]"
   ]
  },
  {
   "cell_type": "code",
   "execution_count": 146,
   "id": "2e138d35",
   "metadata": {},
   "outputs": [
    {
     "data": {
      "text/plain": [
       "0"
      ]
     },
     "execution_count": 146,
     "metadata": {},
     "output_type": "execute_result"
    }
   ],
   "source": [
    "(df[boollist_tot]['G'] == 0).sum()"
   ]
  },
  {
   "cell_type": "code",
   "execution_count": 148,
   "id": "21347665",
   "metadata": {},
   "outputs": [
    {
     "data": {
      "text/plain": [
       "397"
      ]
     },
     "execution_count": 148,
     "metadata": {},
     "output_type": "execute_result"
    }
   ],
   "source": [
    "len(df[boollist_tot])"
   ]
  },
  {
   "cell_type": "code",
   "execution_count": 147,
   "id": "15a9b2ed",
   "metadata": {},
   "outputs": [
    {
     "data": {
      "text/plain": [
       "0"
      ]
     },
     "execution_count": 147,
     "metadata": {},
     "output_type": "execute_result"
    }
   ],
   "source": [
    "(df[[not elem for elem in (boollist_tot)]]['G'] == 1).sum()"
   ]
  },
  {
   "cell_type": "markdown",
   "id": "7401e832",
   "metadata": {},
   "source": [
    "### Cataract"
   ]
  },
  {
   "cell_type": "code",
   "execution_count": 149,
   "id": "be6c41d6",
   "metadata": {
    "scrolled": true
   },
   "outputs": [
    {
     "data": {
      "text/plain": [
       "402"
      ]
     },
     "execution_count": 149,
     "metadata": {},
     "output_type": "execute_result"
    }
   ],
   "source": [
    "(df['C'] == 1).sum()"
   ]
  },
  {
   "cell_type": "code",
   "execution_count": 150,
   "id": "1930ca7c",
   "metadata": {},
   "outputs": [],
   "source": [
    "boollist_left = []\n",
    "boollist_right = []\n",
    "for keyword_left, keyword_right in zip(df['Left-Diagnostic Keywords'],df['Right-Diagnostic Keywords']) :\n",
    "    boollist_left.append('cataract' in keyword_left)\n",
    "    boollist_right.append('cataract' in keyword_right)"
   ]
  },
  {
   "cell_type": "code",
   "execution_count": 151,
   "id": "9a0383ea",
   "metadata": {},
   "outputs": [],
   "source": [
    "boollist_tot = [elem1 or elem2 for elem1, elem2 in zip(boollist_left,boollist_right)]"
   ]
  },
  {
   "cell_type": "code",
   "execution_count": 152,
   "id": "1e60ebc1",
   "metadata": {},
   "outputs": [
    {
     "data": {
      "text/plain": [
       "0"
      ]
     },
     "execution_count": 152,
     "metadata": {},
     "output_type": "execute_result"
    }
   ],
   "source": [
    "(df[boollist_tot]['C'] == 0).sum()"
   ]
  },
  {
   "cell_type": "code",
   "execution_count": 153,
   "id": "0d224461",
   "metadata": {},
   "outputs": [
    {
     "data": {
      "text/plain": [
       "402"
      ]
     },
     "execution_count": 153,
     "metadata": {},
     "output_type": "execute_result"
    }
   ],
   "source": [
    "len(df[boollist_tot])"
   ]
  },
  {
   "cell_type": "code",
   "execution_count": 155,
   "id": "ba2152fa",
   "metadata": {
    "scrolled": true
   },
   "outputs": [
    {
     "data": {
      "text/plain": [
       "0"
      ]
     },
     "execution_count": 155,
     "metadata": {},
     "output_type": "execute_result"
    }
   ],
   "source": [
    "(df[[not elem for elem in (boollist_tot)]]['C'] == 1).sum()"
   ]
  },
  {
   "cell_type": "markdown",
   "id": "f26ec316",
   "metadata": {},
   "source": [
    "### Other"
   ]
  },
  {
   "cell_type": "code",
   "execution_count": 258,
   "id": "0e5c4a5e",
   "metadata": {},
   "outputs": [],
   "source": [
    "boollist_left = []\n",
    "boollist_right = []\n",
    "for keyword_left, keyword_right in zip(df['Left-Diagnostic Keywords'],df['Right-Diagnostic Keywords']) :\n",
    "    boollist_left.append('laser' in keyword_left \n",
    "                         or 'lens' in keyword_left \n",
    "                         or 'macular' in keyword_left \n",
    "                         or 'vitreous' in keyword_left \n",
    "                         #or 'drusen' in keyword_left \n",
    "                         or 'abnormal' in keyword_left\n",
    "                         or 'epiretinal membrane' in keyword_left\n",
    "                         or 'myelinated nerve fibers' in keyword_left \n",
    "                         or 'refractive' in keyword_left \n",
    "                         or 'maculopathy' in keyword_left) \n",
    "                         #or 'atroph' in keyword_left \n",
    "                         #or 'hemorrhage' in keyword_left \n",
    "                         #or 'occlusion' in keyword_left \n",
    "                         #or 'pigment' in keyword_left \n",
    "                         #or 'spot' in keyword_left)\n",
    "    boollist_right.append('laser' in keyword_right \n",
    "                          or 'lens' in keyword_right \n",
    "                          or 'macular' in keyword_right \n",
    "                          or 'vitreous' in keyword_right \n",
    "                          #or 'drusen' in keyword_right \n",
    "                          or 'abnormal' in keyword_right \n",
    "                          or 'epiretinal membrane' in keyword_right \n",
    "                          or 'myelinated nerve fibers' in keyword_right\n",
    "                          or 'refractive' in keyword_right\n",
    "                          or 'maculopathy' in keyword_right)\n",
    "                          #or 'atroph' in keyword_right   \n",
    "                          #or 'hemorrhage' in keyword_right\n",
    "                          #or 'occlusion' in keyword_right \n",
    "                          #or 'pigment' in keyword_right \n",
    "                          #or 'spot' in keyword_right )\n",
    "    "
   ]
  },
  {
   "cell_type": "code",
   "execution_count": 259,
   "id": "dd57be87",
   "metadata": {},
   "outputs": [],
   "source": [
    "boollist_tot = [elem1 or elem2 for elem1, elem2 in zip(boollist_left,boollist_right)]"
   ]
  },
  {
   "cell_type": "code",
   "execution_count": 265,
   "id": "a1e8d2d0",
   "metadata": {},
   "outputs": [],
   "source": [
    "import numpy as np"
   ]
  },
  {
   "cell_type": "code",
   "execution_count": 266,
   "id": "23abbaf5",
   "metadata": {
    "scrolled": true
   },
   "outputs": [
    {
     "data": {
      "text/html": [
       "<div>\n",
       "<style scoped>\n",
       "    .dataframe tbody tr th:only-of-type {\n",
       "        vertical-align: middle;\n",
       "    }\n",
       "\n",
       "    .dataframe tbody tr th {\n",
       "        vertical-align: top;\n",
       "    }\n",
       "\n",
       "    .dataframe thead th {\n",
       "        text-align: right;\n",
       "    }\n",
       "</style>\n",
       "<table border=\"1\" class=\"dataframe\">\n",
       "  <thead>\n",
       "    <tr style=\"text-align: right;\">\n",
       "      <th></th>\n",
       "      <th>ID</th>\n",
       "      <th>Patient Age</th>\n",
       "      <th>Patient Sex</th>\n",
       "      <th>Left-Fundus</th>\n",
       "      <th>Right-Fundus</th>\n",
       "      <th>Left-Diagnostic Keywords</th>\n",
       "      <th>Right-Diagnostic Keywords</th>\n",
       "      <th>N</th>\n",
       "      <th>D</th>\n",
       "      <th>G</th>\n",
       "      <th>C</th>\n",
       "      <th>A</th>\n",
       "      <th>H</th>\n",
       "      <th>M</th>\n",
       "      <th>O</th>\n",
       "      <th>filepath</th>\n",
       "      <th>labels</th>\n",
       "      <th>target</th>\n",
       "      <th>filename</th>\n",
       "    </tr>\n",
       "  </thead>\n",
       "  <tbody>\n",
       "    <tr>\n",
       "      <th>6</th>\n",
       "      <td>7</td>\n",
       "      <td>60</td>\n",
       "      <td>Female</td>\n",
       "      <td>7_left.jpg</td>\n",
       "      <td>7_right.jpg</td>\n",
       "      <td>drusen</td>\n",
       "      <td>mild nonproliferative retinopathy</td>\n",
       "      <td>0</td>\n",
       "      <td>1</td>\n",
       "      <td>0</td>\n",
       "      <td>0</td>\n",
       "      <td>0</td>\n",
       "      <td>0</td>\n",
       "      <td>0</td>\n",
       "      <td>1</td>\n",
       "      <td>../input/ocular-disease-recognition-odir5k/ODI...</td>\n",
       "      <td>['D']</td>\n",
       "      <td>[0, 1, 0, 0, 0, 0, 0, 0]</td>\n",
       "      <td>7_right.jpg</td>\n",
       "    </tr>\n",
       "    <tr>\n",
       "      <th>15</th>\n",
       "      <td>17</td>\n",
       "      <td>57</td>\n",
       "      <td>Male</td>\n",
       "      <td>17_left.jpg</td>\n",
       "      <td>17_right.jpg</td>\n",
       "      <td>drusen</td>\n",
       "      <td>drusen</td>\n",
       "      <td>0</td>\n",
       "      <td>0</td>\n",
       "      <td>0</td>\n",
       "      <td>0</td>\n",
       "      <td>0</td>\n",
       "      <td>0</td>\n",
       "      <td>0</td>\n",
       "      <td>1</td>\n",
       "      <td>../input/ocular-disease-recognition-odir5k/ODI...</td>\n",
       "      <td>['O']</td>\n",
       "      <td>[0, 0, 0, 0, 0, 0, 0, 1]</td>\n",
       "      <td>17_right.jpg</td>\n",
       "    </tr>\n",
       "    <tr>\n",
       "      <th>28</th>\n",
       "      <td>34</td>\n",
       "      <td>61</td>\n",
       "      <td>Male</td>\n",
       "      <td>34_left.jpg</td>\n",
       "      <td>34_right.jpg</td>\n",
       "      <td>drusen</td>\n",
       "      <td>drusen</td>\n",
       "      <td>0</td>\n",
       "      <td>0</td>\n",
       "      <td>0</td>\n",
       "      <td>0</td>\n",
       "      <td>0</td>\n",
       "      <td>0</td>\n",
       "      <td>0</td>\n",
       "      <td>1</td>\n",
       "      <td>../input/ocular-disease-recognition-odir5k/ODI...</td>\n",
       "      <td>['O']</td>\n",
       "      <td>[0, 0, 0, 0, 0, 0, 0, 1]</td>\n",
       "      <td>34_right.jpg</td>\n",
       "    </tr>\n",
       "    <tr>\n",
       "      <th>54</th>\n",
       "      <td>66</td>\n",
       "      <td>62</td>\n",
       "      <td>Male</td>\n",
       "      <td>66_left.jpg</td>\n",
       "      <td>66_right.jpg</td>\n",
       "      <td>atrophy</td>\n",
       "      <td>normal fundus</td>\n",
       "      <td>0</td>\n",
       "      <td>0</td>\n",
       "      <td>0</td>\n",
       "      <td>0</td>\n",
       "      <td>0</td>\n",
       "      <td>0</td>\n",
       "      <td>0</td>\n",
       "      <td>1</td>\n",
       "      <td>../input/ocular-disease-recognition-odir5k/ODI...</td>\n",
       "      <td>['N']</td>\n",
       "      <td>[1, 0, 0, 0, 0, 0, 0, 0]</td>\n",
       "      <td>66_right.jpg</td>\n",
       "    </tr>\n",
       "    <tr>\n",
       "      <th>61</th>\n",
       "      <td>75</td>\n",
       "      <td>68</td>\n",
       "      <td>Male</td>\n",
       "      <td>75_left.jpg</td>\n",
       "      <td>75_right.jpg</td>\n",
       "      <td>drusen</td>\n",
       "      <td>drusen</td>\n",
       "      <td>0</td>\n",
       "      <td>0</td>\n",
       "      <td>0</td>\n",
       "      <td>0</td>\n",
       "      <td>0</td>\n",
       "      <td>0</td>\n",
       "      <td>0</td>\n",
       "      <td>1</td>\n",
       "      <td>../input/ocular-disease-recognition-odir5k/ODI...</td>\n",
       "      <td>['O']</td>\n",
       "      <td>[0, 0, 0, 0, 0, 0, 0, 1]</td>\n",
       "      <td>75_right.jpg</td>\n",
       "    </tr>\n",
       "    <tr>\n",
       "      <th>...</th>\n",
       "      <td>...</td>\n",
       "      <td>...</td>\n",
       "      <td>...</td>\n",
       "      <td>...</td>\n",
       "      <td>...</td>\n",
       "      <td>...</td>\n",
       "      <td>...</td>\n",
       "      <td>...</td>\n",
       "      <td>...</td>\n",
       "      <td>...</td>\n",
       "      <td>...</td>\n",
       "      <td>...</td>\n",
       "      <td>...</td>\n",
       "      <td>...</td>\n",
       "      <td>...</td>\n",
       "      <td>...</td>\n",
       "      <td>...</td>\n",
       "      <td>...</td>\n",
       "      <td>...</td>\n",
       "    </tr>\n",
       "    <tr>\n",
       "      <th>4477</th>\n",
       "      <td>1731</td>\n",
       "      <td>72</td>\n",
       "      <td>Female</td>\n",
       "      <td>1731_left.jpg</td>\n",
       "      <td>1731_right.jpg</td>\n",
       "      <td>pathological myopia</td>\n",
       "      <td>moderate non proliferative retinopathy，tessell...</td>\n",
       "      <td>0</td>\n",
       "      <td>1</td>\n",
       "      <td>0</td>\n",
       "      <td>0</td>\n",
       "      <td>0</td>\n",
       "      <td>0</td>\n",
       "      <td>1</td>\n",
       "      <td>1</td>\n",
       "      <td>../input/ocular-disease-recognition-odir5k/ODI...</td>\n",
       "      <td>['M']</td>\n",
       "      <td>[0, 0, 0, 0, 0, 0, 1, 0]</td>\n",
       "      <td>1731_left.jpg</td>\n",
       "    </tr>\n",
       "    <tr>\n",
       "      <th>4551</th>\n",
       "      <td>2048</td>\n",
       "      <td>63</td>\n",
       "      <td>Male</td>\n",
       "      <td>2048_left.jpg</td>\n",
       "      <td>2048_right.jpg</td>\n",
       "      <td>hypertensive retinopathy</td>\n",
       "      <td>glaucoma，old central retinal vein occlusion</td>\n",
       "      <td>0</td>\n",
       "      <td>0</td>\n",
       "      <td>1</td>\n",
       "      <td>0</td>\n",
       "      <td>0</td>\n",
       "      <td>1</td>\n",
       "      <td>0</td>\n",
       "      <td>1</td>\n",
       "      <td>../input/ocular-disease-recognition-odir5k/ODI...</td>\n",
       "      <td>['H']</td>\n",
       "      <td>[0, 0, 0, 0, 0, 1, 0, 0]</td>\n",
       "      <td>2048_left.jpg</td>\n",
       "    </tr>\n",
       "    <tr>\n",
       "      <th>4608</th>\n",
       "      <td>2145</td>\n",
       "      <td>73</td>\n",
       "      <td>Female</td>\n",
       "      <td>2145_left.jpg</td>\n",
       "      <td>2145_right.jpg</td>\n",
       "      <td>cataract</td>\n",
       "      <td>drusen</td>\n",
       "      <td>0</td>\n",
       "      <td>0</td>\n",
       "      <td>0</td>\n",
       "      <td>1</td>\n",
       "      <td>0</td>\n",
       "      <td>0</td>\n",
       "      <td>0</td>\n",
       "      <td>1</td>\n",
       "      <td>../input/ocular-disease-recognition-odir5k/ODI...</td>\n",
       "      <td>['C']</td>\n",
       "      <td>[0, 0, 0, 1, 0, 0, 0, 0]</td>\n",
       "      <td>2145_left.jpg</td>\n",
       "    </tr>\n",
       "    <tr>\n",
       "      <th>4647</th>\n",
       "      <td>2185</td>\n",
       "      <td>72</td>\n",
       "      <td>Female</td>\n",
       "      <td>2185_left.jpg</td>\n",
       "      <td>2185_right.jpg</td>\n",
       "      <td>cataract</td>\n",
       "      <td>drusen</td>\n",
       "      <td>0</td>\n",
       "      <td>0</td>\n",
       "      <td>0</td>\n",
       "      <td>1</td>\n",
       "      <td>0</td>\n",
       "      <td>0</td>\n",
       "      <td>0</td>\n",
       "      <td>1</td>\n",
       "      <td>../input/ocular-disease-recognition-odir5k/ODI...</td>\n",
       "      <td>['C']</td>\n",
       "      <td>[0, 0, 0, 1, 0, 0, 0, 0]</td>\n",
       "      <td>2185_left.jpg</td>\n",
       "    </tr>\n",
       "    <tr>\n",
       "      <th>4663</th>\n",
       "      <td>2204</td>\n",
       "      <td>64</td>\n",
       "      <td>Female</td>\n",
       "      <td>2204_left.jpg</td>\n",
       "      <td>2204_right.jpg</td>\n",
       "      <td>cataract</td>\n",
       "      <td>drusen</td>\n",
       "      <td>0</td>\n",
       "      <td>0</td>\n",
       "      <td>0</td>\n",
       "      <td>1</td>\n",
       "      <td>0</td>\n",
       "      <td>0</td>\n",
       "      <td>0</td>\n",
       "      <td>1</td>\n",
       "      <td>../input/ocular-disease-recognition-odir5k/ODI...</td>\n",
       "      <td>['C']</td>\n",
       "      <td>[0, 0, 0, 1, 0, 0, 0, 0]</td>\n",
       "      <td>2204_left.jpg</td>\n",
       "    </tr>\n",
       "  </tbody>\n",
       "</table>\n",
       "<p>392 rows × 19 columns</p>\n",
       "</div>"
      ],
      "text/plain": [
       "        ID  Patient Age Patient Sex    Left-Fundus    Right-Fundus  \\\n",
       "6        7           60      Female     7_left.jpg     7_right.jpg   \n",
       "15      17           57        Male    17_left.jpg    17_right.jpg   \n",
       "28      34           61        Male    34_left.jpg    34_right.jpg   \n",
       "54      66           62        Male    66_left.jpg    66_right.jpg   \n",
       "61      75           68        Male    75_left.jpg    75_right.jpg   \n",
       "...    ...          ...         ...            ...             ...   \n",
       "4477  1731           72      Female  1731_left.jpg  1731_right.jpg   \n",
       "4551  2048           63        Male  2048_left.jpg  2048_right.jpg   \n",
       "4608  2145           73      Female  2145_left.jpg  2145_right.jpg   \n",
       "4647  2185           72      Female  2185_left.jpg  2185_right.jpg   \n",
       "4663  2204           64      Female  2204_left.jpg  2204_right.jpg   \n",
       "\n",
       "      Left-Diagnostic Keywords  \\\n",
       "6                       drusen   \n",
       "15                      drusen   \n",
       "28                      drusen   \n",
       "54                     atrophy   \n",
       "61                      drusen   \n",
       "...                        ...   \n",
       "4477       pathological myopia   \n",
       "4551  hypertensive retinopathy   \n",
       "4608                  cataract   \n",
       "4647                  cataract   \n",
       "4663                  cataract   \n",
       "\n",
       "                              Right-Diagnostic Keywords  N  D  G  C  A  H  M  \\\n",
       "6                     mild nonproliferative retinopathy  0  1  0  0  0  0  0   \n",
       "15                                               drusen  0  0  0  0  0  0  0   \n",
       "28                                               drusen  0  0  0  0  0  0  0   \n",
       "54                                        normal fundus  0  0  0  0  0  0  0   \n",
       "61                                               drusen  0  0  0  0  0  0  0   \n",
       "...                                                 ... .. .. .. .. .. .. ..   \n",
       "4477  moderate non proliferative retinopathy，tessell...  0  1  0  0  0  0  1   \n",
       "4551        glaucoma，old central retinal vein occlusion  0  0  1  0  0  1  0   \n",
       "4608                                             drusen  0  0  0  1  0  0  0   \n",
       "4647                                             drusen  0  0  0  1  0  0  0   \n",
       "4663                                             drusen  0  0  0  1  0  0  0   \n",
       "\n",
       "      O                                           filepath labels  \\\n",
       "6     1  ../input/ocular-disease-recognition-odir5k/ODI...  ['D']   \n",
       "15    1  ../input/ocular-disease-recognition-odir5k/ODI...  ['O']   \n",
       "28    1  ../input/ocular-disease-recognition-odir5k/ODI...  ['O']   \n",
       "54    1  ../input/ocular-disease-recognition-odir5k/ODI...  ['N']   \n",
       "61    1  ../input/ocular-disease-recognition-odir5k/ODI...  ['O']   \n",
       "...  ..                                                ...    ...   \n",
       "4477  1  ../input/ocular-disease-recognition-odir5k/ODI...  ['M']   \n",
       "4551  1  ../input/ocular-disease-recognition-odir5k/ODI...  ['H']   \n",
       "4608  1  ../input/ocular-disease-recognition-odir5k/ODI...  ['C']   \n",
       "4647  1  ../input/ocular-disease-recognition-odir5k/ODI...  ['C']   \n",
       "4663  1  ../input/ocular-disease-recognition-odir5k/ODI...  ['C']   \n",
       "\n",
       "                        target       filename  \n",
       "6     [0, 1, 0, 0, 0, 0, 0, 0]    7_right.jpg  \n",
       "15    [0, 0, 0, 0, 0, 0, 0, 1]   17_right.jpg  \n",
       "28    [0, 0, 0, 0, 0, 0, 0, 1]   34_right.jpg  \n",
       "54    [1, 0, 0, 0, 0, 0, 0, 0]   66_right.jpg  \n",
       "61    [0, 0, 0, 0, 0, 0, 0, 1]   75_right.jpg  \n",
       "...                        ...            ...  \n",
       "4477  [0, 0, 0, 0, 0, 0, 1, 0]  1731_left.jpg  \n",
       "4551  [0, 0, 0, 0, 0, 1, 0, 0]  2048_left.jpg  \n",
       "4608  [0, 0, 0, 1, 0, 0, 0, 0]  2145_left.jpg  \n",
       "4647  [0, 0, 0, 1, 0, 0, 0, 0]  2185_left.jpg  \n",
       "4663  [0, 0, 0, 1, 0, 0, 0, 0]  2204_left.jpg  \n",
       "\n",
       "[392 rows x 19 columns]"
      ]
     },
     "execution_count": 266,
     "metadata": {},
     "output_type": "execute_result"
    }
   ],
   "source": [
    "df[~np.array(boollist_tot)][df[~np.array(boollist_tot)]['O'] == 1]"
   ]
  },
  {
   "cell_type": "markdown",
   "id": "ca5f2848",
   "metadata": {},
   "source": [
    "### Labelling"
   ]
  },
  {
   "cell_type": "code",
   "execution_count": 289,
   "id": "5671c4f7",
   "metadata": {
    "scrolled": false
   },
   "outputs": [],
   "source": [
    "labels_left = [[] for i in df['Left-Diagnostic Keywords']]\n",
    "for i,keyword in enumerate(df['Left-Diagnostic Keywords']):\n",
    "    labels_left[i] = ''\n",
    "    if 'normal fundus' in keyword and not 'epiretinal membrane' in keyword:\n",
    "        labels_left[i] = labels_left[i] + 'N'\n",
    "    if 'cataract' in keyword:\n",
    "        labels_left[i] = labels_left[i] +'C'\n",
    "    if 'proliferative retinopathy' in keyword:\n",
    "        labels_left[i] = labels_left[i] + 'D'\n",
    "    if 'diabetic' in keyword:\n",
    "        labels_left[i] = labels_left[i] + 'D'\n",
    "    if 'glaucoma' in keyword:\n",
    "        labels_left[i] = labels_left[i] + 'G'\n",
    "    if 'hypertensive' in keyword: #See Joao's notebook\n",
    "        labels_left[i] = labels_left[i] + 'H'\n",
    "    if 'myopia' in keyword: #See Joao's notebook\n",
    "        labels_left[i] = labels_left[i] + 'M'\n",
    "    if 'myopic' in keyword:\n",
    "        labels_left[i] = labels_left[i] + 'M'\n",
    "    if 'age' in keyword:\n",
    "        labels_left[i] = labels_left[i] + 'A'\n",
    "    if labels_left[i] == '':\n",
    "        labels_left[i] = labels_left[i] + 'O'\n",
    "        "
   ]
  },
  {
   "cell_type": "code",
   "execution_count": 290,
   "id": "419c73f0",
   "metadata": {},
   "outputs": [],
   "source": [
    "labels_right = [[] for i in df['Right-Diagnostic Keywords']]\n",
    "for i,keyword in enumerate(df['Right-Diagnostic Keywords']):\n",
    "    labels_right[i] = ''\n",
    "    if 'normal fundus' in keyword and not 'epiretinal membrane' in keyword:\n",
    "        labels_right[i] = labels_right[i] + 'N'\n",
    "    if 'cataract' in keyword:\n",
    "        labels_right[i] = labels_right[i] +'C'\n",
    "    if 'proliferative retinopathy' in keyword:\n",
    "        labels_right[i] = labels_right[i] + 'D'\n",
    "    if 'diabetic' in keyword:\n",
    "        labels_right[i] = labels_right[i] + 'D'\n",
    "    if 'glaucoma' in keyword:\n",
    "        labels_right[i] = labels_right[i] + 'G'\n",
    "    if 'hypertensive' in keyword: #See Joao's notebook\n",
    "        labels_right[i] = labels_right[i] + 'H'\n",
    "    if 'myopia' in keyword: #See Joao's notebook\n",
    "        labels_right[i] = labels_right[i] + 'M'\n",
    "    if 'myopic' in keyword:\n",
    "        labels_right[i] = labels_right[i] + 'M'\n",
    "    if 'age' in keyword:\n",
    "        labels_right[i] = labels_right[i] + 'A'\n",
    "    if labels_right[i] == '':\n",
    "        labels_right[i] = labels_right[i] + 'O'"
   ]
  },
  {
   "cell_type": "code",
   "execution_count": 291,
   "id": "a620dfbf",
   "metadata": {},
   "outputs": [],
   "source": [
    "df['labels_right'] = labels_right\n",
    "df['labels_left'] = labels_left"
   ]
  },
  {
   "cell_type": "code",
   "execution_count": 297,
   "id": "c27a960d",
   "metadata": {},
   "outputs": [
    {
     "data": {
      "text/plain": [
       "176"
      ]
     },
     "execution_count": 297,
     "metadata": {},
     "output_type": "execute_result"
    }
   ],
   "source": [
    "(np.array([len(label) for label in df.labels_left]) > 1).sum()"
   ]
  }
 ],
 "metadata": {
  "kernelspec": {
   "display_name": "Python 3 (ipykernel)",
   "language": "python",
   "name": "python3"
  },
  "language_info": {
   "codemirror_mode": {
    "name": "ipython",
    "version": 3
   },
   "file_extension": ".py",
   "mimetype": "text/x-python",
   "name": "python",
   "nbconvert_exporter": "python",
   "pygments_lexer": "ipython3",
   "version": "3.10.6"
  },
  "toc": {
   "base_numbering": 1,
   "nav_menu": {},
   "number_sections": true,
   "sideBar": true,
   "skip_h1_title": false,
   "title_cell": "Table of Contents",
   "title_sidebar": "Contents",
   "toc_cell": false,
   "toc_position": {},
   "toc_section_display": true,
   "toc_window_display": false
  }
 },
 "nbformat": 4,
 "nbformat_minor": 5
}
